{
 "cells": [
  {
   "cell_type": "markdown",
   "id": "4c312afc-db4e-4551-adc7-0cb5c011de2f",
   "metadata": {},
   "source": [
    "# 用户和作者聚类分析"
   ]
  },
  {
   "cell_type": "markdown",
   "id": "1d005535-8c67-41fe-abf0-f5108bc2b41c",
   "metadata": {},
   "source": [
    "对于抖音平台本身而言，如何对用户进行分类，或者分级，然后差异化的提供服务，是一个非常重要的方向"
   ]
  },
  {
   "cell_type": "markdown",
   "id": "5c87e3cd-6f04-4910-9a0d-cada315b2471",
   "metadata": {},
   "source": [
    "对于商务合作和广告投放者而言，如何对作者进行分类，如何选择合作的作者，也是有一定价值的问题"
   ]
  },
  {
   "cell_type": "code",
   "execution_count": 8,
   "id": "fb881e60-b1cf-40ac-9c9f-c352b6072749",
   "metadata": {},
   "outputs": [],
   "source": [
    "import pandas as pd\n",
    "import numpy as np\n",
    "import matplotlib.pyplot as plt\n",
    "import seaborn as sns\n",
    "import matplotlib as mpl"
   ]
  },
  {
   "cell_type": "code",
   "execution_count": 9,
   "id": "ab9618f2-cbfa-4154-ba26-0fdaa7e6f7e3",
   "metadata": {},
   "outputs": [
    {
     "data": {
      "text/html": [
       "<div>\n",
       "<style scoped>\n",
       "    .dataframe tbody tr th:only-of-type {\n",
       "        vertical-align: middle;\n",
       "    }\n",
       "\n",
       "    .dataframe tbody tr th {\n",
       "        vertical-align: top;\n",
       "    }\n",
       "\n",
       "    .dataframe thead th {\n",
       "        text-align: right;\n",
       "    }\n",
       "</style>\n",
       "<table border=\"1\" class=\"dataframe\">\n",
       "  <thead>\n",
       "    <tr style=\"text-align: right;\">\n",
       "      <th></th>\n",
       "      <th>uid</th>\n",
       "      <th>浏览量</th>\n",
       "      <th>点赞量</th>\n",
       "      <th>观看作者数</th>\n",
       "      <th>观看作品数</th>\n",
       "      <th>观看作品平均时长</th>\n",
       "      <th>观看配乐数</th>\n",
       "      <th>完整观看数</th>\n",
       "      <th>去过的城市数</th>\n",
       "      <th>观看作品所在的城市数</th>\n",
       "    </tr>\n",
       "  </thead>\n",
       "  <tbody>\n",
       "    <tr>\n",
       "      <th>0</th>\n",
       "      <td>0</td>\n",
       "      <td>34</td>\n",
       "      <td>0</td>\n",
       "      <td>31</td>\n",
       "      <td>34</td>\n",
       "      <td>12.058824</td>\n",
       "      <td>31</td>\n",
       "      <td>18</td>\n",
       "      <td>1</td>\n",
       "      <td>28</td>\n",
       "    </tr>\n",
       "    <tr>\n",
       "      <th>1</th>\n",
       "      <td>1</td>\n",
       "      <td>28</td>\n",
       "      <td>1</td>\n",
       "      <td>28</td>\n",
       "      <td>28</td>\n",
       "      <td>12.357143</td>\n",
       "      <td>26</td>\n",
       "      <td>14</td>\n",
       "      <td>1</td>\n",
       "      <td>25</td>\n",
       "    </tr>\n",
       "    <tr>\n",
       "      <th>2</th>\n",
       "      <td>2</td>\n",
       "      <td>56</td>\n",
       "      <td>0</td>\n",
       "      <td>56</td>\n",
       "      <td>56</td>\n",
       "      <td>10.357143</td>\n",
       "      <td>47</td>\n",
       "      <td>19</td>\n",
       "      <td>3</td>\n",
       "      <td>45</td>\n",
       "    </tr>\n",
       "    <tr>\n",
       "      <th>3</th>\n",
       "      <td>3</td>\n",
       "      <td>117</td>\n",
       "      <td>1</td>\n",
       "      <td>116</td>\n",
       "      <td>117</td>\n",
       "      <td>9.982906</td>\n",
       "      <td>89</td>\n",
       "      <td>60</td>\n",
       "      <td>1</td>\n",
       "      <td>76</td>\n",
       "    </tr>\n",
       "    <tr>\n",
       "      <th>4</th>\n",
       "      <td>4</td>\n",
       "      <td>123</td>\n",
       "      <td>0</td>\n",
       "      <td>117</td>\n",
       "      <td>123</td>\n",
       "      <td>10.853659</td>\n",
       "      <td>94</td>\n",
       "      <td>77</td>\n",
       "      <td>1</td>\n",
       "      <td>84</td>\n",
       "    </tr>\n",
       "  </tbody>\n",
       "</table>\n",
       "</div>"
      ],
      "text/plain": [
       "   uid  浏览量  点赞量  观看作者数  观看作品数   观看作品平均时长  观看配乐数  完整观看数  去过的城市数  观看作品所在的城市数\n",
       "0    0   34    0     31     34  12.058824     31     18       1          28\n",
       "1    1   28    1     28     28  12.357143     26     14       1          25\n",
       "2    2   56    0     56     56  10.357143     47     19       3          45\n",
       "3    3  117    1    116    117   9.982906     89     60       1          76\n",
       "4    4  123    0    117    123  10.853659     94     77       1          84"
      ]
     },
     "execution_count": 9,
     "metadata": {},
     "output_type": "execute_result"
    }
   ],
   "source": [
    "user_df = pd.read_csv('用户特征.csv')\n",
    "user_df.head()"
   ]
  },
  {
   "cell_type": "code",
   "execution_count": 10,
   "id": "f8699a64-cb32-4a37-970f-b0b6c08e03e9",
   "metadata": {},
   "outputs": [
    {
     "data": {
      "text/html": [
       "<div>\n",
       "<style scoped>\n",
       "    .dataframe tbody tr th:only-of-type {\n",
       "        vertical-align: middle;\n",
       "    }\n",
       "\n",
       "    .dataframe tbody tr th {\n",
       "        vertical-align: top;\n",
       "    }\n",
       "\n",
       "    .dataframe thead th {\n",
       "        text-align: right;\n",
       "    }\n",
       "</style>\n",
       "<table border=\"1\" class=\"dataframe\">\n",
       "  <thead>\n",
       "    <tr style=\"text-align: right;\">\n",
       "      <th></th>\n",
       "      <th>author_id</th>\n",
       "      <th>总作品数</th>\n",
       "      <th>总浏览量</th>\n",
       "      <th>总点赞量</th>\n",
       "      <th>总观完量</th>\n",
       "      <th>使用的配乐数量</th>\n",
       "      <th>去过的城市数</th>\n",
       "      <th>发布作品的日期数</th>\n",
       "      <th>作品的平均时长</th>\n",
       "      <th>创造活跃度(日)</th>\n",
       "    </tr>\n",
       "  </thead>\n",
       "  <tbody>\n",
       "    <tr>\n",
       "      <th>0</th>\n",
       "      <td>0</td>\n",
       "      <td>1</td>\n",
       "      <td>1</td>\n",
       "      <td>0</td>\n",
       "      <td>0</td>\n",
       "      <td>1</td>\n",
       "      <td>1</td>\n",
       "      <td>1</td>\n",
       "      <td>10.000000</td>\n",
       "      <td>1</td>\n",
       "    </tr>\n",
       "    <tr>\n",
       "      <th>1</th>\n",
       "      <td>1</td>\n",
       "      <td>3</td>\n",
       "      <td>16</td>\n",
       "      <td>0</td>\n",
       "      <td>8</td>\n",
       "      <td>3</td>\n",
       "      <td>1</td>\n",
       "      <td>3</td>\n",
       "      <td>8.875000</td>\n",
       "      <td>9</td>\n",
       "    </tr>\n",
       "    <tr>\n",
       "      <th>2</th>\n",
       "      <td>3</td>\n",
       "      <td>1</td>\n",
       "      <td>311</td>\n",
       "      <td>3</td>\n",
       "      <td>203</td>\n",
       "      <td>1</td>\n",
       "      <td>1</td>\n",
       "      <td>1</td>\n",
       "      <td>9.000000</td>\n",
       "      <td>1</td>\n",
       "    </tr>\n",
       "    <tr>\n",
       "      <th>3</th>\n",
       "      <td>5</td>\n",
       "      <td>5</td>\n",
       "      <td>1054</td>\n",
       "      <td>33</td>\n",
       "      <td>485</td>\n",
       "      <td>4</td>\n",
       "      <td>1</td>\n",
       "      <td>5</td>\n",
       "      <td>7.040797</td>\n",
       "      <td>28</td>\n",
       "    </tr>\n",
       "    <tr>\n",
       "      <th>4</th>\n",
       "      <td>8</td>\n",
       "      <td>1</td>\n",
       "      <td>4</td>\n",
       "      <td>0</td>\n",
       "      <td>3</td>\n",
       "      <td>1</td>\n",
       "      <td>1</td>\n",
       "      <td>1</td>\n",
       "      <td>19.000000</td>\n",
       "      <td>1</td>\n",
       "    </tr>\n",
       "  </tbody>\n",
       "</table>\n",
       "</div>"
      ],
      "text/plain": [
       "   author_id  总作品数  总浏览量  总点赞量  总观完量  使用的配乐数量  去过的城市数  发布作品的日期数    作品的平均时长  \\\n",
       "0          0     1     1     0     0        1       1         1  10.000000   \n",
       "1          1     3    16     0     8        3       1         3   8.875000   \n",
       "2          3     1   311     3   203        1       1         1   9.000000   \n",
       "3          5     5  1054    33   485        4       1         5   7.040797   \n",
       "4          8     1     4     0     3        1       1         1  19.000000   \n",
       "\n",
       "   创造活跃度(日)  \n",
       "0         1  \n",
       "1         9  \n",
       "2         1  \n",
       "3        28  \n",
       "4         1  "
      ]
     },
     "execution_count": 10,
     "metadata": {},
     "output_type": "execute_result"
    }
   ],
   "source": [
    "author_df=pd.read_csv(\"作者特征.csv\")\n",
    "author_df.head()"
   ]
  },
  {
   "cell_type": "code",
   "execution_count": 11,
   "id": "853e8dc5-683c-4ad1-914c-e91cbec78c2c",
   "metadata": {},
   "outputs": [
    {
     "data": {
      "text/plain": [
       "0.7097514856834144"
      ]
     },
     "execution_count": 11,
     "metadata": {},
     "output_type": "execute_result"
    }
   ],
   "source": [
    "#筛选出筛选认为至少观看过一个完整短视频且有一定浏览量的用户再进行分析\n",
    "#让分析更有意义\n",
    "user_data=user_df[(user_df['完整观看数']>=1)&(user_df['浏览量']>=5)]\n",
    "len(user_data)/len(user_df)"
   ]
  },
  {
   "cell_type": "markdown",
   "id": "be50d69a-92f5-4656-83e8-501870bad003",
   "metadata": {},
   "source": [
    "筛选出百分之71的数据进行分析"
   ]
  },
  {
   "cell_type": "code",
   "execution_count": 12,
   "id": "b2a88c71-7fff-4e82-bd32-858d0534a1bd",
   "metadata": {},
   "outputs": [
    {
     "data": {
      "text/plain": [
       "0.2990244347629775"
      ]
     },
     "execution_count": 12,
     "metadata": {},
     "output_type": "execute_result"
    }
   ],
   "source": [
    "#对作者数据也进行筛选分析\n",
    "author_data = author_df[(author_df['总观完量']>=1)&(author_df['总浏览量']>=3)]\n",
    "len(author_data)/len(author_df)"
   ]
  },
  {
   "cell_type": "markdown",
   "id": "ff4074af-f4d1-4104-9e99-7c6ef2da6d87",
   "metadata": {},
   "source": [
    "筛选出百分之30的数据"
   ]
  },
  {
   "cell_type": "markdown",
   "id": "6fd57920-ea94-46d2-8968-72cbec0de033",
   "metadata": {},
   "source": [
    "## 聚类方法"
   ]
  },
  {
   "cell_type": "code",
   "execution_count": 13,
   "id": "2ebbc7ab-4e3c-43d8-9d63-a34c5efffd97",
   "metadata": {},
   "outputs": [],
   "source": [
    "from sklearn.cluster import KMeans\n",
    "import joblib\n",
    "from sklearn import metrics\n",
    "from scipy.spatial.distance import cdist\n",
    "import numpy as np"
   ]
  },
  {
   "cell_type": "markdown",
   "id": "f9ff24d9-e3dc-4d53-a10e-fd9448c6a1d6",
   "metadata": {},
   "source": [
    "kmeans聚类，通过sse和sc选择最合适的k值聚类"
   ]
  },
  {
   "cell_type": "code",
   "execution_count": 16,
   "id": "b2f4bf27-df07-4b53-a93e-cd4e7403cf3c",
   "metadata": {},
   "outputs": [],
   "source": [
    "import os\n",
    "os.environ[\"OMP_NUM_THREADS\"] = \"1\"\n",
    "def km(data,name):\n",
    "    k=range(2,10) #选定多个k，找出最合适的\n",
    "    x=data\n",
    "    scores={'sc':[],\"sse\":[]} #结果存储\n",
    "    for _k in k:\n",
    "        #初始化，进行聚类\n",
    "        kmeans=KMeans(n_clusters=_k,random_state=0)\n",
    "        kmeans.fit(x)\n",
    "        _y=kmeans.predict(x) #结果预测\n",
    "        #计算模型评估指标sse和sc\n",
    "        sse=sum(np.min(cdist(x,kmeans.cluster_centers_,'euclidean'),axis=1))/x.shape[0]\n",
    "        sc=metrics.silhouette_score(x,_y)\n",
    "        joblib.dump(kmeans,f'{name}{_k}聚类.model')\n",
    "        #存储评估结果\n",
    "        scores['sse'].append(sse)\n",
    "        scores['sc'].append(sc)\n",
    "        print(f'聚{_k}类计算完成', end='\\t')\n",
    "    joblib.dump(scores, f'{name}聚类指标.score')\n",
    "    print('指标储存完毕')\n",
    "    return scores"
   ]
  },
  {
   "cell_type": "code",
   "execution_count": 21,
   "id": "e42312d5-ac0e-4a5f-bd5b-ca10497c54c4",
   "metadata": {},
   "outputs": [],
   "source": [
    "#绘制sse和sc曲线，方便选择合适的k值\n",
    "import matplotlib.pyplot as plt\n",
    "plt.rcParams['font.sans-serif'] = ['SimHei']   # 使用中文的SimHei字体  \n",
    "plt.rcParams['axes.unicode_minus'] = False  # 正确显示负号 \n",
    "def draw(k, sse, sc):\n",
    "    # 创建图表和轴\n",
    "    fig, ax1 = plt.subplots(figsize=(8, 6))\n",
    "\n",
    "    # 绘制 SSE 曲线\n",
    "    ax1.plot(k, sse, 'b-', label='SSE')\n",
    "    ax1.set_xlabel('聚类数 (k)')\n",
    "    ax1.set_ylabel('SSE', color='b')\n",
    "    ax1.tick_params(axis='y', labelcolor='b')\n",
    "\n",
    "    # 创建第二个 Y 轴，绘制 SC 曲线\n",
    "    ax2 = ax1.twinx()\n",
    "    ax2.plot(k, sc, 'r-', label='SC')\n",
    "    ax2.set_ylabel('SC', color='r')\n",
    "    ax2.tick_params(axis='y', labelcolor='r')\n",
    "\n",
    "    # 设置标题和图例\n",
    "    plt.title('聚类效果')\n",
    "    fig.legend(loc='upper right', bbox_to_anchor=(1, 1), bbox_transform=ax1.transAxes)\n",
    "\n",
    "    # 显示图表\n",
    "    plt.show()"
   ]
  },
  {
   "cell_type": "code",
   "execution_count": 19,
   "id": "2950daed-9519-433d-a7c9-922c7c8adea9",
   "metadata": {},
   "outputs": [
    {
     "name": "stdout",
     "output_type": "stream",
     "text": [
      "聚2类计算完成\t聚3类计算完成\t聚4类计算完成\t聚5类计算完成\t聚6类计算完成\t聚7类计算完成\t聚8类计算完成\t聚9类计算完成\t指标储存完毕\n"
     ]
    }
   ],
   "source": [
    "#用户聚类\n",
    "user_score = km(user_data, '用户')"
   ]
  },
  {
   "cell_type": "code",
   "execution_count": 22,
   "id": "7f08a9a0-ec9f-4c3c-96ad-91748d48864e",
   "metadata": {},
   "outputs": [
    {
     "data": {
      "image/png": "[encoded data removed]",
      "text/plain": [
       "<Figure size 800x600 with 2 Axes>"
      ]
     },
     "metadata": {},
     "output_type": "display_data"
    }
   ],
   "source": [
    "user_score =  joblib.load(f'用户聚类指标.score')\n",
    "draw([str(x) for x in range(2,10)], user_score['sse'], user_score['sc'])"
   ]
  },
  {
   "cell_type": "markdown",
   "id": "fb979f7e-7f61-4486-8c39-61cb8525274f",
   "metadata": {},
   "source": [
    "根据综合肘部法则和SC值，选择K=4作为用户的聚类模型"
   ]
  },
  {
   "cell_type": "code",
   "execution_count": 41,
   "id": "895c4fc4-c0a8-4a77-a60d-2983e23b9b58",
   "metadata": {},
   "outputs": [
    {
     "data": {
      "text/html": [
       "<div>\n",
       "<style scoped>\n",
       "    .dataframe tbody tr th:only-of-type {\n",
       "        vertical-align: middle;\n",
       "    }\n",
       "\n",
       "    .dataframe tbody tr th {\n",
       "        vertical-align: top;\n",
       "    }\n",
       "\n",
       "    .dataframe thead th {\n",
       "        text-align: right;\n",
       "    }\n",
       "</style>\n",
       "<table border=\"1\" class=\"dataframe\">\n",
       "  <thead>\n",
       "    <tr style=\"text-align: right;\">\n",
       "      <th></th>\n",
       "      <th>uid</th>\n",
       "      <th>浏览量</th>\n",
       "      <th>点赞量</th>\n",
       "      <th>观看作者数</th>\n",
       "      <th>观看作品数</th>\n",
       "      <th>观看作品平均时长</th>\n",
       "      <th>观看配乐数</th>\n",
       "      <th>完整观看数</th>\n",
       "      <th>去过的城市数</th>\n",
       "      <th>观看作品所在的城市数</th>\n",
       "      <th>人数</th>\n",
       "    </tr>\n",
       "  </thead>\n",
       "  <tbody>\n",
       "    <tr>\n",
       "      <th>0</th>\n",
       "      <td>37136.592629</td>\n",
       "      <td>38.049229</td>\n",
       "      <td>0.389078</td>\n",
       "      <td>36.785240</td>\n",
       "      <td>38.049049</td>\n",
       "      <td>11.274518</td>\n",
       "      <td>33.284433</td>\n",
       "      <td>15.104286</td>\n",
       "      <td>1.184900</td>\n",
       "      <td>26.536496</td>\n",
       "      <td>11170</td>\n",
       "    </tr>\n",
       "    <tr>\n",
       "      <th>1</th>\n",
       "      <td>55079.529374</td>\n",
       "      <td>18.628347</td>\n",
       "      <td>0.168126</td>\n",
       "      <td>18.198833</td>\n",
       "      <td>18.628220</td>\n",
       "      <td>11.370955</td>\n",
       "      <td>17.325213</td>\n",
       "      <td>8.204416</td>\n",
       "      <td>1.144398</td>\n",
       "      <td>15.092120</td>\n",
       "      <td>7855</td>\n",
       "    </tr>\n",
       "    <tr>\n",
       "      <th>2</th>\n",
       "      <td>6652.697726</td>\n",
       "      <td>64.775251</td>\n",
       "      <td>0.574713</td>\n",
       "      <td>62.187087</td>\n",
       "      <td>64.774435</td>\n",
       "      <td>11.197168</td>\n",
       "      <td>54.662672</td>\n",
       "      <td>24.207141</td>\n",
       "      <td>1.242684</td>\n",
       "      <td>40.790658</td>\n",
       "      <td>12278</td>\n",
       "    </tr>\n",
       "    <tr>\n",
       "      <th>3</th>\n",
       "      <td>20457.454376</td>\n",
       "      <td>30.716015</td>\n",
       "      <td>0.334171</td>\n",
       "      <td>29.843482</td>\n",
       "      <td>30.715456</td>\n",
       "      <td>11.257726</td>\n",
       "      <td>27.695345</td>\n",
       "      <td>13.744507</td>\n",
       "      <td>1.218063</td>\n",
       "      <td>23.116201</td>\n",
       "      <td>10737</td>\n",
       "    </tr>\n",
       "  </tbody>\n",
       "</table>\n",
       "</div>"
      ],
      "text/plain": [
       "            uid        浏览量       点赞量      观看作者数      观看作品数   观看作品平均时长  \\\n",
       "0  37136.592629  38.049229  0.389078  36.785240  38.049049  11.274518   \n",
       "1  55079.529374  18.628347  0.168126  18.198833  18.628220  11.370955   \n",
       "2   6652.697726  64.775251  0.574713  62.187087  64.774435  11.197168   \n",
       "3  20457.454376  30.716015  0.334171  29.843482  30.715456  11.257726   \n",
       "\n",
       "       观看配乐数      完整观看数    去过的城市数  观看作品所在的城市数     人数  \n",
       "0  33.284433  15.104286  1.184900   26.536496  11170  \n",
       "1  17.325213   8.204416  1.144398   15.092120   7855  \n",
       "2  54.662672  24.207141  1.242684   40.790658  12278  \n",
       "3  27.695345  13.744507  1.218063   23.116201  10737  "
      ]
     },
     "execution_count": 41,
     "metadata": {},
     "output_type": "execute_result"
    }
   ],
   "source": [
    "user_km=joblib.load(f'用户4聚类.model')\n",
    "user_centers = pd.DataFrame(user_km.cluster_centers_, columns=user_df.columns) #提取聚类中心\n",
    "user_centers['人数']=pd.Series(user_km.predict(user_data)).value_counts()\n",
    "user_centers"
   ]
  },
  {
   "cell_type": "markdown",
   "id": "272a424a-6029-4b97-97ed-c545d0df92fe",
   "metadata": {},
   "source": [
    "## 用户各类分析"
   ]
  },
  {
   "cell_type": "markdown",
   "id": "9134509a-8883-49c7-b21d-b512e47df6c0",
   "metadata": {},
   "source": [
    "### 聚类0：高浏览量、低互动性用户"
   ]
  },
  {
   "cell_type": "markdown",
   "id": "91a16f0b-84c9-49e9-b5ec-13ac0d6564d7",
   "metadata": {},
   "source": [
    "浏览量较高，点赞量较低，观看作品数和作者数量较多，但观看作品的平均时长中等，且去过的城市数量较少，但是观看的作品所在城市较多"
   ]
  },
  {
   "cell_type": "markdown",
   "id": "02574c36-032f-4adb-8ec0-87a529dbcfd6",
   "metadata": {},
   "source": [
    "这个聚类的人数是较多的"
   ]
  },
  {
   "cell_type": "markdown",
   "id": "af1a498b-e92b-4c46-84b5-d97043d774da",
   "metadata": {},
   "source": [
    "**这个聚类用户的活跃度较高，但互动性较低**"
   ]
  },
  {
   "cell_type": "markdown",
   "id": "3b1be6cc-3696-499f-aaf6-1537f57b4ca3",
   "metadata": {},
   "source": [
    "**用户可能更喜欢浏览内容，但是不太愿意点赞和互动**"
   ]
  },
  {
   "cell_type": "markdown",
   "id": "676c844b-4281-4d47-9e56-4d18a1d3da8a",
   "metadata": {},
   "source": [
    "**用户的地理分布较广，但实际去过的城市较少**"
   ]
  },
  {
   "cell_type": "markdown",
   "id": "9785aa2f-ce9a-41c9-bb4b-67665fb1a8f1",
   "metadata": {},
   "source": [
    "### 建议"
   ]
  },
  {
   "cell_type": "markdown",
   "id": "2f7a38c9-ea73-4b63-97b4-c9e4586a223c",
   "metadata": {},
   "source": [
    "设计激励机制（如积分、奖励），提高用户的互动性；推荐更多相关内容，提升用户的浏览体验"
   ]
  },
  {
   "cell_type": "markdown",
   "id": "ba04b00b-804a-4a7e-9a6c-d816c7212583",
   "metadata": {},
   "source": [
    "推荐：高质量、短小精悍的视频，吸引用户的注意力，提供更多样化的内容（如热门视频，搞笑视频等）"
   ]
  },
  {
   "cell_type": "markdown",
   "id": "a24d11f4-40a9-45e8-ba09-f54d04dd9c83",
   "metadata": {},
   "source": [
    "设计互动激励机制，例如：点赞抽奖或者评论有礼"
   ]
  },
  {
   "cell_type": "markdown",
   "id": "9a9b6073-ecdf-4c56-bb46-861bd7241841",
   "metadata": {},
   "source": [
    "利用用户的浏览历史，推荐与其兴趣相关的内容，提升用户的停留时间"
   ]
  },
  {
   "cell_type": "markdown",
   "id": "30286c3b-8adb-48b7-8772-1a640bc7f43a",
   "metadata": {},
   "source": [
    "### 聚类1：低活跃度、低互动性用户"
   ]
  },
  {
   "cell_type": "markdown",
   "id": "b5a01780-b7ba-4bb9-95e1-7b875183c7f7",
   "metadata": {},
   "source": [
    "浏览量较低，点赞量也最低，观看作品数和作者数较少，观看作品平均时长较高，去过的城市数较少，观看作品所在的城市数也较少，用户的数量中等"
   ]
  },
  {
   "cell_type": "markdown",
   "id": "162eb595-df27-47e4-83b6-05ec070c81c1",
   "metadata": {},
   "source": [
    "**这个聚类的用户活跃度较低，互动性也较低**"
   ]
  },
  {
   "cell_type": "markdown",
   "id": "0dbde339-06e3-4ac8-8217-dfd5a4485e6d",
   "metadata": {},
   "source": [
    "**用户可能更喜欢长时间观看少量的内容，但是不太愿意互动和浏览**"
   ]
  },
  {
   "cell_type": "markdown",
   "id": "944a458d-996e-44a8-86e4-fe5977f5e102",
   "metadata": {},
   "source": [
    "**用户的地理分布和实际去过的地方都较少**"
   ]
  },
  {
   "cell_type": "markdown",
   "id": "fe3cdc73-baee-4687-b89a-72149a3be504",
   "metadata": {},
   "source": [
    "### 建议"
   ]
  },
  {
   "cell_type": "markdown",
   "id": "bbc921f1-5ffe-4943-bbb1-3d57d451ff18",
   "metadata": {},
   "source": [
    "分析用户流失原因，优化内容推荐策略；提供更吸引人的内容，提升用户的活跃度"
   ]
  },
  {
   "cell_type": "markdown",
   "id": "5b6974e3-24f8-45a9-9f97-89eb8174c7f9",
   "metadata": {},
   "source": [
    "推荐长视频或系列视频（如纪录片、电视剧、电影解说），满足用户的长时间观看需求。提供轻松、治愈类内容（如自然风光、宠物视频），吸引用户的兴趣"
   ]
  },
  {
   "cell_type": "markdown",
   "id": "bf164180-21d2-4fcd-ac2b-3b88afbf729a",
   "metadata": {},
   "source": [
    "通过推送通知或邮件，提醒用户观看新内容。提供“限时免费”或“独家内容”等等，吸引用户重新活跃"
   ]
  },
  {
   "cell_type": "markdown",
   "id": "1dd5ecf1-ad0a-46c6-9f78-74016d459105",
   "metadata": {},
   "source": [
    "通过问卷调查或兴趣标签，挖掘用户的潜在兴趣，提供更精准的推荐"
   ]
  },
  {
   "cell_type": "markdown",
   "id": "83851555-b5bf-44f7-86c4-34faf20f6ae6",
   "metadata": {},
   "source": [
    "### 聚类2：高活跃度、高互动性用户"
   ]
  },
  {
   "cell_type": "markdown",
   "id": "f0ab74f0-5d8c-49d9-9a0f-0af2998d43e4",
   "metadata": {},
   "source": [
    "该类用户的浏览量最高，点赞量较高，观看作品数和观看作者数也最多，但是观看作品平均时间中等，去过的城市较多，观看作品所在城市最多，用户的数量也是最多的"
   ]
  },
  {
   "cell_type": "markdown",
   "id": "dabcea82-0745-4491-84fb-42200c125635",
   "metadata": {},
   "source": [
    "**这个聚类的用户活跃度最高，互动性也较高**"
   ]
  },
  {
   "cell_type": "markdown",
   "id": "05437c45-be4a-4f84-8efe-50df9b6c0e68",
   "metadata": {},
   "source": [
    "**用户喜欢浏览大量内容，并且愿意点赞和互动**"
   ]
  },
  {
   "cell_type": "markdown",
   "id": "264dbe04-9693-4023-867b-c24a45be7d4b",
   "metadata": {},
   "source": [
    "**用户的地理分布最广，实际去过的城市也较多**"
   ]
  },
  {
   "cell_type": "markdown",
   "id": "f527c44f-1534-483b-892c-e95a08355a90",
   "metadata": {},
   "source": [
    "### 建议"
   ]
  },
  {
   "cell_type": "markdown",
   "id": "d3bf3b86-a374-4c0b-b54f-c291139b9475",
   "metadata": {},
   "source": [
    "提供更多优质内容，鼓励用户互动（如点赞、评论），增加跨城市的内容推荐，满足用户的地理分布需求"
   ]
  },
  {
   "cell_type": "markdown",
   "id": "a9558844-e6f8-4d66-9504-f0e3dabfaa22",
   "metadata": {},
   "source": [
    "推荐热门、趋势性内容（如挑战赛、热点事件），满足用户的探索需求。提供互动性强的内容（如直播、问答视频），增强用户的参与感"
   ]
  },
  {
   "cell_type": "markdown",
   "id": "fe0f1bdd-1638-4fcb-b9da-7f2416c46b05",
   "metadata": {},
   "source": [
    "推荐用户好友喜欢的内容，增强社交互动，提供“好友在看”或“同城推荐”，增加用户的粘性。"
   ]
  },
  {
   "cell_type": "markdown",
   "id": "8d23b283-a0c6-4650-8ba5-a76f0541c640",
   "metadata": {},
   "source": [
    "设计高级奖励机制（如 VIP 会员、专属内容），激励用户持续活跃"
   ]
  },
  {
   "cell_type": "markdown",
   "id": "462430d6-41f3-43d4-a5f3-d59097c2cfd1",
   "metadata": {},
   "source": [
    "根据用户的地理分布，推荐跨城市的内容（如旅游攻略、文化差异），满足用户的探索需求"
   ]
  },
  {
   "cell_type": "markdown",
   "id": "11a5b712-6531-4738-b035-7f1540d71709",
   "metadata": {},
   "source": [
    "### 聚类 3：中等活跃度、中等互动性用户"
   ]
  },
  {
   "cell_type": "markdown",
   "id": "ab659959-d521-46fe-8605-1e06bbd7569a",
   "metadata": {},
   "source": [
    "浏览量、点赞量、观看作品数、观看作者数中和观看作品平均时长都是中等水平，但是去过的城市数较多，观看作品所在的城市数中等，用户数量较多。"
   ]
  },
  {
   "cell_type": "markdown",
   "id": "e69feca2-a6ac-4cba-95c8-8c2915271951",
   "metadata": {},
   "source": [
    "**这个聚类的用户活跃度和互动性都处于中等水平**"
   ]
  },
  {
   "cell_type": "markdown",
   "id": "f3500f0f-7354-4b00-a149-ac29c5ba77f8",
   "metadata": {},
   "source": [
    "**且用户的行为比较均衡，既不是特别活跃，也不是特别消极**"
   ]
  },
  {
   "cell_type": "markdown",
   "id": "b9c96904-a705-4703-be0b-82a80e84e192",
   "metadata": {},
   "source": [
    "**地理分布和实际去过的城市都处于中等水平**"
   ]
  },
  {
   "cell_type": "markdown",
   "id": "c5bfa184-67dc-4a03-b5b5-09f11c322061",
   "metadata": {},
   "source": [
    "### 建议"
   ]
  },
  {
   "cell_type": "markdown",
   "id": "b46f931a-1836-4984-b4da-9f61ee73781c",
   "metadata": {},
   "source": [
    "保持内容的多样性和质量，维持用户的活跃度，提供个性化推荐，增强用户粘性"
   ]
  },
  {
   "cell_type": "markdown",
   "id": "9a854d8b-471d-4ce0-9055-fbb3b591c221",
   "metadata": {},
   "source": [
    "推荐中等时长的视频（如科普、教程、综艺片段），满足用户的观看需求，提供多样化的内容，保持用户的新鲜感"
   ]
  },
  {
   "cell_type": "markdown",
   "id": "28f43f03-b0be-4aee-99af-6a0edd88e5e2",
   "metadata": {},
   "source": [
    "根据用户的浏览历史，推荐与其兴趣相关的内容，提供“猜你喜欢”或“热门推荐”，提升用户的观看时长"
   ]
  },
  {
   "cell_type": "markdown",
   "id": "27f29eed-29b6-4460-89a2-3129a963c68f",
   "metadata": {},
   "source": [
    "设计简单的互动任务（如点赞、分享），逐步提高用户的互动性"
   ]
  },
  {
   "cell_type": "markdown",
   "id": "f121d58b-49a2-4181-894b-42e850e79b06",
   "metadata": {},
   "source": [
    "推荐本地化的内容（如本地新闻、活动），增强用户的归属感"
   ]
  },
  {
   "cell_type": "markdown",
   "id": "a40df1ae-135b-4b3d-bd88-dbf8715d361c",
   "metadata": {},
   "source": [
    "## 作者聚类"
   ]
  },
  {
   "cell_type": "code",
   "execution_count": 33,
   "id": "a5936a2e-9983-4012-bc1e-776df14029cf",
   "metadata": {},
   "outputs": [
    {
     "name": "stdout",
     "output_type": "stream",
     "text": [
      "聚2类计算完成\t聚3类计算完成\t聚4类计算完成\t聚5类计算完成\t聚6类计算完成\t聚7类计算完成\t聚8类计算完成\t聚9类计算完成\t指标储存完毕\n"
     ]
    }
   ],
   "source": [
    "author_score = km(author_data, '作者')"
   ]
  },
  {
   "cell_type": "code",
   "execution_count": 35,
   "id": "d8c755c8-381c-499f-9f53-e118105229ae",
   "metadata": {},
   "outputs": [
    {
     "data": {
      "image/png": "[encoded data removed]",
      "text/plain": [
       "<Figure size 800x600 with 2 Axes>"
      ]
     },
     "metadata": {},
     "output_type": "display_data"
    }
   ],
   "source": [
    "author_score =  joblib.load(f'作者聚类指标.score')\n",
    "draw([str(x) for x in range(2,10)], author_score['sse'], author_score['sc'])"
   ]
  },
  {
   "cell_type": "markdown",
   "id": "8bc6a866-6e30-481d-885a-3cb6c868ea28",
   "metadata": {},
   "source": [
    "同样根据综合肘部法则和SC值，选择K=4作为用户的聚类模型"
   ]
  },
  {
   "cell_type": "code",
   "execution_count": 40,
   "id": "4832d90c-d31a-4265-ad17-e48a762b23db",
   "metadata": {},
   "outputs": [
    {
     "data": {
      "text/html": [
       "<div>\n",
       "<style scoped>\n",
       "    .dataframe tbody tr th:only-of-type {\n",
       "        vertical-align: middle;\n",
       "    }\n",
       "\n",
       "    .dataframe tbody tr th {\n",
       "        vertical-align: top;\n",
       "    }\n",
       "\n",
       "    .dataframe thead th {\n",
       "        text-align: right;\n",
       "    }\n",
       "</style>\n",
       "<table border=\"1\" class=\"dataframe\">\n",
       "  <thead>\n",
       "    <tr style=\"text-align: right;\">\n",
       "      <th></th>\n",
       "      <th>author_id</th>\n",
       "      <th>总作品数</th>\n",
       "      <th>总浏览量</th>\n",
       "      <th>总点赞量</th>\n",
       "      <th>总观完量</th>\n",
       "      <th>使用的配乐数量</th>\n",
       "      <th>去过的城市数</th>\n",
       "      <th>发布作品的日期数</th>\n",
       "      <th>作品的平均时长</th>\n",
       "      <th>创造活跃度(日)</th>\n",
       "      <th>人数</th>\n",
       "    </tr>\n",
       "  </thead>\n",
       "  <tbody>\n",
       "    <tr>\n",
       "      <th>0</th>\n",
       "      <td>141948.657294</td>\n",
       "      <td>3.502643</td>\n",
       "      <td>11.921919</td>\n",
       "      <td>0.121943</td>\n",
       "      <td>5.106954</td>\n",
       "      <td>3.127985</td>\n",
       "      <td>1.109801</td>\n",
       "      <td>3.502527</td>\n",
       "      <td>10.883162</td>\n",
       "      <td>12.015337</td>\n",
       "      <td>17190</td>\n",
       "    </tr>\n",
       "    <tr>\n",
       "      <th>1</th>\n",
       "      <td>577267.809562</td>\n",
       "      <td>1.560373</td>\n",
       "      <td>8.020665</td>\n",
       "      <td>0.058549</td>\n",
       "      <td>3.788088</td>\n",
       "      <td>1.489668</td>\n",
       "      <td>1.049433</td>\n",
       "      <td>1.560170</td>\n",
       "      <td>10.793588</td>\n",
       "      <td>3.831442</td>\n",
       "      <td>4933</td>\n",
       "    </tr>\n",
       "    <tr>\n",
       "      <th>2</th>\n",
       "      <td>280990.889258</td>\n",
       "      <td>2.393415</td>\n",
       "      <td>10.147406</td>\n",
       "      <td>0.094945</td>\n",
       "      <td>4.589707</td>\n",
       "      <td>2.211506</td>\n",
       "      <td>1.091453</td>\n",
       "      <td>2.393415</td>\n",
       "      <td>10.688268</td>\n",
       "      <td>8.326987</td>\n",
       "      <td>12008</td>\n",
       "    </tr>\n",
       "    <tr>\n",
       "      <th>3</th>\n",
       "      <td>40672.333238</td>\n",
       "      <td>6.410529</td>\n",
       "      <td>41.791922</td>\n",
       "      <td>0.394750</td>\n",
       "      <td>17.797407</td>\n",
       "      <td>5.200776</td>\n",
       "      <td>1.160671</td>\n",
       "      <td>6.410137</td>\n",
       "      <td>10.952308</td>\n",
       "      <td>15.286009</td>\n",
       "      <td>28122</td>\n",
       "    </tr>\n",
       "  </tbody>\n",
       "</table>\n",
       "</div>"
      ],
      "text/plain": [
       "       author_id      总作品数       总浏览量      总点赞量       总观完量   使用的配乐数量  \\\n",
       "0  141948.657294  3.502643  11.921919  0.121943   5.106954  3.127985   \n",
       "1  577267.809562  1.560373   8.020665  0.058549   3.788088  1.489668   \n",
       "2  280990.889258  2.393415  10.147406  0.094945   4.589707  2.211506   \n",
       "3   40672.333238  6.410529  41.791922  0.394750  17.797407  5.200776   \n",
       "\n",
       "     去过的城市数  发布作品的日期数    作品的平均时长   创造活跃度(日)     人数  \n",
       "0  1.109801  3.502527  10.883162  12.015337  17190  \n",
       "1  1.049433  1.560170  10.793588   3.831442   4933  \n",
       "2  1.091453  2.393415  10.688268   8.326987  12008  \n",
       "3  1.160671  6.410137  10.952308  15.286009  28122  "
      ]
     },
     "execution_count": 40,
     "metadata": {},
     "output_type": "execute_result"
    }
   ],
   "source": [
    "author_km = joblib.load(f'作者4聚类.model')\n",
    "author_centers = pd.DataFrame(author_km.cluster_centers_, columns=author_df.columns)\n",
    "author_centers['人数'] = pd.Series(author_km.predict(author_data)).value_counts()\n",
    "author_centers"
   ]
  },
  {
   "cell_type": "markdown",
   "id": "b4c5c3e9-03a3-4ce0-8234-7e162d125d04",
   "metadata": {},
   "source": [
    "## 作者各类分析"
   ]
  },
  {
   "cell_type": "markdown",
   "id": "03d5810f-7fb8-4794-a203-59247f866f23",
   "metadata": {},
   "source": [
    "### 聚类 0：新手作者"
   ]
  },
  {
   "cell_type": "markdown",
   "id": "13816057-f073-46fd-9088-64d8a54c8efa",
   "metadata": {},
   "source": [
    "总浏览量较低，总点赞量最低，总作品数较少，且作品的平均时长也较短，使用的配乐数量同样也较少，发布作品日数也较少，创作的活跃度较低，去过的城市数量较少，这个类别的数量也是最多的"
   ]
  },
  {
   "cell_type": "markdown",
   "id": "52e97b32-c935-4217-911a-19e8ffb6ec1d",
   "metadata": {},
   "source": [
    "**该聚类的作者活跃度较低，作品数量和质量都较低**"
   ]
  },
  {
   "cell_type": "markdown",
   "id": "5e234213-fcf0-4d1d-8930-1f454eccbe20",
   "metadata": {},
   "source": [
    "**可能是新手作者或偶尔发布内容的用户**"
   ]
  },
  {
   "cell_type": "markdown",
   "id": "039cb8e3-12ce-41d0-95b9-ebb64304fee3",
   "metadata": {},
   "source": [
    "**需要更多的创作支持和激励**"
   ]
  },
  {
   "cell_type": "markdown",
   "id": "c94f5e23-15d2-4883-90f0-2f92bdb67b17",
   "metadata": {},
   "source": [
    "### 建议"
   ]
  },
  {
   "cell_type": "markdown",
   "id": "e0f2a9f7-1a2b-4e6f-a547-f6f408f58594",
   "metadata": {},
   "source": [
    "提供创作教程和工具，帮助新手作者提升作品质量"
   ]
  },
  {
   "cell_type": "markdown",
   "id": "3f1918a4-c902-4895-9b37-1a99f97ab224",
   "metadata": {},
   "source": [
    "设计新手任务和奖励机制，激励作者持续创作"
   ]
  },
  {
   "cell_type": "markdown",
   "id": "722c4b72-b799-4cf0-a589-cfe378c67d6b",
   "metadata": {},
   "source": [
    "提供新手作者的专属推荐位，增加作品的曝光量"
   ]
  },
  {
   "cell_type": "markdown",
   "id": "525e82a8-d75a-4c92-bf6e-d36a3dbfc48c",
   "metadata": {},
   "source": [
    "也可以举办新手作者比赛，鼓励用户参与"
   ]
  },
  {
   "cell_type": "markdown",
   "id": "d2e6f2ec-9f35-4286-b31f-82b57a95712b",
   "metadata": {},
   "source": [
    "### 聚类1：不活跃作者"
   ]
  },
  {
   "cell_type": "markdown",
   "id": "fce84dcc-a546-49a5-b2f6-a104d73c7297",
   "metadata": {},
   "source": [
    "作品最少，总浏览量最低，总点赞量最低，且使用的配乐数量同样也最少，发布作品日数也最少，创作的活跃度最低，去过的城市数量最少，这个类别的数量较多"
   ]
  },
  {
   "cell_type": "markdown",
   "id": "9b9bd07d-f468-46eb-9572-1c58a749a853",
   "metadata": {},
   "source": [
    "**该聚类的作者活跃度最低，作品数量和质量都最差**"
   ]
  },
  {
   "cell_type": "markdown",
   "id": "ed8d3b85-db18-404a-8fc2-0c1cca48370d",
   "metadata": {},
   "source": [
    "**可能是非常不活跃的用户，或者只是偶尔发布内容的用户**"
   ]
  },
  {
   "cell_type": "markdown",
   "id": "410eeebc-edfa-4658-9a98-115d79776112",
   "metadata": {},
   "source": [
    "**需要更多的唤醒策略和激励机制**"
   ]
  },
  {
   "cell_type": "markdown",
   "id": "69c7c2ac-2e51-443e-b7cd-1ab79be44c8b",
   "metadata": {},
   "source": [
    "### 建议"
   ]
  },
  {
   "cell_type": "markdown",
   "id": "dbd84671-435d-4225-bd29-3df7a39ca110",
   "metadata": {},
   "source": [
    "通过推送通知或邮件，提醒作者发布新内容"
   ]
  },
  {
   "cell_type": "markdown",
   "id": "92f91af4-4580-43bf-93fc-821c75fa112f",
   "metadata": {},
   "source": [
    "提供“限时免费”或“独家内容”，吸引作者重新活跃"
   ]
  },
  {
   "cell_type": "markdown",
   "id": "6b487884-f6ad-4fe7-b662-998870147fa5",
   "metadata": {},
   "source": [
    "设计简单的任务和奖励机制（如发布作品奖励），激励作者参与创作"
   ]
  },
  {
   "cell_type": "markdown",
   "id": "83cc3d0e-a452-4eb5-b995-d054265f1b9e",
   "metadata": {},
   "source": [
    "### 聚类2：潜力作者"
   ]
  },
  {
   "cell_type": "markdown",
   "id": "874d0ff8-521a-42d3-a8be-4f403ddaa6c7",
   "metadata": {},
   "source": [
    "总作品数、总浏览量、总点赞量、使用的配乐数、去过的城市数、发布作品的日期数、作品的平均时长、创作活跃度全部都是中等水平，单该段的作者数量较多"
   ]
  },
  {
   "cell_type": "markdown",
   "id": "03566ff2-8232-4f77-858d-e96677f9dc37",
   "metadata": {},
   "source": [
    "**这个聚类的作者活跃度和作品质量都处于中等水平**"
   ]
  },
  {
   "cell_type": "markdown",
   "id": "0fc978a7-7e63-4ea7-afdd-7b740473ca64",
   "metadata": {},
   "source": [
    "**可能是潜力作者，有一定的创作能力但尚未完全发挥**"
   ]
  },
  {
   "cell_type": "markdown",
   "id": "c772ec3e-7fe4-4415-b99a-ecc10cb6a4c6",
   "metadata": {},
   "source": [
    "**需要更多的创作指导和资源支持**"
   ]
  },
  {
   "cell_type": "markdown",
   "id": "e78f64c6-60c6-4c10-897b-cd93acb114f6",
   "metadata": {},
   "source": [
    "### 建议"
   ]
  },
  {
   "cell_type": "markdown",
   "id": "5dc5cd59-0eee-4910-bfa6-99f96951bba3",
   "metadata": {},
   "source": [
    "提供创作培训和指导，帮助作者提升作品质量"
   ]
  },
  {
   "cell_type": "markdown",
   "id": "15e0cfcb-272d-444c-b8ac-7983d457a72d",
   "metadata": {},
   "source": [
    "设计潜力作者的专属推荐位，增加作品的曝光量"
   ]
  },
  {
   "cell_type": "markdown",
   "id": "a1df074c-56f6-4982-bedf-0bca307c7545",
   "metadata": {},
   "source": [
    "设计潜力作者的奖励机制（如流量扶持、现金奖励），激励作者持续创作"
   ]
  },
  {
   "cell_type": "markdown",
   "id": "ac73cbe9-9196-4e45-90a4-072143e10d8c",
   "metadata": {},
   "source": [
    "### 聚类3：高级作者"
   ]
  },
  {
   "cell_type": "markdown",
   "id": "633ab1a1-a9c9-4a21-bb72-aacdde4c0c82",
   "metadata": {},
   "source": [
    "总作品数最多，总浏览量最高，总点赞量最高，且使用的配乐数量和去过的城市数都是最多，发布作品的日期数最多，作品平均时长也较长，创作活跃度最高，作者数量最多"
   ]
  },
  {
   "cell_type": "code",
   "execution_count": null,
   "id": "52c5e83f-815e-4593-9425-93da405252bf",
   "metadata": {},
   "outputs": [],
   "source": []
  }
 ],
 "metadata": {
  "kernelspec": {
   "display_name": "Python 3 (ipykernel)",
   "language": "python",
   "name": "python3"
  },
  "language_info": {
   "codemirror_mode": {
    "name": "ipython",
    "version": 3
   },
   "file_extension": ".py",
   "mimetype": "text/x-python",
   "name": "python",
   "nbconvert_exporter": "python",
   "pygments_lexer": "ipython3",
   "version": "3.12.4"
  }
 },
 "nbformat": 4,
 "nbformat_minor": 5
}
