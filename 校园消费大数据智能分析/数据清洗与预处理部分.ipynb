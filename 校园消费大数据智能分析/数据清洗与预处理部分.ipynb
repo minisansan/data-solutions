{
 "cells": [
  {
   "cell_type": "markdown",
   "id": "019fc1aa-5a8e-456b-9b8a-3e3f7acc993b",
   "metadata": {},
   "source": [
    "# 学生校园消费行为数据清洗预处理"
   ]
  },
  {
   "cell_type": "markdown",
   "id": "143632d3-90d5-4780-98ab-01645f50f434",
   "metadata": {},
   "source": [
    "将data1.csv、data2.csv、data3.csv三份文件加载到分析环境当中，理解字段含义，探究数据质量并进行缺失值和异常值等方面的必要处理。将处理结果返回保存为task1_1_X.csv，并在报告中处理描述处理过程"
   ]
  },
  {
   "cell_type": "code",
   "execution_count": 1,
   "id": "81313774-c960-4fb3-983e-1047c7bd0165",
   "metadata": {},
   "outputs": [],
   "source": [
    "import pandas as pd\n",
    "import numpy as np"
   ]
  },
  {
   "cell_type": "markdown",
   "id": "f94a1282-3062-46cd-b4ca-b00797afbc23",
   "metadata": {},
   "source": [
    "### 表data1读取处理·"
   ]
  },
  {
   "cell_type": "code",
   "execution_count": 2,
   "id": "dd698582-4652-4987-9002-2a719a0d494d",
   "metadata": {
    "scrolled": true
   },
   "outputs": [
    {
     "data": {
      "text/html": [
       "<div>\n",
       "<style scoped>\n",
       "    .dataframe tbody tr th:only-of-type {\n",
       "        vertical-align: middle;\n",
       "    }\n",
       "\n",
       "    .dataframe tbody tr th {\n",
       "        vertical-align: top;\n",
       "    }\n",
       "\n",
       "    .dataframe thead th {\n",
       "        text-align: right;\n",
       "    }\n",
       "</style>\n",
       "<table border=\"1\" class=\"dataframe\">\n",
       "  <thead>\n",
       "    <tr style=\"text-align: right;\">\n",
       "      <th></th>\n",
       "      <th>Index</th>\n",
       "      <th>CardNo</th>\n",
       "      <th>Sex</th>\n",
       "      <th>Major</th>\n",
       "      <th>AccessCardNo</th>\n",
       "    </tr>\n",
       "  </thead>\n",
       "  <tbody>\n",
       "    <tr>\n",
       "      <th>0</th>\n",
       "      <td>1</td>\n",
       "      <td>180001</td>\n",
       "      <td>男</td>\n",
       "      <td>18国际金融</td>\n",
       "      <td>19762330</td>\n",
       "    </tr>\n",
       "    <tr>\n",
       "      <th>1</th>\n",
       "      <td>2</td>\n",
       "      <td>180002</td>\n",
       "      <td>男</td>\n",
       "      <td>18国际金融</td>\n",
       "      <td>20521594</td>\n",
       "    </tr>\n",
       "    <tr>\n",
       "      <th>2</th>\n",
       "      <td>3</td>\n",
       "      <td>180003</td>\n",
       "      <td>男</td>\n",
       "      <td>18国际金融</td>\n",
       "      <td>20513946</td>\n",
       "    </tr>\n",
       "    <tr>\n",
       "      <th>3</th>\n",
       "      <td>4</td>\n",
       "      <td>180004</td>\n",
       "      <td>男</td>\n",
       "      <td>18国际金融</td>\n",
       "      <td>20018058</td>\n",
       "    </tr>\n",
       "    <tr>\n",
       "      <th>4</th>\n",
       "      <td>5</td>\n",
       "      <td>180005</td>\n",
       "      <td>男</td>\n",
       "      <td>18国际金融</td>\n",
       "      <td>20945770</td>\n",
       "    </tr>\n",
       "  </tbody>\n",
       "</table>\n",
       "</div>"
      ],
      "text/plain": [
       "   Index  CardNo Sex   Major  AccessCardNo\n",
       "0      1  180001   男  18国际金融      19762330\n",
       "1      2  180002   男  18国际金融      20521594\n",
       "2      3  180003   男  18国际金融      20513946\n",
       "3      4  180004   男  18国际金融      20018058\n",
       "4      5  180005   男  18国际金融      20945770"
      ]
     },
     "execution_count": 2,
     "metadata": {},
     "output_type": "execute_result"
    }
   ],
   "source": [
    "data1=pd.read_csv(\"data1.csv\",encoding=\"gbk\")\n",
    "data1.head()"
   ]
  },
  {
   "cell_type": "code",
   "execution_count": 3,
   "id": "261db7ed-7bc9-4aae-ae87-4f78fe35b768",
   "metadata": {},
   "outputs": [],
   "source": [
    "#列重命名方便理解处理\n",
    "data1.columns=['序号','校园卡号','性别','专业名称','门禁卡号']"
   ]
  },
  {
   "cell_type": "code",
   "execution_count": 4,
   "id": "84d20907-d8fb-4c93-b779-3c2164e74eff",
   "metadata": {},
   "outputs": [
    {
     "data": {
      "text/plain": [
       "(4341, 5)"
      ]
     },
     "execution_count": 4,
     "metadata": {},
     "output_type": "execute_result"
    }
   ],
   "source": [
    "data1.shape"
   ]
  },
  {
   "cell_type": "code",
   "execution_count": 5,
   "id": "790093f1-49d4-4267-98a7-694250c36d82",
   "metadata": {},
   "outputs": [
    {
     "data": {
      "text/plain": [
       "序号       int64\n",
       "校园卡号     int64\n",
       "性别      object\n",
       "专业名称    object\n",
       "门禁卡号     int64\n",
       "dtype: object"
      ]
     },
     "execution_count": 5,
     "metadata": {},
     "output_type": "execute_result"
    }
   ],
   "source": [
    "data1.dtypes"
   ]
  },
  {
   "cell_type": "code",
   "execution_count": 6,
   "id": "d36687a1-8b3c-4c02-8a6e-13f322a4ce6d",
   "metadata": {},
   "outputs": [
    {
     "name": "stdout",
     "output_type": "stream",
     "text": [
      "<class 'pandas.core.frame.DataFrame'>\n",
      "RangeIndex: 4341 entries, 0 to 4340\n",
      "Data columns (total 5 columns):\n",
      " #   Column  Non-Null Count  Dtype \n",
      "---  ------  --------------  ----- \n",
      " 0   序号      4341 non-null   int64 \n",
      " 1   校园卡号    4341 non-null   int64 \n",
      " 2   性别      4341 non-null   object\n",
      " 3   专业名称    4341 non-null   object\n",
      " 4   门禁卡号    4341 non-null   int64 \n",
      "dtypes: int64(3), object(2)\n",
      "memory usage: 169.7+ KB\n"
     ]
    }
   ],
   "source": [
    "data1.info()"
   ]
  },
  {
   "cell_type": "code",
   "execution_count": 7,
   "id": "0991aafc-f8ea-420c-b2c4-72ebd98e45e9",
   "metadata": {},
   "outputs": [
    {
     "data": {
      "text/plain": [
       "序号      0.0\n",
       "校园卡号    0.0\n",
       "性别      0.0\n",
       "专业名称    0.0\n",
       "门禁卡号    0.0\n",
       "dtype: float64"
      ]
     },
     "execution_count": 7,
     "metadata": {},
     "output_type": "execute_result"
    }
   ],
   "source": [
    "#检查每列的缺失值比例\n",
    "data1.apply(lambda x:sum(x.isnull())/len(x),axis=0)"
   ]
  },
  {
   "cell_type": "markdown",
   "id": "5b2bf6ec-54c7-44b7-8d25-11e869071ab7",
   "metadata": {},
   "source": [
    "无缺失值，查看是否有异常值"
   ]
  },
  {
   "cell_type": "code",
   "execution_count": 8,
   "id": "5e1aa458-f105-41bd-914f-ce1ca62f960f",
   "metadata": {},
   "outputs": [
    {
     "data": {
      "text/plain": [
       "array(['男', '女'], dtype=object)"
      ]
     },
     "execution_count": 8,
     "metadata": {},
     "output_type": "execute_result"
    }
   ],
   "source": [
    "data1[\"性别\"].unique()"
   ]
  },
  {
   "cell_type": "code",
   "execution_count": 9,
   "id": "2af258d8-8952-4cbb-b217-669ad79a2a37",
   "metadata": {},
   "outputs": [
    {
     "data": {
      "text/html": [
       "<div>\n",
       "<style scoped>\n",
       "    .dataframe tbody tr th:only-of-type {\n",
       "        vertical-align: middle;\n",
       "    }\n",
       "\n",
       "    .dataframe tbody tr th {\n",
       "        vertical-align: top;\n",
       "    }\n",
       "\n",
       "    .dataframe thead th {\n",
       "        text-align: right;\n",
       "    }\n",
       "</style>\n",
       "<table border=\"1\" class=\"dataframe\">\n",
       "  <thead>\n",
       "    <tr style=\"text-align: right;\">\n",
       "      <th></th>\n",
       "      <th>序号</th>\n",
       "      <th>校园卡号</th>\n",
       "      <th>门禁卡号</th>\n",
       "    </tr>\n",
       "  </thead>\n",
       "  <tbody>\n",
       "    <tr>\n",
       "      <th>count</th>\n",
       "      <td>4341.000000</td>\n",
       "      <td>4341.000000</td>\n",
       "      <td>4.341000e+03</td>\n",
       "    </tr>\n",
       "    <tr>\n",
       "      <th>mean</th>\n",
       "      <td>2171.000000</td>\n",
       "      <td>182161.785533</td>\n",
       "      <td>1.679700e+07</td>\n",
       "    </tr>\n",
       "    <tr>\n",
       "      <th>std</th>\n",
       "      <td>1253.283089</td>\n",
       "      <td>1309.570383</td>\n",
       "      <td>6.891622e+06</td>\n",
       "    </tr>\n",
       "    <tr>\n",
       "      <th>min</th>\n",
       "      <td>1.000000</td>\n",
       "      <td>164340.000000</td>\n",
       "      <td>3.077800e+04</td>\n",
       "    </tr>\n",
       "    <tr>\n",
       "      <th>25%</th>\n",
       "      <td>1086.000000</td>\n",
       "      <td>181084.000000</td>\n",
       "      <td>1.730412e+07</td>\n",
       "    </tr>\n",
       "    <tr>\n",
       "      <th>50%</th>\n",
       "      <td>2171.000000</td>\n",
       "      <td>182169.000000</td>\n",
       "      <td>1.944847e+07</td>\n",
       "    </tr>\n",
       "    <tr>\n",
       "      <th>75%</th>\n",
       "      <td>3256.000000</td>\n",
       "      <td>183254.000000</td>\n",
       "      <td>2.074742e+07</td>\n",
       "    </tr>\n",
       "    <tr>\n",
       "      <th>max</th>\n",
       "      <td>4341.000000</td>\n",
       "      <td>184339.000000</td>\n",
       "      <td>2.545070e+07</td>\n",
       "    </tr>\n",
       "  </tbody>\n",
       "</table>\n",
       "</div>"
      ],
      "text/plain": [
       "                序号           校园卡号          门禁卡号\n",
       "count  4341.000000    4341.000000  4.341000e+03\n",
       "mean   2171.000000  182161.785533  1.679700e+07\n",
       "std    1253.283089    1309.570383  6.891622e+06\n",
       "min       1.000000  164340.000000  3.077800e+04\n",
       "25%    1086.000000  181084.000000  1.730412e+07\n",
       "50%    2171.000000  182169.000000  1.944847e+07\n",
       "75%    3256.000000  183254.000000  2.074742e+07\n",
       "max    4341.000000  184339.000000  2.545070e+07"
      ]
     },
     "execution_count": 9,
     "metadata": {},
     "output_type": "execute_result"
    }
   ],
   "source": [
    "data1.describe()"
   ]
  },
  {
   "cell_type": "markdown",
   "id": "58459bb2-3e67-4aa2-84c5-c3cb103d53f7",
   "metadata": {},
   "source": [
    "数字字段都是卡号没有意义探究"
   ]
  },
  {
   "cell_type": "markdown",
   "id": "a802223b-ee9c-4541-a2f9-cf0295d18a63",
   "metadata": {},
   "source": [
    "数据很干净，进行文件存储"
   ]
  },
  {
   "cell_type": "code",
   "execution_count": 10,
   "id": "bcc065c8-764d-4a4e-8e64-dc1359fe7a17",
   "metadata": {},
   "outputs": [],
   "source": [
    "data1.to_csv(\"task1_1_1.csv\",index=False,encoding='gbk')"
   ]
  },
  {
   "cell_type": "markdown",
   "id": "ff04ece1-2710-4d00-9b7f-beabc44c346b",
   "metadata": {},
   "source": [
    "### 表data2.csv读取处理"
   ]
  },
  {
   "cell_type": "code",
   "execution_count": 11,
   "id": "b3b654aa-a9b7-45c2-84cd-cce8efb55e6d",
   "metadata": {},
   "outputs": [
    {
     "data": {
      "text/html": [
       "<div>\n",
       "<style scoped>\n",
       "    .dataframe tbody tr th:only-of-type {\n",
       "        vertical-align: middle;\n",
       "    }\n",
       "\n",
       "    .dataframe tbody tr th {\n",
       "        vertical-align: top;\n",
       "    }\n",
       "\n",
       "    .dataframe thead th {\n",
       "        text-align: right;\n",
       "    }\n",
       "</style>\n",
       "<table border=\"1\" class=\"dataframe\">\n",
       "  <thead>\n",
       "    <tr style=\"text-align: right;\">\n",
       "      <th></th>\n",
       "      <th>Index</th>\n",
       "      <th>CardNo</th>\n",
       "      <th>PeoNo</th>\n",
       "      <th>Date</th>\n",
       "      <th>Money</th>\n",
       "      <th>FundMoney</th>\n",
       "      <th>Surplus</th>\n",
       "      <th>CardCount</th>\n",
       "      <th>Type</th>\n",
       "      <th>TermNo</th>\n",
       "      <th>TermSerNo</th>\n",
       "      <th>conOperNo</th>\n",
       "      <th>OperNo</th>\n",
       "      <th>Dept</th>\n",
       "    </tr>\n",
       "  </thead>\n",
       "  <tbody>\n",
       "    <tr>\n",
       "      <th>0</th>\n",
       "      <td>117342773</td>\n",
       "      <td>181316</td>\n",
       "      <td>20181316</td>\n",
       "      <td>2019/4/20 20:17</td>\n",
       "      <td>3.0</td>\n",
       "      <td>0.0</td>\n",
       "      <td>186.1</td>\n",
       "      <td>818</td>\n",
       "      <td>消费</td>\n",
       "      <td>49</td>\n",
       "      <td>NaN</td>\n",
       "      <td>NaN</td>\n",
       "      <td>235</td>\n",
       "      <td>第一食堂</td>\n",
       "    </tr>\n",
       "    <tr>\n",
       "      <th>1</th>\n",
       "      <td>117344766</td>\n",
       "      <td>181316</td>\n",
       "      <td>20181316</td>\n",
       "      <td>2019/4/20 8:47</td>\n",
       "      <td>0.5</td>\n",
       "      <td>0.0</td>\n",
       "      <td>199.5</td>\n",
       "      <td>814</td>\n",
       "      <td>消费</td>\n",
       "      <td>63</td>\n",
       "      <td>NaN</td>\n",
       "      <td>NaN</td>\n",
       "      <td>27</td>\n",
       "      <td>第二食堂</td>\n",
       "    </tr>\n",
       "    <tr>\n",
       "      <th>2</th>\n",
       "      <td>117346258</td>\n",
       "      <td>181316</td>\n",
       "      <td>20181316</td>\n",
       "      <td>2019/4/22 7:27</td>\n",
       "      <td>0.5</td>\n",
       "      <td>0.0</td>\n",
       "      <td>183.1</td>\n",
       "      <td>820</td>\n",
       "      <td>消费</td>\n",
       "      <td>63</td>\n",
       "      <td>NaN</td>\n",
       "      <td>NaN</td>\n",
       "      <td>27</td>\n",
       "      <td>第二食堂</td>\n",
       "    </tr>\n",
       "    <tr>\n",
       "      <th>3</th>\n",
       "      <td>117308066</td>\n",
       "      <td>181317</td>\n",
       "      <td>20181317</td>\n",
       "      <td>2019/4/21 7:46</td>\n",
       "      <td>3.5</td>\n",
       "      <td>0.0</td>\n",
       "      <td>50.2</td>\n",
       "      <td>211</td>\n",
       "      <td>消费</td>\n",
       "      <td>196</td>\n",
       "      <td>NaN</td>\n",
       "      <td>NaN</td>\n",
       "      <td>133</td>\n",
       "      <td>好利来食品店</td>\n",
       "    </tr>\n",
       "    <tr>\n",
       "      <th>4</th>\n",
       "      <td>117309001</td>\n",
       "      <td>181317</td>\n",
       "      <td>20181317</td>\n",
       "      <td>2019/4/19 22:31</td>\n",
       "      <td>2.5</td>\n",
       "      <td>0.0</td>\n",
       "      <td>61.7</td>\n",
       "      <td>209</td>\n",
       "      <td>消费</td>\n",
       "      <td>146</td>\n",
       "      <td>NaN</td>\n",
       "      <td>NaN</td>\n",
       "      <td>48</td>\n",
       "      <td>好利来食品店</td>\n",
       "    </tr>\n",
       "  </tbody>\n",
       "</table>\n",
       "</div>"
      ],
      "text/plain": [
       "       Index  CardNo     PeoNo             Date  Money  FundMoney  Surplus  \\\n",
       "0  117342773  181316  20181316  2019/4/20 20:17    3.0        0.0    186.1   \n",
       "1  117344766  181316  20181316   2019/4/20 8:47    0.5        0.0    199.5   \n",
       "2  117346258  181316  20181316   2019/4/22 7:27    0.5        0.0    183.1   \n",
       "3  117308066  181317  20181317   2019/4/21 7:46    3.5        0.0     50.2   \n",
       "4  117309001  181317  20181317  2019/4/19 22:31    2.5        0.0     61.7   \n",
       "\n",
       "   CardCount Type  TermNo TermSerNo  conOperNo  OperNo    Dept  \n",
       "0        818   消费      49       NaN        NaN     235    第一食堂  \n",
       "1        814   消费      63       NaN        NaN      27    第二食堂  \n",
       "2        820   消费      63       NaN        NaN      27    第二食堂  \n",
       "3        211   消费     196       NaN        NaN     133  好利来食品店  \n",
       "4        209   消费     146       NaN        NaN      48  好利来食品店  "
      ]
     },
     "execution_count": 11,
     "metadata": {},
     "output_type": "execute_result"
    }
   ],
   "source": [
    "data2=pd.read_csv(\"data2.csv\",encoding='gbk')\n",
    "data2.head()"
   ]
  },
  {
   "cell_type": "code",
   "execution_count": 12,
   "id": "7741b29c-7082-44cb-a15a-85bb3b9742d4",
   "metadata": {},
   "outputs": [],
   "source": [
    "#列重命名\n",
    "data2.columns=[\"流水号\",\"校园卡号\",\"校园卡编号\",\"消费时间\",\"消费金额\",\"存储金额\",\"余额\",\"消费次数\",\"消费类型\",\"消费项目编码\",\n",
    "               \"消费项目序列号\",\"消费操作编码\",\"操作编码\",\"消费地点\"]"
   ]
  },
  {
   "cell_type": "code",
   "execution_count": 13,
   "id": "3749693c-7803-438b-9a1e-561b843ac7bb",
   "metadata": {},
   "outputs": [
    {
     "data": {
      "text/plain": [
       "(519367, 14)"
      ]
     },
     "execution_count": 13,
     "metadata": {},
     "output_type": "execute_result"
    }
   ],
   "source": [
    "data2.shape"
   ]
  },
  {
   "cell_type": "code",
   "execution_count": 14,
   "id": "66ae57f4-7be4-40be-92ba-a848a5ad904a",
   "metadata": {},
   "outputs": [
    {
     "name": "stdout",
     "output_type": "stream",
     "text": [
      "<class 'pandas.core.frame.DataFrame'>\n",
      "RangeIndex: 519367 entries, 0 to 519366\n",
      "Data columns (total 14 columns):\n",
      " #   Column   Non-Null Count   Dtype  \n",
      "---  ------   --------------   -----  \n",
      " 0   流水号      519367 non-null  int64  \n",
      " 1   校园卡号     519367 non-null  int64  \n",
      " 2   校园卡编号    519367 non-null  int64  \n",
      " 3   消费时间     519367 non-null  object \n",
      " 4   消费金额     519367 non-null  float64\n",
      " 5   存储金额     519367 non-null  float64\n",
      " 6   余额       519367 non-null  float64\n",
      " 7   消费次数     519367 non-null  int64  \n",
      " 8   消费类型     519367 non-null  object \n",
      " 9   消费项目编码   519367 non-null  int64  \n",
      " 10  消费项目序列号  7261 non-null    object \n",
      " 11  消费操作编码   251 non-null     float64\n",
      " 12  操作编码     519367 non-null  int64  \n",
      " 13  消费地点     519367 non-null  object \n",
      "dtypes: float64(4), int64(6), object(4)\n",
      "memory usage: 55.5+ MB\n"
     ]
    }
   ],
   "source": [
    "data2.info()"
   ]
  },
  {
   "cell_type": "markdown",
   "id": "462eecb0-621d-4917-bf53-d1e54fe2f426",
   "metadata": {},
   "source": [
    "消费操作编码和消费项目序列号有明显的空行"
   ]
  },
  {
   "cell_type": "code",
   "execution_count": 15,
   "id": "d7e01f7b-ecb9-427e-8e13-3d4944a10237",
   "metadata": {},
   "outputs": [
    {
     "data": {
      "text/html": [
       "<div>\n",
       "<style scoped>\n",
       "    .dataframe tbody tr th:only-of-type {\n",
       "        vertical-align: middle;\n",
       "    }\n",
       "\n",
       "    .dataframe tbody tr th {\n",
       "        vertical-align: top;\n",
       "    }\n",
       "\n",
       "    .dataframe thead th {\n",
       "        text-align: right;\n",
       "    }\n",
       "</style>\n",
       "<table border=\"1\" class=\"dataframe\">\n",
       "  <thead>\n",
       "    <tr style=\"text-align: right;\">\n",
       "      <th></th>\n",
       "      <th>流水号</th>\n",
       "      <th>校园卡号</th>\n",
       "      <th>校园卡编号</th>\n",
       "      <th>消费时间</th>\n",
       "      <th>消费金额</th>\n",
       "      <th>存储金额</th>\n",
       "      <th>余额</th>\n",
       "      <th>消费次数</th>\n",
       "      <th>消费类型</th>\n",
       "      <th>消费项目编码</th>\n",
       "      <th>消费项目序列号</th>\n",
       "      <th>消费操作编码</th>\n",
       "      <th>操作编码</th>\n",
       "      <th>消费地点</th>\n",
       "    </tr>\n",
       "  </thead>\n",
       "  <tbody>\n",
       "    <tr>\n",
       "      <th>0</th>\n",
       "      <td>117342773</td>\n",
       "      <td>181316</td>\n",
       "      <td>20181316</td>\n",
       "      <td>2019/4/20 20:17</td>\n",
       "      <td>3.0</td>\n",
       "      <td>0.0</td>\n",
       "      <td>186.1</td>\n",
       "      <td>818</td>\n",
       "      <td>消费</td>\n",
       "      <td>49</td>\n",
       "      <td>NaN</td>\n",
       "      <td>NaN</td>\n",
       "      <td>235</td>\n",
       "      <td>第一食堂</td>\n",
       "    </tr>\n",
       "    <tr>\n",
       "      <th>1</th>\n",
       "      <td>117344766</td>\n",
       "      <td>181316</td>\n",
       "      <td>20181316</td>\n",
       "      <td>2019/4/20 8:47</td>\n",
       "      <td>0.5</td>\n",
       "      <td>0.0</td>\n",
       "      <td>199.5</td>\n",
       "      <td>814</td>\n",
       "      <td>消费</td>\n",
       "      <td>63</td>\n",
       "      <td>NaN</td>\n",
       "      <td>NaN</td>\n",
       "      <td>27</td>\n",
       "      <td>第二食堂</td>\n",
       "    </tr>\n",
       "    <tr>\n",
       "      <th>2</th>\n",
       "      <td>117346258</td>\n",
       "      <td>181316</td>\n",
       "      <td>20181316</td>\n",
       "      <td>2019/4/22 7:27</td>\n",
       "      <td>0.5</td>\n",
       "      <td>0.0</td>\n",
       "      <td>183.1</td>\n",
       "      <td>820</td>\n",
       "      <td>消费</td>\n",
       "      <td>63</td>\n",
       "      <td>NaN</td>\n",
       "      <td>NaN</td>\n",
       "      <td>27</td>\n",
       "      <td>第二食堂</td>\n",
       "    </tr>\n",
       "  </tbody>\n",
       "</table>\n",
       "</div>"
      ],
      "text/plain": [
       "         流水号    校园卡号     校园卡编号             消费时间  消费金额  存储金额     余额  消费次数 消费类型  \\\n",
       "0  117342773  181316  20181316  2019/4/20 20:17   3.0   0.0  186.1   818   消费   \n",
       "1  117344766  181316  20181316   2019/4/20 8:47   0.5   0.0  199.5   814   消费   \n",
       "2  117346258  181316  20181316   2019/4/22 7:27   0.5   0.0  183.1   820   消费   \n",
       "\n",
       "   消费项目编码 消费项目序列号  消费操作编码  操作编码  消费地点  \n",
       "0      49     NaN     NaN   235  第一食堂  \n",
       "1      63     NaN     NaN    27  第二食堂  \n",
       "2      63     NaN     NaN    27  第二食堂  "
      ]
     },
     "execution_count": 15,
     "metadata": {},
     "output_type": "execute_result"
    }
   ],
   "source": [
    "data2.head(3)"
   ]
  },
  {
   "cell_type": "code",
   "execution_count": 16,
   "id": "ecf20c70-73d5-45f0-a607-175cdf0877a5",
   "metadata": {},
   "outputs": [
    {
     "data": {
      "text/plain": [
       "0    2019-04-20 20:17:00\n",
       "1    2019-04-20 08:47:00\n",
       "2    2019-04-22 07:27:00\n",
       "Name: 消费时间, dtype: object"
      ]
     },
     "execution_count": 16,
     "metadata": {},
     "output_type": "execute_result"
    }
   ],
   "source": [
    "#对消费时间进行处理\n",
    "data2.loc[:, '消费时间'] = pd.to_datetime(data2.loc[:, \"消费时间\"], format=\"%Y/%m/%d %H:%M\", errors='coerce')\n",
    "data2.head(3)[\"消费时间\"]"
   ]
  },
  {
   "cell_type": "code",
   "execution_count": 17,
   "id": "a7904b0a-156f-4ecd-be29-419c32a716d8",
   "metadata": {},
   "outputs": [
    {
     "data": {
      "text/plain": [
       "流水号         0.000000\n",
       "校园卡号        0.000000\n",
       "校园卡编号       0.000000\n",
       "消费时间        0.000000\n",
       "消费金额        0.000000\n",
       "存储金额        0.000000\n",
       "余额          0.000000\n",
       "消费次数        0.000000\n",
       "消费类型        0.000000\n",
       "消费项目编码      0.000000\n",
       "消费项目序列号    98.601952\n",
       "消费操作编码     99.951672\n",
       "操作编码        0.000000\n",
       "消费地点        0.000000\n",
       "dtype: float64"
      ]
     },
     "execution_count": 17,
     "metadata": {},
     "output_type": "execute_result"
    }
   ],
   "source": [
    "#检查每列的缺失值占比\n",
    "data2.apply(lambda x:sum(x.isnull())/len(x)*100,axis=0)"
   ]
  },
  {
   "cell_type": "code",
   "execution_count": 18,
   "id": "7aee8881-9943-487d-b583-df94dd44bd4d",
   "metadata": {},
   "outputs": [],
   "source": [
    "#因为消费项目序列号和消费操作编码缺失值太高，且作用也不大，所以删掉这两列，不进入后续的分析\n",
    "data2=data2[[\"流水号\",\"校园卡号\",\"校园卡编号\",\"消费时间\",\"消费金额\",\"存储金额\",\"余额\",\"消费次数\",\"消费类型\",\"消费项目编码\",\"操作编码\",\"消费地点\"]]"
   ]
  },
  {
   "cell_type": "code",
   "execution_count": 19,
   "id": "19e10ecc-451d-454e-ba50-77f5706fd6bc",
   "metadata": {},
   "outputs": [
    {
     "data": {
      "text/plain": [
       "Index(['流水号', '校园卡号', '校园卡编号', '消费时间', '消费金额', '存储金额', '余额', '消费次数', '消费类型',\n",
       "       '消费项目编码', '操作编码', '消费地点'],\n",
       "      dtype='object')"
      ]
     },
     "execution_count": 19,
     "metadata": {},
     "output_type": "execute_result"
    }
   ],
   "source": [
    "data2.columns"
   ]
  },
  {
   "cell_type": "code",
   "execution_count": 20,
   "id": "3ca6486d-03f8-4e9e-a99b-18be0d40de1f",
   "metadata": {},
   "outputs": [
    {
     "data": {
      "text/plain": [
       "消费地点\n",
       "第二食堂      154873\n",
       "第五食堂      117615\n",
       "第一食堂       62090\n",
       "第四食堂       60841\n",
       "第三食堂       52103\n",
       "好利来食品店     31781\n",
       "财务处        18295\n",
       "红太阳超市      12942\n",
       "水电缴费处       3388\n",
       "教师食堂        2145\n",
       "医务室          794\n",
       "第二图书馆        376\n",
       "第一图书馆        291\n",
       "工商系部         197\n",
       "自然科学书库       195\n",
       "财务部          170\n",
       "第七教学楼        165\n",
       "基础课部         133\n",
       "艺术设计学院       131\n",
       "第六教学楼        130\n",
       "人文社科         109\n",
       "第二教学楼         99\n",
       "第五教学楼         99\n",
       "飞凤轩宿管办        86\n",
       "机电系           78\n",
       "第四教学楼         56\n",
       "第三教学楼         52\n",
       "宿管办           47\n",
       "青鸾苑宿管办        25\n",
       "财经系           23\n",
       "第一教学楼         23\n",
       "外语系           12\n",
       "旅游系            3\n",
       "Name: count, dtype: int64"
      ]
     },
     "execution_count": 20,
     "metadata": {},
     "output_type": "execute_result"
    }
   ],
   "source": [
    "#统计各消费地点出现的次数\n",
    "data2[\"消费地点\"].value_counts(dropna=False)"
   ]
  },
  {
   "cell_type": "code",
   "execution_count": 21,
   "id": "dddb50ed-7cb9-4db7-82fa-970d73d08d40",
   "metadata": {},
   "outputs": [
    {
     "data": {
      "text/html": [
       "<div>\n",
       "<style scoped>\n",
       "    .dataframe tbody tr th:only-of-type {\n",
       "        vertical-align: middle;\n",
       "    }\n",
       "\n",
       "    .dataframe tbody tr th {\n",
       "        vertical-align: top;\n",
       "    }\n",
       "\n",
       "    .dataframe thead th {\n",
       "        text-align: right;\n",
       "    }\n",
       "</style>\n",
       "<table border=\"1\" class=\"dataframe\">\n",
       "  <thead>\n",
       "    <tr style=\"text-align: right;\">\n",
       "      <th></th>\n",
       "      <th>消费金额</th>\n",
       "      <th>存储金额</th>\n",
       "      <th>余额</th>\n",
       "      <th>消费次数</th>\n",
       "    </tr>\n",
       "  </thead>\n",
       "  <tbody>\n",
       "    <tr>\n",
       "      <th>count</th>\n",
       "      <td>519367.000000</td>\n",
       "      <td>519367.000000</td>\n",
       "      <td>519367.000000</td>\n",
       "      <td>519367.000000</td>\n",
       "    </tr>\n",
       "    <tr>\n",
       "      <th>mean</th>\n",
       "      <td>4.087279</td>\n",
       "      <td>3.949758</td>\n",
       "      <td>78.495517</td>\n",
       "      <td>1016.565421</td>\n",
       "    </tr>\n",
       "    <tr>\n",
       "      <th>std</th>\n",
       "      <td>8.900284</td>\n",
       "      <td>34.329017</td>\n",
       "      <td>121.537938</td>\n",
       "      <td>812.625096</td>\n",
       "    </tr>\n",
       "    <tr>\n",
       "      <th>min</th>\n",
       "      <td>0.000000</td>\n",
       "      <td>0.000000</td>\n",
       "      <td>0.000000</td>\n",
       "      <td>1.000000</td>\n",
       "    </tr>\n",
       "    <tr>\n",
       "      <th>25%</th>\n",
       "      <td>1.200000</td>\n",
       "      <td>0.000000</td>\n",
       "      <td>34.100000</td>\n",
       "      <td>504.000000</td>\n",
       "    </tr>\n",
       "    <tr>\n",
       "      <th>50%</th>\n",
       "      <td>3.000000</td>\n",
       "      <td>0.000000</td>\n",
       "      <td>64.500000</td>\n",
       "      <td>749.000000</td>\n",
       "    </tr>\n",
       "    <tr>\n",
       "      <th>75%</th>\n",
       "      <td>6.000000</td>\n",
       "      <td>0.000000</td>\n",
       "      <td>99.390000</td>\n",
       "      <td>1422.000000</td>\n",
       "    </tr>\n",
       "    <tr>\n",
       "      <th>max</th>\n",
       "      <td>900.000000</td>\n",
       "      <td>9800.000000</td>\n",
       "      <td>9903.610000</td>\n",
       "      <td>14575.000000</td>\n",
       "    </tr>\n",
       "  </tbody>\n",
       "</table>\n",
       "</div>"
      ],
      "text/plain": [
       "                消费金额           存储金额             余额           消费次数\n",
       "count  519367.000000  519367.000000  519367.000000  519367.000000\n",
       "mean        4.087279       3.949758      78.495517    1016.565421\n",
       "std         8.900284      34.329017     121.537938     812.625096\n",
       "min         0.000000       0.000000       0.000000       1.000000\n",
       "25%         1.200000       0.000000      34.100000     504.000000\n",
       "50%         3.000000       0.000000      64.500000     749.000000\n",
       "75%         6.000000       0.000000      99.390000    1422.000000\n",
       "max       900.000000    9800.000000    9903.610000   14575.000000"
      ]
     },
     "execution_count": 21,
     "metadata": {},
     "output_type": "execute_result"
    }
   ],
   "source": [
    "#对数值金额进行统计观察分析\n",
    "data2[[\"消费金额\",\"存储金额\",\"余额\",\"消费次数\"]].describe()"
   ]
  },
  {
   "cell_type": "markdown",
   "id": "3919099e-fcd5-40a2-8f86-9f2661fc1e02",
   "metadata": {},
   "source": [
    "消费金额的最大值远超75%分位，可能存在异常高消费的情况\n",
    "\n",
    "存储金额的标准差较大，表明数据很分散，最大值可能存在极端的存储金额，有可能是异常值\n",
    "\n",
    "余额也是同存储金额，较分散，肯存在异常的高余额\n",
    "\n",
    "消费次数特别分散，最大值也存在异常"
   ]
  },
  {
   "cell_type": "markdown",
   "id": "d8016c0d-4b3f-4695-9d1d-89dd78d95fb0",
   "metadata": {},
   "source": [
    "但是还是先保留，不排除有极端的学生消费存在"
   ]
  },
  {
   "cell_type": "code",
   "execution_count": 22,
   "id": "ada4de84-1fdb-46f2-8918-1067aa4f14f4",
   "metadata": {},
   "outputs": [],
   "source": [
    "#存入文件\n",
    "data2.to_csv(\"task1_1_2.csv\",index=False,encoding='gbk')"
   ]
  },
  {
   "cell_type": "markdown",
   "id": "00bbd8f5-8873-451a-9f14-52b4234c9a25",
   "metadata": {},
   "source": [
    "### 表data3.csv读取处理"
   ]
  },
  {
   "cell_type": "code",
   "execution_count": 23,
   "id": "88495188-2227-4903-aa63-1c55a3424976",
   "metadata": {},
   "outputs": [
    {
     "data": {
      "text/html": [
       "<div>\n",
       "<style scoped>\n",
       "    .dataframe tbody tr th:only-of-type {\n",
       "        vertical-align: middle;\n",
       "    }\n",
       "\n",
       "    .dataframe tbody tr th {\n",
       "        vertical-align: top;\n",
       "    }\n",
       "\n",
       "    .dataframe thead th {\n",
       "        text-align: right;\n",
       "    }\n",
       "</style>\n",
       "<table border=\"1\" class=\"dataframe\">\n",
       "  <thead>\n",
       "    <tr style=\"text-align: right;\">\n",
       "      <th></th>\n",
       "      <th>Index</th>\n",
       "      <th>AccessCardNo</th>\n",
       "      <th>Date</th>\n",
       "      <th>Address</th>\n",
       "      <th>Access</th>\n",
       "      <th>Describe</th>\n",
       "    </tr>\n",
       "  </thead>\n",
       "  <tbody>\n",
       "    <tr>\n",
       "      <th>0</th>\n",
       "      <td>1330906</td>\n",
       "      <td>25558880</td>\n",
       "      <td>2019/4/1 0:00</td>\n",
       "      <td>第六教学楼[进门]</td>\n",
       "      <td>1</td>\n",
       "      <td>允许通过</td>\n",
       "    </tr>\n",
       "    <tr>\n",
       "      <th>1</th>\n",
       "      <td>1330907</td>\n",
       "      <td>18413143</td>\n",
       "      <td>2019/4/1 0:02</td>\n",
       "      <td>第六教学楼[出门]</td>\n",
       "      <td>1</td>\n",
       "      <td>允许通过</td>\n",
       "    </tr>\n",
       "    <tr>\n",
       "      <th>2</th>\n",
       "      <td>1331384</td>\n",
       "      <td>11642752</td>\n",
       "      <td>2019/4/1 0:00</td>\n",
       "      <td>飞凤轩[进门]</td>\n",
       "      <td>1</td>\n",
       "      <td>允许通过</td>\n",
       "    </tr>\n",
       "    <tr>\n",
       "      <th>3</th>\n",
       "      <td>1330908</td>\n",
       "      <td>24124155</td>\n",
       "      <td>2019/4/1 0:00</td>\n",
       "      <td>第六教学楼[出门]</td>\n",
       "      <td>1</td>\n",
       "      <td>允许通过</td>\n",
       "    </tr>\n",
       "    <tr>\n",
       "      <th>4</th>\n",
       "      <td>1331385</td>\n",
       "      <td>18629328</td>\n",
       "      <td>2019/4/1 0:11</td>\n",
       "      <td>飞凤轩[进门]</td>\n",
       "      <td>1</td>\n",
       "      <td>允许通过</td>\n",
       "    </tr>\n",
       "  </tbody>\n",
       "</table>\n",
       "</div>"
      ],
      "text/plain": [
       "     Index  AccessCardNo           Date    Address  Access Describe\n",
       "0  1330906      25558880  2019/4/1 0:00  第六教学楼[进门]       1     允许通过\n",
       "1  1330907      18413143  2019/4/1 0:02  第六教学楼[出门]       1     允许通过\n",
       "2  1331384      11642752  2019/4/1 0:00    飞凤轩[进门]       1     允许通过\n",
       "3  1330908      24124155  2019/4/1 0:00  第六教学楼[出门]       1     允许通过\n",
       "4  1331385      18629328  2019/4/1 0:11    飞凤轩[进门]       1     允许通过"
      ]
     },
     "execution_count": 23,
     "metadata": {},
     "output_type": "execute_result"
    }
   ],
   "source": [
    "#读取\n",
    "data3=pd.read_csv(\"data3.csv\",encoding='gbk')\n",
    "data3.head()"
   ]
  },
  {
   "cell_type": "code",
   "execution_count": 24,
   "id": "4cb4614c-6f3c-4766-ac2c-e36a2de93db4",
   "metadata": {},
   "outputs": [
    {
     "data": {
      "text/plain": [
       "(43156, 6)"
      ]
     },
     "execution_count": 24,
     "metadata": {},
     "output_type": "execute_result"
    }
   ],
   "source": [
    "data3.shape"
   ]
  },
  {
   "cell_type": "code",
   "execution_count": 25,
   "id": "2f772c2f-c99d-4573-af25-225dd25a6bde",
   "metadata": {},
   "outputs": [],
   "source": [
    "#重命名列名\n",
    "data3.columns=['序号',\"门禁卡号\",\"进出时间\",\"进出地点\",\"是否通过\",\"描述通过\"]"
   ]
  },
  {
   "cell_type": "code",
   "execution_count": 26,
   "id": "0d7d97f3-ddc5-4f4c-b67c-cc8c3a92ae7e",
   "metadata": {},
   "outputs": [
    {
     "data": {
      "text/plain": [
       "序号       int64\n",
       "门禁卡号     int64\n",
       "进出时间    object\n",
       "进出地点    object\n",
       "是否通过     int64\n",
       "描述通过    object\n",
       "dtype: object"
      ]
     },
     "execution_count": 26,
     "metadata": {},
     "output_type": "execute_result"
    }
   ],
   "source": [
    "data3.dtypes"
   ]
  },
  {
   "cell_type": "code",
   "execution_count": 27,
   "id": "5e0c3b1d-ca55-4657-b624-28cd513d2340",
   "metadata": {},
   "outputs": [
    {
     "data": {
      "text/plain": [
       "0    2019-04-01 00:00:00\n",
       "1    2019-04-01 00:02:00\n",
       "2    2019-04-01 00:00:00\n",
       "3    2019-04-01 00:00:00\n",
       "4    2019-04-01 00:11:00\n",
       "Name: 进出时间, dtype: object"
      ]
     },
     "execution_count": 27,
     "metadata": {},
     "output_type": "execute_result"
    }
   ],
   "source": [
    "#对时间格式进行调整\n",
    "data3.loc[:, '进出时间'] = pd.to_datetime(data3.loc[:, '进出时间'], format=\"%Y/%m/%d %H:%M\", errors='coerce')\n",
    "data3.head()['进出时间']"
   ]
  },
  {
   "cell_type": "code",
   "execution_count": 28,
   "id": "c819f3bf-4286-4af5-be62-16a894fa8c0b",
   "metadata": {},
   "outputs": [
    {
     "data": {
      "text/plain": [
       "序号      0.0\n",
       "门禁卡号    0.0\n",
       "进出时间    0.0\n",
       "进出地点    0.0\n",
       "是否通过    0.0\n",
       "描述通过    0.0\n",
       "dtype: float64"
      ]
     },
     "execution_count": 28,
     "metadata": {},
     "output_type": "execute_result"
    }
   ],
   "source": [
    "#检查data3的缺失比例\n",
    "data3.apply(lambda x: sum(x.isnull())/len(x),axis=0)"
   ]
  },
  {
   "cell_type": "markdown",
   "id": "be8d1246-2041-4d3d-9b68-84768bcef5e8",
   "metadata": {},
   "source": [
    "无缺失值"
   ]
  },
  {
   "cell_type": "code",
   "execution_count": 29,
   "id": "28a99cd7-6ad2-4037-859b-ac3f101c1eaf",
   "metadata": {},
   "outputs": [
    {
     "data": {
      "text/plain": [
       "进出地点\n",
       "飞凤轩[进门]      10689\n",
       "飞凤轩[出门]      10397\n",
       "第六教学楼[进门]     7713\n",
       "第六教学楼[出门]     7217\n",
       "青鸾苑[出门]       3318\n",
       "青鸾苑[进门]       2787\n",
       "第七教学楼[进门]      449\n",
       "第五教学楼[进门]      250\n",
       "第五教学楼[出门]      222\n",
       "第七教学楼[出门]      114\n",
       "Name: count, dtype: int64"
      ]
     },
     "execution_count": 29,
     "metadata": {},
     "output_type": "execute_result"
    }
   ],
   "source": [
    "#各个进出地点出现的频率\n",
    "data3['进出地点'].value_counts(dropna=False)"
   ]
  },
  {
   "cell_type": "code",
   "execution_count": 30,
   "id": "5d815f46-1e85-46e6-8089-34a0d6167a0d",
   "metadata": {},
   "outputs": [
    {
     "data": {
      "text/plain": [
       "是否通过\n",
       "1    41749\n",
       "0     1407\n",
       "Name: count, dtype: int64"
      ]
     },
     "execution_count": 30,
     "metadata": {},
     "output_type": "execute_result"
    }
   ],
   "source": [
    "#检查是否通过这一类的值出现的频率，顺便观看是否有异常值\n",
    "data3[\"是否通过\"].value_counts(dropna=False)"
   ]
  },
  {
   "cell_type": "markdown",
   "id": "765ab1d6-c890-43eb-911b-86d60ef768a6",
   "metadata": {},
   "source": [
    "0为异常值"
   ]
  },
  {
   "cell_type": "code",
   "execution_count": 31,
   "id": "87555b99-9551-47f6-96e9-673cce8781d7",
   "metadata": {},
   "outputs": [],
   "source": [
    "#删掉是否通过中的0值\n",
    "data3=data3[data3.loc[:,\"是否通过\"]!=0]"
   ]
  },
  {
   "cell_type": "code",
   "execution_count": 32,
   "id": "57c773dd-377d-442f-95b7-fdcb8c55de94",
   "metadata": {},
   "outputs": [
    {
     "data": {
      "text/plain": [
       "(41749, 6)"
      ]
     },
     "execution_count": 32,
     "metadata": {},
     "output_type": "execute_result"
    }
   ],
   "source": [
    "data3.shape"
   ]
  },
  {
   "cell_type": "code",
   "execution_count": 33,
   "id": "27098b0a-96a4-4fd2-94d8-64715b9443f4",
   "metadata": {},
   "outputs": [],
   "source": [
    "#存入文件\n",
    "data3.to_csv('task1_1_3.csv',index=False,encoding='gbk')"
   ]
  },
  {
   "cell_type": "markdown",
   "id": "f0d7402d-0c60-4008-a7a8-1af25bacd245",
   "metadata": {},
   "source": [
    "## 建立表关联连接"
   ]
  },
  {
   "cell_type": "code",
   "execution_count": 34,
   "id": "d5a2dabb-381e-4cf9-bbf3-669fb8a44c85",
   "metadata": {},
   "outputs": [],
   "source": [
    "data1=pd.read_csv('task1_1_1.csv',encoding='gbk')\n",
    "data2=pd.read_csv('task1_1_2.csv',encoding='gbk')\n",
    "data3=pd.read_csv('task1_1_3.csv',encoding='gbk')"
   ]
  },
  {
   "cell_type": "code",
   "execution_count": 35,
   "id": "f7791772-652f-4945-9edb-99053554bcd8",
   "metadata": {},
   "outputs": [
    {
     "name": "stdout",
     "output_type": "stream",
     "text": [
      "(4341, 5)\n"
     ]
    },
    {
     "data": {
      "text/html": [
       "<div>\n",
       "<style scoped>\n",
       "    .dataframe tbody tr th:only-of-type {\n",
       "        vertical-align: middle;\n",
       "    }\n",
       "\n",
       "    .dataframe tbody tr th {\n",
       "        vertical-align: top;\n",
       "    }\n",
       "\n",
       "    .dataframe thead th {\n",
       "        text-align: right;\n",
       "    }\n",
       "</style>\n",
       "<table border=\"1\" class=\"dataframe\">\n",
       "  <thead>\n",
       "    <tr style=\"text-align: right;\">\n",
       "      <th></th>\n",
       "      <th>序号</th>\n",
       "      <th>校园卡号</th>\n",
       "      <th>性别</th>\n",
       "      <th>专业名称</th>\n",
       "      <th>门禁卡号</th>\n",
       "    </tr>\n",
       "  </thead>\n",
       "  <tbody>\n",
       "    <tr>\n",
       "      <th>0</th>\n",
       "      <td>1</td>\n",
       "      <td>180001</td>\n",
       "      <td>男</td>\n",
       "      <td>18国际金融</td>\n",
       "      <td>19762330</td>\n",
       "    </tr>\n",
       "    <tr>\n",
       "      <th>1</th>\n",
       "      <td>2</td>\n",
       "      <td>180002</td>\n",
       "      <td>男</td>\n",
       "      <td>18国际金融</td>\n",
       "      <td>20521594</td>\n",
       "    </tr>\n",
       "    <tr>\n",
       "      <th>2</th>\n",
       "      <td>3</td>\n",
       "      <td>180003</td>\n",
       "      <td>男</td>\n",
       "      <td>18国际金融</td>\n",
       "      <td>20513946</td>\n",
       "    </tr>\n",
       "  </tbody>\n",
       "</table>\n",
       "</div>"
      ],
      "text/plain": [
       "   序号    校园卡号 性别    专业名称      门禁卡号\n",
       "0   1  180001  男  18国际金融  19762330\n",
       "1   2  180002  男  18国际金融  20521594\n",
       "2   3  180003  男  18国际金融  20513946"
      ]
     },
     "execution_count": 35,
     "metadata": {},
     "output_type": "execute_result"
    }
   ],
   "source": [
    "print(data1.shape)\n",
    "data1.head(3)"
   ]
  },
  {
   "cell_type": "code",
   "execution_count": 36,
   "id": "4f1503c1-a650-4faa-a95d-957448f635ab",
   "metadata": {},
   "outputs": [
    {
     "name": "stdout",
     "output_type": "stream",
     "text": [
      "(519367, 12)\n"
     ]
    },
    {
     "data": {
      "text/html": [
       "<div>\n",
       "<style scoped>\n",
       "    .dataframe tbody tr th:only-of-type {\n",
       "        vertical-align: middle;\n",
       "    }\n",
       "\n",
       "    .dataframe tbody tr th {\n",
       "        vertical-align: top;\n",
       "    }\n",
       "\n",
       "    .dataframe thead th {\n",
       "        text-align: right;\n",
       "    }\n",
       "</style>\n",
       "<table border=\"1\" class=\"dataframe\">\n",
       "  <thead>\n",
       "    <tr style=\"text-align: right;\">\n",
       "      <th></th>\n",
       "      <th>流水号</th>\n",
       "      <th>校园卡号</th>\n",
       "      <th>校园卡编号</th>\n",
       "      <th>消费时间</th>\n",
       "      <th>消费金额</th>\n",
       "      <th>存储金额</th>\n",
       "      <th>余额</th>\n",
       "      <th>消费次数</th>\n",
       "      <th>消费类型</th>\n",
       "      <th>消费项目编码</th>\n",
       "      <th>操作编码</th>\n",
       "      <th>消费地点</th>\n",
       "    </tr>\n",
       "  </thead>\n",
       "  <tbody>\n",
       "    <tr>\n",
       "      <th>0</th>\n",
       "      <td>117342773</td>\n",
       "      <td>181316</td>\n",
       "      <td>20181316</td>\n",
       "      <td>2019-04-20 20:17:00</td>\n",
       "      <td>3.0</td>\n",
       "      <td>0.0</td>\n",
       "      <td>186.1</td>\n",
       "      <td>818</td>\n",
       "      <td>消费</td>\n",
       "      <td>49</td>\n",
       "      <td>235</td>\n",
       "      <td>第一食堂</td>\n",
       "    </tr>\n",
       "    <tr>\n",
       "      <th>1</th>\n",
       "      <td>117344766</td>\n",
       "      <td>181316</td>\n",
       "      <td>20181316</td>\n",
       "      <td>2019-04-20 08:47:00</td>\n",
       "      <td>0.5</td>\n",
       "      <td>0.0</td>\n",
       "      <td>199.5</td>\n",
       "      <td>814</td>\n",
       "      <td>消费</td>\n",
       "      <td>63</td>\n",
       "      <td>27</td>\n",
       "      <td>第二食堂</td>\n",
       "    </tr>\n",
       "    <tr>\n",
       "      <th>2</th>\n",
       "      <td>117346258</td>\n",
       "      <td>181316</td>\n",
       "      <td>20181316</td>\n",
       "      <td>2019-04-22 07:27:00</td>\n",
       "      <td>0.5</td>\n",
       "      <td>0.0</td>\n",
       "      <td>183.1</td>\n",
       "      <td>820</td>\n",
       "      <td>消费</td>\n",
       "      <td>63</td>\n",
       "      <td>27</td>\n",
       "      <td>第二食堂</td>\n",
       "    </tr>\n",
       "  </tbody>\n",
       "</table>\n",
       "</div>"
      ],
      "text/plain": [
       "         流水号    校园卡号     校园卡编号                 消费时间  消费金额  存储金额     余额  消费次数  \\\n",
       "0  117342773  181316  20181316  2019-04-20 20:17:00   3.0   0.0  186.1   818   \n",
       "1  117344766  181316  20181316  2019-04-20 08:47:00   0.5   0.0  199.5   814   \n",
       "2  117346258  181316  20181316  2019-04-22 07:27:00   0.5   0.0  183.1   820   \n",
       "\n",
       "  消费类型  消费项目编码  操作编码  消费地点  \n",
       "0   消费      49   235  第一食堂  \n",
       "1   消费      63    27  第二食堂  \n",
       "2   消费      63    27  第二食堂  "
      ]
     },
     "execution_count": 36,
     "metadata": {},
     "output_type": "execute_result"
    }
   ],
   "source": [
    "print(data2.shape)\n",
    "data2.head(3)"
   ]
  },
  {
   "cell_type": "code",
   "execution_count": 37,
   "id": "5a20b92b-f20e-40f5-88bd-e15151af9062",
   "metadata": {},
   "outputs": [
    {
     "name": "stdout",
     "output_type": "stream",
     "text": [
      "(41749, 6)\n"
     ]
    },
    {
     "data": {
      "text/html": [
       "<div>\n",
       "<style scoped>\n",
       "    .dataframe tbody tr th:only-of-type {\n",
       "        vertical-align: middle;\n",
       "    }\n",
       "\n",
       "    .dataframe tbody tr th {\n",
       "        vertical-align: top;\n",
       "    }\n",
       "\n",
       "    .dataframe thead th {\n",
       "        text-align: right;\n",
       "    }\n",
       "</style>\n",
       "<table border=\"1\" class=\"dataframe\">\n",
       "  <thead>\n",
       "    <tr style=\"text-align: right;\">\n",
       "      <th></th>\n",
       "      <th>序号</th>\n",
       "      <th>门禁卡号</th>\n",
       "      <th>进出时间</th>\n",
       "      <th>进出地点</th>\n",
       "      <th>是否通过</th>\n",
       "      <th>描述通过</th>\n",
       "    </tr>\n",
       "  </thead>\n",
       "  <tbody>\n",
       "    <tr>\n",
       "      <th>0</th>\n",
       "      <td>1330906</td>\n",
       "      <td>25558880</td>\n",
       "      <td>2019-04-01 00:00:00</td>\n",
       "      <td>第六教学楼[进门]</td>\n",
       "      <td>1</td>\n",
       "      <td>允许通过</td>\n",
       "    </tr>\n",
       "    <tr>\n",
       "      <th>1</th>\n",
       "      <td>1330907</td>\n",
       "      <td>18413143</td>\n",
       "      <td>2019-04-01 00:02:00</td>\n",
       "      <td>第六教学楼[出门]</td>\n",
       "      <td>1</td>\n",
       "      <td>允许通过</td>\n",
       "    </tr>\n",
       "    <tr>\n",
       "      <th>2</th>\n",
       "      <td>1331384</td>\n",
       "      <td>11642752</td>\n",
       "      <td>2019-04-01 00:00:00</td>\n",
       "      <td>飞凤轩[进门]</td>\n",
       "      <td>1</td>\n",
       "      <td>允许通过</td>\n",
       "    </tr>\n",
       "  </tbody>\n",
       "</table>\n",
       "</div>"
      ],
      "text/plain": [
       "        序号      门禁卡号                 进出时间       进出地点  是否通过  描述通过\n",
       "0  1330906  25558880  2019-04-01 00:00:00  第六教学楼[进门]     1  允许通过\n",
       "1  1330907  18413143  2019-04-01 00:02:00  第六教学楼[出门]     1  允许通过\n",
       "2  1331384  11642752  2019-04-01 00:00:00    飞凤轩[进门]     1  允许通过"
      ]
     },
     "execution_count": 37,
     "metadata": {},
     "output_type": "execute_result"
    }
   ],
   "source": [
    "print(data3.shape)\n",
    "data3.head(3)"
   ]
  },
  {
   "cell_type": "markdown",
   "id": "794e2cc6-1df4-468e-bfd7-cfabe327d871",
   "metadata": {},
   "source": [
    "### data1连接data2"
   ]
  },
  {
   "cell_type": "code",
   "execution_count": 38,
   "id": "f1e1df75-bfd6-4403-bfbe-a6a8d8a0e144",
   "metadata": {},
   "outputs": [
    {
     "data": {
      "text/plain": [
       "(242152, 16)"
      ]
     },
     "execution_count": 38,
     "metadata": {},
     "output_type": "execute_result"
    }
   ],
   "source": [
    "#将data1连接data2，利用校园卡号\n",
    "data1_merge_data2=pd.merge(data1,data2,how='left',left_on=\"校园卡号\",right_on=\"校园卡号\")\n",
    "data1_merge_data2.shape"
   ]
  },
  {
   "cell_type": "code",
   "execution_count": 39,
   "id": "1947e5b8-2785-4e34-8c50-7af0ea069f2b",
   "metadata": {},
   "outputs": [
    {
     "data": {
      "text/html": [
       "<div>\n",
       "<style scoped>\n",
       "    .dataframe tbody tr th:only-of-type {\n",
       "        vertical-align: middle;\n",
       "    }\n",
       "\n",
       "    .dataframe tbody tr th {\n",
       "        vertical-align: top;\n",
       "    }\n",
       "\n",
       "    .dataframe thead th {\n",
       "        text-align: right;\n",
       "    }\n",
       "</style>\n",
       "<table border=\"1\" class=\"dataframe\">\n",
       "  <thead>\n",
       "    <tr style=\"text-align: right;\">\n",
       "      <th></th>\n",
       "      <th>序号</th>\n",
       "      <th>校园卡号</th>\n",
       "      <th>性别</th>\n",
       "      <th>专业名称</th>\n",
       "      <th>门禁卡号</th>\n",
       "      <th>流水号</th>\n",
       "      <th>校园卡编号</th>\n",
       "      <th>消费时间</th>\n",
       "      <th>消费金额</th>\n",
       "      <th>存储金额</th>\n",
       "      <th>余额</th>\n",
       "      <th>消费次数</th>\n",
       "      <th>消费类型</th>\n",
       "      <th>消费项目编码</th>\n",
       "      <th>操作编码</th>\n",
       "      <th>消费地点</th>\n",
       "    </tr>\n",
       "  </thead>\n",
       "  <tbody>\n",
       "    <tr>\n",
       "      <th>242147</th>\n",
       "      <td>4339</td>\n",
       "      <td>184339</td>\n",
       "      <td>女</td>\n",
       "      <td>18工业工程</td>\n",
       "      <td>11513762</td>\n",
       "      <td>117193924.0</td>\n",
       "      <td>20184339.0</td>\n",
       "      <td>2019-04-15 07:27:00</td>\n",
       "      <td>0.6</td>\n",
       "      <td>0.0</td>\n",
       "      <td>45.9</td>\n",
       "      <td>527.0</td>\n",
       "      <td>消费</td>\n",
       "      <td>127.0</td>\n",
       "      <td>204.0</td>\n",
       "      <td>第五食堂</td>\n",
       "    </tr>\n",
       "    <tr>\n",
       "      <th>242148</th>\n",
       "      <td>4339</td>\n",
       "      <td>184339</td>\n",
       "      <td>女</td>\n",
       "      <td>18工业工程</td>\n",
       "      <td>11513762</td>\n",
       "      <td>117195245.0</td>\n",
       "      <td>20184339.0</td>\n",
       "      <td>2019-04-15 13:14:00</td>\n",
       "      <td>6.0</td>\n",
       "      <td>0.0</td>\n",
       "      <td>39.9</td>\n",
       "      <td>528.0</td>\n",
       "      <td>消费</td>\n",
       "      <td>132.0</td>\n",
       "      <td>204.0</td>\n",
       "      <td>第五食堂</td>\n",
       "    </tr>\n",
       "    <tr>\n",
       "      <th>242149</th>\n",
       "      <td>4339</td>\n",
       "      <td>184339</td>\n",
       "      <td>女</td>\n",
       "      <td>18工业工程</td>\n",
       "      <td>11513762</td>\n",
       "      <td>117212601.0</td>\n",
       "      <td>20184339.0</td>\n",
       "      <td>2019-04-12 15:05:00</td>\n",
       "      <td>0.5</td>\n",
       "      <td>0.0</td>\n",
       "      <td>58.3</td>\n",
       "      <td>521.0</td>\n",
       "      <td>消费</td>\n",
       "      <td>141.0</td>\n",
       "      <td>204.0</td>\n",
       "      <td>第五食堂</td>\n",
       "    </tr>\n",
       "    <tr>\n",
       "      <th>242150</th>\n",
       "      <td>4340</td>\n",
       "      <td>164340</td>\n",
       "      <td>男</td>\n",
       "      <td>18审计</td>\n",
       "      <td>12750370</td>\n",
       "      <td>NaN</td>\n",
       "      <td>NaN</td>\n",
       "      <td>NaN</td>\n",
       "      <td>NaN</td>\n",
       "      <td>NaN</td>\n",
       "      <td>NaN</td>\n",
       "      <td>NaN</td>\n",
       "      <td>NaN</td>\n",
       "      <td>NaN</td>\n",
       "      <td>NaN</td>\n",
       "      <td>NaN</td>\n",
       "    </tr>\n",
       "    <tr>\n",
       "      <th>242151</th>\n",
       "      <td>4341</td>\n",
       "      <td>164341</td>\n",
       "      <td>男</td>\n",
       "      <td>18宝玉石鉴定</td>\n",
       "      <td>427586</td>\n",
       "      <td>NaN</td>\n",
       "      <td>NaN</td>\n",
       "      <td>NaN</td>\n",
       "      <td>NaN</td>\n",
       "      <td>NaN</td>\n",
       "      <td>NaN</td>\n",
       "      <td>NaN</td>\n",
       "      <td>NaN</td>\n",
       "      <td>NaN</td>\n",
       "      <td>NaN</td>\n",
       "      <td>NaN</td>\n",
       "    </tr>\n",
       "  </tbody>\n",
       "</table>\n",
       "</div>"
      ],
      "text/plain": [
       "          序号    校园卡号 性别     专业名称      门禁卡号          流水号       校园卡编号  \\\n",
       "242147  4339  184339  女   18工业工程  11513762  117193924.0  20184339.0   \n",
       "242148  4339  184339  女   18工业工程  11513762  117195245.0  20184339.0   \n",
       "242149  4339  184339  女   18工业工程  11513762  117212601.0  20184339.0   \n",
       "242150  4340  164340  男     18审计  12750370          NaN         NaN   \n",
       "242151  4341  164341  男  18宝玉石鉴定    427586          NaN         NaN   \n",
       "\n",
       "                       消费时间  消费金额  存储金额    余额   消费次数 消费类型  消费项目编码   操作编码  消费地点  \n",
       "242147  2019-04-15 07:27:00   0.6   0.0  45.9  527.0   消费   127.0  204.0  第五食堂  \n",
       "242148  2019-04-15 13:14:00   6.0   0.0  39.9  528.0   消费   132.0  204.0  第五食堂  \n",
       "242149  2019-04-12 15:05:00   0.5   0.0  58.3  521.0   消费   141.0  204.0  第五食堂  \n",
       "242150                  NaN   NaN   NaN   NaN    NaN  NaN     NaN    NaN   NaN  \n",
       "242151                  NaN   NaN   NaN   NaN    NaN  NaN     NaN    NaN   NaN  "
      ]
     },
     "execution_count": 39,
     "metadata": {},
     "output_type": "execute_result"
    }
   ],
   "source": [
    " #返回最后五行数据观看，查看是否有异常\n",
    "data1_merge_data2.tail() "
   ]
  },
  {
   "cell_type": "code",
   "execution_count": 40,
   "id": "d16e52b8-c5ea-44a3-a492-78b5e3d34edf",
   "metadata": {},
   "outputs": [
    {
     "data": {
      "text/plain": [
       "序号        0.000000\n",
       "校园卡号      0.000000\n",
       "性别        0.000000\n",
       "专业名称      0.000000\n",
       "门禁卡号      0.000000\n",
       "流水号       0.004431\n",
       "校园卡编号     0.004431\n",
       "消费时间      0.004431\n",
       "消费金额      0.004431\n",
       "存储金额      0.004431\n",
       "余额        0.004431\n",
       "消费次数      0.004431\n",
       "消费类型      0.004431\n",
       "消费项目编码    0.004431\n",
       "操作编码      0.004431\n",
       "消费地点      0.004431\n",
       "dtype: float64"
      ]
     },
     "execution_count": 40,
     "metadata": {},
     "output_type": "execute_result"
    }
   ],
   "source": [
    "#查看缺失值的比例\n",
    "data1_merge_data2.apply(lambda x : sum(x.isnull())/len(x),axis=0)"
   ]
  },
  {
   "cell_type": "code",
   "execution_count": 41,
   "id": "51908369-bb39-4de0-b4f1-ac0bb67c050c",
   "metadata": {},
   "outputs": [],
   "source": [
    "#缺失值可以直接删掉，没意义对后续的处理\n",
    "#因为都是表连接的时候产生的缺失值，所以随便选择data2表中的一个字段删除就可以了\n",
    "data1_merge_data2=data1_merge_data2.dropna(subset=[\"流水号\"],how='any')"
   ]
  },
  {
   "cell_type": "code",
   "execution_count": 42,
   "id": "102d9efd-6f16-49f8-bcbc-ac9746ec4b0b",
   "metadata": {},
   "outputs": [
    {
     "data": {
      "text/plain": [
       "(241079, 16)"
      ]
     },
     "execution_count": 42,
     "metadata": {},
     "output_type": "execute_result"
    }
   ],
   "source": [
    "data1_merge_data2.shape"
   ]
  },
  {
   "cell_type": "code",
   "execution_count": 43,
   "id": "8a0cd9ad-ef36-4ad2-b301-389d8068684a",
   "metadata": {},
   "outputs": [],
   "source": [
    "#表存储\n",
    "data1_merge_data2.to_csv('task1_2_1.csv',index=False,encoding='gbk')"
   ]
  },
  {
   "cell_type": "markdown",
   "id": "9f205777-0522-40c7-a101-1efea5542032",
   "metadata": {},
   "source": [
    "### data1连接data3"
   ]
  },
  {
   "cell_type": "code",
   "execution_count": 44,
   "id": "86cc8b39-abfe-44ab-9b0d-30bc1787ace2",
   "metadata": {},
   "outputs": [],
   "source": [
    "data1_merge_data3=pd.merge(data1,data3,how='left',left_on='门禁卡号',right_on=\"门禁卡号\")"
   ]
  },
  {
   "cell_type": "code",
   "execution_count": 45,
   "id": "ebea29fc-a612-463a-882b-9dc41da82f3d",
   "metadata": {},
   "outputs": [
    {
     "name": "stdout",
     "output_type": "stream",
     "text": [
      "(21709, 10)\n"
     ]
    },
    {
     "data": {
      "text/html": [
       "<div>\n",
       "<style scoped>\n",
       "    .dataframe tbody tr th:only-of-type {\n",
       "        vertical-align: middle;\n",
       "    }\n",
       "\n",
       "    .dataframe tbody tr th {\n",
       "        vertical-align: top;\n",
       "    }\n",
       "\n",
       "    .dataframe thead th {\n",
       "        text-align: right;\n",
       "    }\n",
       "</style>\n",
       "<table border=\"1\" class=\"dataframe\">\n",
       "  <thead>\n",
       "    <tr style=\"text-align: right;\">\n",
       "      <th></th>\n",
       "      <th>序号_x</th>\n",
       "      <th>校园卡号</th>\n",
       "      <th>性别</th>\n",
       "      <th>专业名称</th>\n",
       "      <th>门禁卡号</th>\n",
       "      <th>序号_y</th>\n",
       "      <th>进出时间</th>\n",
       "      <th>进出地点</th>\n",
       "      <th>是否通过</th>\n",
       "      <th>描述通过</th>\n",
       "    </tr>\n",
       "  </thead>\n",
       "  <tbody>\n",
       "    <tr>\n",
       "      <th>21704</th>\n",
       "      <td>4337</td>\n",
       "      <td>184337</td>\n",
       "      <td>女</td>\n",
       "      <td>18工业工程</td>\n",
       "      <td>19051328</td>\n",
       "      <td>NaN</td>\n",
       "      <td>NaN</td>\n",
       "      <td>NaN</td>\n",
       "      <td>NaN</td>\n",
       "      <td>NaN</td>\n",
       "    </tr>\n",
       "    <tr>\n",
       "      <th>21705</th>\n",
       "      <td>4338</td>\n",
       "      <td>184338</td>\n",
       "      <td>女</td>\n",
       "      <td>18工业工程</td>\n",
       "      <td>21915376</td>\n",
       "      <td>NaN</td>\n",
       "      <td>NaN</td>\n",
       "      <td>NaN</td>\n",
       "      <td>NaN</td>\n",
       "      <td>NaN</td>\n",
       "    </tr>\n",
       "    <tr>\n",
       "      <th>21706</th>\n",
       "      <td>4339</td>\n",
       "      <td>184339</td>\n",
       "      <td>女</td>\n",
       "      <td>18工业工程</td>\n",
       "      <td>11513762</td>\n",
       "      <td>NaN</td>\n",
       "      <td>NaN</td>\n",
       "      <td>NaN</td>\n",
       "      <td>NaN</td>\n",
       "      <td>NaN</td>\n",
       "    </tr>\n",
       "    <tr>\n",
       "      <th>21707</th>\n",
       "      <td>4340</td>\n",
       "      <td>164340</td>\n",
       "      <td>男</td>\n",
       "      <td>18审计</td>\n",
       "      <td>12750370</td>\n",
       "      <td>NaN</td>\n",
       "      <td>NaN</td>\n",
       "      <td>NaN</td>\n",
       "      <td>NaN</td>\n",
       "      <td>NaN</td>\n",
       "    </tr>\n",
       "    <tr>\n",
       "      <th>21708</th>\n",
       "      <td>4341</td>\n",
       "      <td>164341</td>\n",
       "      <td>男</td>\n",
       "      <td>18宝玉石鉴定</td>\n",
       "      <td>427586</td>\n",
       "      <td>NaN</td>\n",
       "      <td>NaN</td>\n",
       "      <td>NaN</td>\n",
       "      <td>NaN</td>\n",
       "      <td>NaN</td>\n",
       "    </tr>\n",
       "  </tbody>\n",
       "</table>\n",
       "</div>"
      ],
      "text/plain": [
       "       序号_x    校园卡号 性别     专业名称      门禁卡号  序号_y 进出时间 进出地点  是否通过 描述通过\n",
       "21704  4337  184337  女   18工业工程  19051328   NaN  NaN  NaN   NaN  NaN\n",
       "21705  4338  184338  女   18工业工程  21915376   NaN  NaN  NaN   NaN  NaN\n",
       "21706  4339  184339  女   18工业工程  11513762   NaN  NaN  NaN   NaN  NaN\n",
       "21707  4340  164340  男     18审计  12750370   NaN  NaN  NaN   NaN  NaN\n",
       "21708  4341  164341  男  18宝玉石鉴定    427586   NaN  NaN  NaN   NaN  NaN"
      ]
     },
     "execution_count": 45,
     "metadata": {},
     "output_type": "execute_result"
    }
   ],
   "source": [
    "print(data1_merge_data3.shape)\n",
    "data1_merge_data3.tail()"
   ]
  },
  {
   "cell_type": "markdown",
   "id": "2971b52b-ccc2-45d3-804f-d3afe6174f36",
   "metadata": {},
   "source": [
    "有很多缺失值，接下来查看缺失值的比例"
   ]
  },
  {
   "cell_type": "code",
   "execution_count": 46,
   "id": "d4aff2d1-12ac-48f9-afc5-ea684e6d5a48",
   "metadata": {},
   "outputs": [
    {
     "data": {
      "text/plain": [
       "序号_x    0.000000\n",
       "校园卡号    0.000000\n",
       "性别      0.000000\n",
       "专业名称    0.000000\n",
       "门禁卡号    0.000000\n",
       "序号_y    0.157723\n",
       "进出时间    0.157723\n",
       "进出地点    0.157723\n",
       "是否通过    0.157723\n",
       "描述通过    0.157723\n",
       "dtype: float64"
      ]
     },
     "execution_count": 46,
     "metadata": {},
     "output_type": "execute_result"
    }
   ],
   "source": [
    "data1_merge_data3.apply(lambda x: sum(x.isnull())/len(x),axis=0)"
   ]
  },
  {
   "cell_type": "code",
   "execution_count": 48,
   "id": "4d78deb8-dbac-4d89-9357-7e0de5134f95",
   "metadata": {},
   "outputs": [
    {
     "data": {
      "text/plain": [
       "(18285, 10)"
      ]
     },
     "execution_count": 48,
     "metadata": {},
     "output_type": "execute_result"
    }
   ],
   "source": [
    "#删除掉缺失值\n",
    "data1_merge_data3=data1_merge_data3.dropna(subset=['进出时间'],how='any')\n",
    "data1_merge_data3.shape"
   ]
  },
  {
   "cell_type": "code",
   "execution_count": 49,
   "id": "46f4822b-69a8-4937-afda-5951d8b1f7ae",
   "metadata": {},
   "outputs": [],
   "source": [
    "#存入文件\n",
    "data1_merge_data3.to_csv('task1_2_2.csv',index=False,encoding='gbk')"
   ]
  }
 ],
 "metadata": {
  "kernelspec": {
   "display_name": "Python 3 (ipykernel)",
   "language": "python",
   "name": "python3"
  },
  "language_info": {
   "codemirror_mode": {
    "name": "ipython",
    "version": 3
   },
   "file_extension": ".py",
   "mimetype": "text/x-python",
   "name": "python",
   "nbconvert_exporter": "python",
   "pygments_lexer": "ipython3",
   "version": "3.12.4"
  }
 },
 "nbformat": 4,
 "nbformat_minor": 5
}
