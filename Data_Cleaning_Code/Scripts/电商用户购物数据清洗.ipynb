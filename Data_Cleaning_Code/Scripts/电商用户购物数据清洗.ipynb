{
 "cells": [
  {
   "cell_type": "markdown",
   "id": "206a459d-8552-4799-8b56-6198ee0c2579",
   "metadata": {},
   "source": [
    "1.导入相关包"
   ]
  },
  {
   "cell_type": "code",
   "execution_count": 2,
   "id": "7dace42b-49cc-4efc-8572-e47dbb3540c1",
   "metadata": {},
   "outputs": [],
   "source": [
    "import pandas as pd\n",
    "import numpy as np\n",
    "from scipy import stats\n",
    "import matplotlib.pyplot as plt\n",
    "%matplotlib inline"
   ]
  },
  {
   "cell_type": "markdown",
   "id": "bb5bd70c-f5fa-4452-9504-209a94b1b710",
   "metadata": {},
   "source": [
    "2.导入数据集：用户消费分析"
   ]
  },
  {
   "cell_type": "code",
   "execution_count": 3,
   "id": "87068a12-959f-4523-a97b-9d6ea99f0a7f",
   "metadata": {
    "scrolled": true
   },
   "outputs": [
    {
     "data": {
      "text/html": [
       "<div>\n",
       "<style scoped>\n",
       "    .dataframe tbody tr th:only-of-type {\n",
       "        vertical-align: middle;\n",
       "    }\n",
       "\n",
       "    .dataframe tbody tr th {\n",
       "        vertical-align: top;\n",
       "    }\n",
       "\n",
       "    .dataframe thead th {\n",
       "        text-align: right;\n",
       "    }\n",
       "</style>\n",
       "<table border=\"1\" class=\"dataframe\">\n",
       "  <thead>\n",
       "    <tr style=\"text-align: right;\">\n",
       "      <th></th>\n",
       "      <th>订单顺序编号</th>\n",
       "      <th>订单号</th>\n",
       "      <th>用户名</th>\n",
       "      <th>商品编号</th>\n",
       "      <th>订单金额</th>\n",
       "      <th>付款金额</th>\n",
       "      <th>渠道编号</th>\n",
       "      <th>平台类型</th>\n",
       "      <th>下单时间</th>\n",
       "      <th>付款时间</th>\n",
       "      <th>是否退款</th>\n",
       "    </tr>\n",
       "  </thead>\n",
       "  <tbody>\n",
       "    <tr>\n",
       "      <th>0</th>\n",
       "      <td>8</td>\n",
       "      <td>sys-2021-306447069</td>\n",
       "      <td>user-104863</td>\n",
       "      <td>PR000499</td>\n",
       "      <td>499.41</td>\n",
       "      <td>480.42</td>\n",
       "      <td>渠道1</td>\n",
       "      <td>微信公众号</td>\n",
       "      <td>2021-01-01 01:05:50</td>\n",
       "      <td>2021-01-01 01:06:17</td>\n",
       "      <td>否</td>\n",
       "    </tr>\n",
       "    <tr>\n",
       "      <th>1</th>\n",
       "      <td>11</td>\n",
       "      <td>sys-2021-417411381</td>\n",
       "      <td>user-181957</td>\n",
       "      <td>PR000483</td>\n",
       "      <td>279.53</td>\n",
       "      <td>279.53</td>\n",
       "      <td>渠道1</td>\n",
       "      <td>APP</td>\n",
       "      <td>2021-01-01 01:36:17</td>\n",
       "      <td>2021-01-01 01:36:56</td>\n",
       "      <td>否</td>\n",
       "    </tr>\n",
       "  </tbody>\n",
       "</table>\n",
       "</div>"
      ],
      "text/plain": [
       "   订单顺序编号                 订单号         用户名       商品编号    订单金额    付款金额 渠道编号  \\\n",
       "0       8  sys-2021-306447069  user-104863  PR000499  499.41  480.42  渠道1   \n",
       "1      11  sys-2021-417411381  user-181957  PR000483  279.53  279.53  渠道1   \n",
       "\n",
       "    平台类型                下单时间                付款时间 是否退款  \n",
       "0  微信公众号 2021-01-01 01:05:50 2021-01-01 01:06:17    否  \n",
       "1    APP 2021-01-01 01:36:17 2021-01-01 01:36:56    否  "
      ]
     },
     "execution_count": 3,
     "metadata": {},
     "output_type": "execute_result"
    }
   ],
   "source": [
    "fpath=r\"D:\\pandas\\order2021.xlsx\"\n",
    "df=pd.read_excel(fpath)\n",
    "df.head(2)"
   ]
  },
  {
   "cell_type": "markdown",
   "id": "6bd063b2-3ebe-46c0-b81b-019d113b35a3",
   "metadata": {},
   "source": [
    "3.数据的初步探索"
   ]
  },
  {
   "cell_type": "code",
   "execution_count": 4,
   "id": "5998ccbf-7728-4339-8d33-789c0af0efc7",
   "metadata": {},
   "outputs": [
    {
     "data": {
      "text/plain": [
       "(104558, 11)"
      ]
     },
     "execution_count": 4,
     "metadata": {},
     "output_type": "execute_result"
    }
   ],
   "source": [
    "#查看数据的形状\n",
    "df.shape"
   ]
  },
  {
   "cell_type": "code",
   "execution_count": 5,
   "id": "93a671b8-25b6-497e-b94d-d0196583537f",
   "metadata": {},
   "outputs": [
    {
     "name": "stdout",
     "output_type": "stream",
     "text": [
      "<class 'pandas.core.frame.DataFrame'>\n",
      "RangeIndex: 104558 entries, 0 to 104557\n",
      "Data columns (total 11 columns):\n",
      " #   Column  Non-Null Count   Dtype         \n",
      "---  ------  --------------   -----         \n",
      " 0   订单顺序编号  104558 non-null  int64         \n",
      " 1   订单号     104558 non-null  object        \n",
      " 2   用户名     104558 non-null  object        \n",
      " 3   商品编号    104558 non-null  object        \n",
      " 4   订单金额    104558 non-null  float64       \n",
      " 5   付款金额    104558 non-null  float64       \n",
      " 6   渠道编号    104550 non-null  object        \n",
      " 7   平台类型    104558 non-null  object        \n",
      " 8   下单时间    104558 non-null  datetime64[ns]\n",
      " 9   付款时间    104558 non-null  datetime64[ns]\n",
      " 10  是否退款    104558 non-null  object        \n",
      "dtypes: datetime64[ns](2), float64(2), int64(1), object(6)\n",
      "memory usage: 8.8+ MB\n"
     ]
    }
   ],
   "source": [
    "df.info()\n",
    "#可以简单的看出来这个数据集，有些是有缺失值的"
   ]
  },
  {
   "cell_type": "code",
   "execution_count": 6,
   "id": "eeaaa5df-bc33-4f40-accf-c7b37d84d810",
   "metadata": {},
   "outputs": [
    {
     "data": {
      "text/html": [
       "<div>\n",
       "<style scoped>\n",
       "    .dataframe tbody tr th:only-of-type {\n",
       "        vertical-align: middle;\n",
       "    }\n",
       "\n",
       "    .dataframe tbody tr th {\n",
       "        vertical-align: top;\n",
       "    }\n",
       "\n",
       "    .dataframe thead th {\n",
       "        text-align: right;\n",
       "    }\n",
       "</style>\n",
       "<table border=\"1\" class=\"dataframe\">\n",
       "  <thead>\n",
       "    <tr style=\"text-align: right;\">\n",
       "      <th></th>\n",
       "      <th>订单顺序编号</th>\n",
       "      <th>订单金额</th>\n",
       "      <th>付款金额</th>\n",
       "      <th>下单时间</th>\n",
       "      <th>付款时间</th>\n",
       "    </tr>\n",
       "  </thead>\n",
       "  <tbody>\n",
       "    <tr>\n",
       "      <th>count</th>\n",
       "      <td>104558.000000</td>\n",
       "      <td>104558.000000</td>\n",
       "      <td>104558.000000</td>\n",
       "      <td>104558</td>\n",
       "      <td>104558</td>\n",
       "    </tr>\n",
       "    <tr>\n",
       "      <th>mean</th>\n",
       "      <td>52278.501415</td>\n",
       "      <td>1049.673450</td>\n",
       "      <td>1167.502610</td>\n",
       "      <td>2021-07-20 09:53:45.391122432</td>\n",
       "      <td>2021-07-21 07:13:01.848772864</td>\n",
       "    </tr>\n",
       "    <tr>\n",
       "      <th>min</th>\n",
       "      <td>1.000000</td>\n",
       "      <td>6.100000</td>\n",
       "      <td>-12.470000</td>\n",
       "      <td>2020-01-01 00:09:32</td>\n",
       "      <td>2021-01-01 00:09:47</td>\n",
       "    </tr>\n",
       "    <tr>\n",
       "      <th>25%</th>\n",
       "      <td>26139.250000</td>\n",
       "      <td>432.032500</td>\n",
       "      <td>383.662500</td>\n",
       "      <td>2021-05-07 10:24:54.500000</td>\n",
       "      <td>2021-05-07 10:11:03.750000128</td>\n",
       "    </tr>\n",
       "    <tr>\n",
       "      <th>50%</th>\n",
       "      <td>52278.500000</td>\n",
       "      <td>679.305000</td>\n",
       "      <td>641.235000</td>\n",
       "      <td>2021-07-25 19:36:02.500000</td>\n",
       "      <td>2021-07-25 19:10:52.500000</td>\n",
       "    </tr>\n",
       "    <tr>\n",
       "      <th>75%</th>\n",
       "      <td>78417.750000</td>\n",
       "      <td>1248.272500</td>\n",
       "      <td>1252.645000</td>\n",
       "      <td>2021-10-17 13:13:04</td>\n",
       "      <td>2021-10-17 12:51:52</td>\n",
       "    </tr>\n",
       "    <tr>\n",
       "      <th>max</th>\n",
       "      <td>104557.000000</td>\n",
       "      <td>28465.250000</td>\n",
       "      <td>83270.053829</td>\n",
       "      <td>2021-12-31 23:48:34</td>\n",
       "      <td>2021-12-31 23:49:04</td>\n",
       "    </tr>\n",
       "    <tr>\n",
       "      <th>std</th>\n",
       "      <td>30183.436612</td>\n",
       "      <td>1054.408156</td>\n",
       "      <td>2174.016150</td>\n",
       "      <td>NaN</td>\n",
       "      <td>NaN</td>\n",
       "    </tr>\n",
       "  </tbody>\n",
       "</table>\n",
       "</div>"
      ],
      "text/plain": [
       "              订单顺序编号           订单金额           付款金额  \\\n",
       "count  104558.000000  104558.000000  104558.000000   \n",
       "mean    52278.501415    1049.673450    1167.502610   \n",
       "min         1.000000       6.100000     -12.470000   \n",
       "25%     26139.250000     432.032500     383.662500   \n",
       "50%     52278.500000     679.305000     641.235000   \n",
       "75%     78417.750000    1248.272500    1252.645000   \n",
       "max    104557.000000   28465.250000   83270.053829   \n",
       "std     30183.436612    1054.408156    2174.016150   \n",
       "\n",
       "                                下单时间                           付款时间  \n",
       "count                         104558                         104558  \n",
       "mean   2021-07-20 09:53:45.391122432  2021-07-21 07:13:01.848772864  \n",
       "min              2020-01-01 00:09:32            2021-01-01 00:09:47  \n",
       "25%       2021-05-07 10:24:54.500000  2021-05-07 10:11:03.750000128  \n",
       "50%       2021-07-25 19:36:02.500000     2021-07-25 19:10:52.500000  \n",
       "75%              2021-10-17 13:13:04            2021-10-17 12:51:52  \n",
       "max              2021-12-31 23:48:34            2021-12-31 23:49:04  \n",
       "std                              NaN                            NaN  "
      ]
     },
     "execution_count": 6,
     "metadata": {},
     "output_type": "execute_result"
    }
   ],
   "source": [
    "#快速查看数据的描述性统计信息\n",
    "df.describe()"
   ]
  },
  {
   "cell_type": "markdown",
   "id": "ee13573b-bcf7-4607-bb2e-e1f31b02db6d",
   "metadata": {},
   "source": [
    "4.简单数据处理"
   ]
  },
  {
   "cell_type": "code",
   "execution_count": 7,
   "id": "0b35337e-ae10-4cf1-880f-43a7b36bd825",
   "metadata": {},
   "outputs": [
    {
     "data": {
      "text/plain": [
       "Index(['订单顺序编号', '订单号', '用户名 ', '商品编号', '订单金额', '付款金额', '渠道编号', '平台类型', '下单时间',\n",
       "       '付款时间', '是否退款'],\n",
       "      dtype='object')"
      ]
     },
     "execution_count": 7,
     "metadata": {},
     "output_type": "execute_result"
    }
   ],
   "source": [
    "df.columns  #可以看到‘用户名’这一列，后面是多了一个空格的"
   ]
  },
  {
   "cell_type": "code",
   "execution_count": 8,
   "id": "b83971f0-9210-47e2-9a58-4b466171f818",
   "metadata": {},
   "outputs": [
    {
     "data": {
      "text/plain": [
       "0    user-104863\n",
       "1    user-181957\n",
       "Name: 用户名 , dtype: object"
      ]
     },
     "execution_count": 8,
     "metadata": {},
     "output_type": "execute_result"
    }
   ],
   "source": [
    "df[\"用户名 \"].head(2)"
   ]
  },
  {
   "cell_type": "code",
   "execution_count": 9,
   "id": "c2dc1ba1-82f3-4f4c-9870-fea045c1820f",
   "metadata": {},
   "outputs": [
    {
     "data": {
      "text/plain": [
       "Index(['订单顺序编号', '订单号', '用户名', '商品编号', '订单金额', '付款金额', '渠道编号', '平台类型', '下单时间',\n",
       "       '付款时间', '是否退款'],\n",
       "      dtype='object')"
      ]
     },
     "execution_count": 9,
     "metadata": {},
     "output_type": "execute_result"
    }
   ],
   "source": [
    "#将列名里所有的前后空格都去掉\n",
    "col = df.columns.values\n",
    "df.columns=[x.strip() for x in col]\n",
    "df.columns"
   ]
  },
  {
   "cell_type": "markdown",
   "id": "d4fe8fdc-eb90-4663-843f-23c867dce813",
   "metadata": {},
   "source": [
    "5.重复值的处理"
   ]
  },
  {
   "cell_type": "code",
   "execution_count": 10,
   "id": "eb8aed01-c6be-4b72-b2b6-e58ef1599fdb",
   "metadata": {},
   "outputs": [
    {
     "data": {
      "text/plain": [
       "1"
      ]
     },
     "execution_count": 10,
     "metadata": {},
     "output_type": "execute_result"
    }
   ],
   "source": [
    "#检查重复值\n",
    "df.duplicated().sum()\n"
   ]
  },
  {
   "cell_type": "code",
   "execution_count": 11,
   "id": "5f09c4f0-0e85-484f-8e48-b7dda040583e",
   "metadata": {},
   "outputs": [
    {
     "data": {
      "text/html": [
       "<div>\n",
       "<style scoped>\n",
       "    .dataframe tbody tr th:only-of-type {\n",
       "        vertical-align: middle;\n",
       "    }\n",
       "\n",
       "    .dataframe tbody tr th {\n",
       "        vertical-align: top;\n",
       "    }\n",
       "\n",
       "    .dataframe thead th {\n",
       "        text-align: right;\n",
       "    }\n",
       "</style>\n",
       "<table border=\"1\" class=\"dataframe\">\n",
       "  <thead>\n",
       "    <tr style=\"text-align: right;\">\n",
       "      <th></th>\n",
       "      <th>订单顺序编号</th>\n",
       "      <th>订单号</th>\n",
       "      <th>用户名</th>\n",
       "      <th>商品编号</th>\n",
       "      <th>订单金额</th>\n",
       "      <th>付款金额</th>\n",
       "      <th>渠道编号</th>\n",
       "      <th>平台类型</th>\n",
       "      <th>下单时间</th>\n",
       "      <th>付款时间</th>\n",
       "      <th>是否退款</th>\n",
       "    </tr>\n",
       "  </thead>\n",
       "  <tbody>\n",
       "    <tr>\n",
       "      <th>104557</th>\n",
       "      <td>148</td>\n",
       "      <td>sys-2021-355060894</td>\n",
       "      <td>user-214122</td>\n",
       "      <td>PR000826</td>\n",
       "      <td>205.78</td>\n",
       "      <td>2044.27572</td>\n",
       "      <td>渠道1</td>\n",
       "      <td>APP</td>\n",
       "      <td>2021-01-01 14:44:49</td>\n",
       "      <td>2021-01-01 14:45:21</td>\n",
       "      <td>是</td>\n",
       "    </tr>\n",
       "  </tbody>\n",
       "</table>\n",
       "</div>"
      ],
      "text/plain": [
       "        订单顺序编号                 订单号          用户名      商品编号    订单金额        付款金额  \\\n",
       "104557     148  sys-2021-355060894  user-214122  PR000826  205.78  2044.27572   \n",
       "\n",
       "       渠道编号 平台类型                下单时间                付款时间 是否退款  \n",
       "104557  渠道1  APP 2021-01-01 14:44:49 2021-01-01 14:45:21    是  "
      ]
     },
     "execution_count": 11,
     "metadata": {},
     "output_type": "execute_result"
    }
   ],
   "source": [
    "df[df.duplicated()]"
   ]
  },
  {
   "cell_type": "code",
   "execution_count": 12,
   "id": "5bf0aa4f-62f2-4210-aa56-4c736fe50a3d",
   "metadata": {},
   "outputs": [
    {
     "data": {
      "text/plain": [
       "(104557, 11)"
      ]
     },
     "execution_count": 12,
     "metadata": {},
     "output_type": "execute_result"
    }
   ],
   "source": [
    "#删除重复值\n",
    "df.drop_duplicates(inplace=True)\n",
    "df.shape"
   ]
  },
  {
   "cell_type": "code",
   "execution_count": 13,
   "id": "2d2f877b-1270-41e9-a36d-c9e187a84d15",
   "metadata": {},
   "outputs": [
    {
     "data": {
      "text/plain": [
       "RangeIndex(start=0, stop=104557, step=1)"
      ]
     },
     "execution_count": 13,
     "metadata": {},
     "output_type": "execute_result"
    }
   ],
   "source": [
    "#索引重置\n",
    "df.index=range(df.shape[0])\n",
    "df.index"
   ]
  },
  {
   "cell_type": "markdown",
   "id": "43f429d3-a320-4b29-9291-89b533d4eccc",
   "metadata": {},
   "source": [
    "6.异常值处理"
   ]
  },
  {
   "cell_type": "code",
   "execution_count": 14,
   "id": "ebfa712c-7295-4c31-91c7-14df16e7b768",
   "metadata": {},
   "outputs": [
    {
     "data": {
      "text/html": [
       "<div>\n",
       "<style scoped>\n",
       "    .dataframe tbody tr th:only-of-type {\n",
       "        vertical-align: middle;\n",
       "    }\n",
       "\n",
       "    .dataframe tbody tr th {\n",
       "        vertical-align: top;\n",
       "    }\n",
       "\n",
       "    .dataframe thead th {\n",
       "        text-align: right;\n",
       "    }\n",
       "</style>\n",
       "<table border=\"1\" class=\"dataframe\">\n",
       "  <thead>\n",
       "    <tr style=\"text-align: right;\">\n",
       "      <th></th>\n",
       "      <th>订单顺序编号</th>\n",
       "      <th>订单金额</th>\n",
       "      <th>付款金额</th>\n",
       "      <th>下单时间</th>\n",
       "      <th>付款时间</th>\n",
       "    </tr>\n",
       "  </thead>\n",
       "  <tbody>\n",
       "    <tr>\n",
       "      <th>count</th>\n",
       "      <td>104557.000000</td>\n",
       "      <td>104557.000000</td>\n",
       "      <td>104557.000000</td>\n",
       "      <td>104557</td>\n",
       "      <td>104557</td>\n",
       "    </tr>\n",
       "    <tr>\n",
       "      <th>mean</th>\n",
       "      <td>52279.000000</td>\n",
       "      <td>1049.681521</td>\n",
       "      <td>1167.494225</td>\n",
       "      <td>2021-07-20 09:56:30.492803072</td>\n",
       "      <td>2021-07-21 07:15:47.684258048</td>\n",
       "    </tr>\n",
       "    <tr>\n",
       "      <th>min</th>\n",
       "      <td>1.000000</td>\n",
       "      <td>6.100000</td>\n",
       "      <td>-12.470000</td>\n",
       "      <td>2020-01-01 00:09:32</td>\n",
       "      <td>2021-01-01 00:09:47</td>\n",
       "    </tr>\n",
       "    <tr>\n",
       "      <th>25%</th>\n",
       "      <td>26140.000000</td>\n",
       "      <td>432.040000</td>\n",
       "      <td>383.660000</td>\n",
       "      <td>2021-05-07 10:25:41</td>\n",
       "      <td>2021-05-07 10:16:51</td>\n",
       "    </tr>\n",
       "    <tr>\n",
       "      <th>50%</th>\n",
       "      <td>52279.000000</td>\n",
       "      <td>679.320000</td>\n",
       "      <td>641.230000</td>\n",
       "      <td>2021-07-25 19:36:45</td>\n",
       "      <td>2021-07-25 19:11:40</td>\n",
       "    </tr>\n",
       "    <tr>\n",
       "      <th>75%</th>\n",
       "      <td>78418.000000</td>\n",
       "      <td>1248.280000</td>\n",
       "      <td>1252.630000</td>\n",
       "      <td>2021-10-17 13:14:10</td>\n",
       "      <td>2021-10-17 12:52:26</td>\n",
       "    </tr>\n",
       "    <tr>\n",
       "      <th>max</th>\n",
       "      <td>104557.000000</td>\n",
       "      <td>28465.250000</td>\n",
       "      <td>83270.053829</td>\n",
       "      <td>2021-12-31 23:48:34</td>\n",
       "      <td>2021-12-31 23:49:04</td>\n",
       "    </tr>\n",
       "    <tr>\n",
       "      <th>std</th>\n",
       "      <td>30183.150385</td>\n",
       "      <td>1054.409968</td>\n",
       "      <td>2174.024855</td>\n",
       "      <td>NaN</td>\n",
       "      <td>NaN</td>\n",
       "    </tr>\n",
       "  </tbody>\n",
       "</table>\n",
       "</div>"
      ],
      "text/plain": [
       "              订单顺序编号           订单金额           付款金额  \\\n",
       "count  104557.000000  104557.000000  104557.000000   \n",
       "mean    52279.000000    1049.681521    1167.494225   \n",
       "min         1.000000       6.100000     -12.470000   \n",
       "25%     26140.000000     432.040000     383.660000   \n",
       "50%     52279.000000     679.320000     641.230000   \n",
       "75%     78418.000000    1248.280000    1252.630000   \n",
       "max    104557.000000   28465.250000   83270.053829   \n",
       "std     30183.150385    1054.409968    2174.024855   \n",
       "\n",
       "                                下单时间                           付款时间  \n",
       "count                         104557                         104557  \n",
       "mean   2021-07-20 09:56:30.492803072  2021-07-21 07:15:47.684258048  \n",
       "min              2020-01-01 00:09:32            2021-01-01 00:09:47  \n",
       "25%              2021-05-07 10:25:41            2021-05-07 10:16:51  \n",
       "50%              2021-07-25 19:36:45            2021-07-25 19:11:40  \n",
       "75%              2021-10-17 13:14:10            2021-10-17 12:52:26  \n",
       "max              2021-12-31 23:48:34            2021-12-31 23:49:04  \n",
       "std                              NaN                            NaN  "
      ]
     },
     "execution_count": 14,
     "metadata": {},
     "output_type": "execute_result"
    }
   ],
   "source": [
    "df.describe()"
   ]
  },
  {
   "cell_type": "code",
   "execution_count": 15,
   "id": "31d5f0f9-dc0b-4e48-a9ee-81c1e37be460",
   "metadata": {},
   "outputs": [
    {
     "data": {
      "text/plain": [
       "(102486, 11)"
      ]
     },
     "execution_count": 15,
     "metadata": {},
     "output_type": "execute_result"
    }
   ],
   "source": [
    "#利用Z-Score绝对值>3，去除掉订单金额异常值\n",
    "df['Z_Score']=np.abs(stats.zscore(df['订单金额']))\n",
    "df[df['Z_Score']>3]\n",
    "df[df['Z_Score']>3].shape\n",
    "#删掉异常值行，以及辅助列\n",
    "df = df[df['Z_Score']<3].drop(columns=['Z_Score'])\n",
    "df.shape"
   ]
  },
  {
   "cell_type": "code",
   "execution_count": 16,
   "id": "b0291d1b-e41c-46e9-a3fa-e93da88e8958",
   "metadata": {},
   "outputs": [
    {
     "data": {
      "text/plain": [
       "0          True\n",
       "1          True\n",
       "2          True\n",
       "3          True\n",
       "4          True\n",
       "          ...  \n",
       "104552     True\n",
       "104553     True\n",
       "104554    False\n",
       "104555     True\n",
       "104556     True\n",
       "Length: 102305, dtype: bool"
      ]
     },
     "execution_count": 16,
     "metadata": {},
     "output_type": "execute_result"
    }
   ],
   "source": [
    "#基于业务的逻辑判断，付款金额应该是>0的\n",
    "df=df[df[\"付款金额\"]>0]\n",
    "#并且付款金额应该不超过订单金额的\n",
    "df.订单金额>=df.付款金额"
   ]
  },
  {
   "cell_type": "code",
   "execution_count": null,
   "id": "56f456c3-5391-4fd5-912a-3cbfaeb424fa",
   "metadata": {},
   "outputs": [],
   "source": []
  },
  {
   "cell_type": "code",
   "execution_count": 17,
   "id": "25dae826-eeb1-4d06-a3cb-2975a2c6bab6",
   "metadata": {},
   "outputs": [
    {
     "data": {
      "text/plain": [
       "(100319, 11)"
      ]
     },
     "execution_count": 17,
     "metadata": {},
     "output_type": "execute_result"
    }
   ],
   "source": [
    "#里面有False，则需要处理\n",
    "df=df[df.订单金额>=df.付款金额]\n",
    "df.shape"
   ]
  },
  {
   "cell_type": "code",
   "execution_count": 18,
   "id": "662b8981-e2c2-4f84-ba18-0c5ce36bf888",
   "metadata": {},
   "outputs": [
    {
     "data": {
      "text/html": [
       "<div>\n",
       "<style scoped>\n",
       "    .dataframe tbody tr th:only-of-type {\n",
       "        vertical-align: middle;\n",
       "    }\n",
       "\n",
       "    .dataframe tbody tr th {\n",
       "        vertical-align: top;\n",
       "    }\n",
       "\n",
       "    .dataframe thead th {\n",
       "        text-align: right;\n",
       "    }\n",
       "</style>\n",
       "<table border=\"1\" class=\"dataframe\">\n",
       "  <thead>\n",
       "    <tr style=\"text-align: right;\">\n",
       "      <th></th>\n",
       "      <th>订单号</th>\n",
       "      <th>用户名</th>\n",
       "      <th>渠道编号</th>\n",
       "    </tr>\n",
       "  </thead>\n",
       "  <tbody>\n",
       "    <tr>\n",
       "      <th>77652</th>\n",
       "      <td>sys-2021-212049970</td>\n",
       "      <td>user-175996</td>\n",
       "      <td>渠道13</td>\n",
       "    </tr>\n",
       "    <tr>\n",
       "      <th>80613</th>\n",
       "      <td>sys-2021-212049970</td>\n",
       "      <td>user-120182</td>\n",
       "      <td>渠道13</td>\n",
       "    </tr>\n",
       "    <tr>\n",
       "      <th>17330</th>\n",
       "      <td>sys-2021-237885771</td>\n",
       "      <td>user-252305</td>\n",
       "      <td>渠道4</td>\n",
       "    </tr>\n",
       "    <tr>\n",
       "      <th>89181</th>\n",
       "      <td>sys-2021-237885771</td>\n",
       "      <td>user-122268</td>\n",
       "      <td>渠道14</td>\n",
       "    </tr>\n",
       "    <tr>\n",
       "      <th>92275</th>\n",
       "      <td>sys-2021-255321366</td>\n",
       "      <td>user-256511</td>\n",
       "      <td>渠道15</td>\n",
       "    </tr>\n",
       "    <tr>\n",
       "      <th>35250</th>\n",
       "      <td>sys-2021-255321366</td>\n",
       "      <td>user-137973</td>\n",
       "      <td>渠道7</td>\n",
       "    </tr>\n",
       "    <tr>\n",
       "      <th>9530</th>\n",
       "      <td>sys-2021-259110469</td>\n",
       "      <td>user-107004</td>\n",
       "      <td>渠道2</td>\n",
       "    </tr>\n",
       "    <tr>\n",
       "      <th>41233</th>\n",
       "      <td>sys-2021-259110469</td>\n",
       "      <td>user-152217</td>\n",
       "      <td>渠道9</td>\n",
       "    </tr>\n",
       "    <tr>\n",
       "      <th>81564</th>\n",
       "      <td>sys-2021-280013984</td>\n",
       "      <td>user-299453</td>\n",
       "      <td>渠道13</td>\n",
       "    </tr>\n",
       "    <tr>\n",
       "      <th>22070</th>\n",
       "      <td>sys-2021-280013984</td>\n",
       "      <td>user-159781</td>\n",
       "      <td>渠道5</td>\n",
       "    </tr>\n",
       "  </tbody>\n",
       "</table>\n",
       "</div>"
      ],
      "text/plain": [
       "                      订单号          用户名  渠道编号\n",
       "77652  sys-2021-212049970  user-175996  渠道13\n",
       "80613  sys-2021-212049970  user-120182  渠道13\n",
       "17330  sys-2021-237885771  user-252305   渠道4\n",
       "89181  sys-2021-237885771  user-122268  渠道14\n",
       "92275  sys-2021-255321366  user-256511  渠道15\n",
       "35250  sys-2021-255321366  user-137973   渠道7\n",
       "9530   sys-2021-259110469  user-107004   渠道2\n",
       "41233  sys-2021-259110469  user-152217   渠道9\n",
       "81564  sys-2021-280013984  user-299453  渠道13\n",
       "22070  sys-2021-280013984  user-159781   渠道5"
      ]
     },
     "execution_count": 18,
     "metadata": {},
     "output_type": "execute_result"
    }
   ],
   "source": [
    "#按照逻辑，订单号一般只出现一次，是唯一的\n",
    "# 找出重复的订单号\n",
    "duplicates = df[df['订单号'].duplicated(keep=False)]\n",
    "# 提取重复订单号对应的用户名\n",
    "duplicates[['订单号', '用户名','渠道编号']].sort_values(by='订单号').head(10)"
   ]
  },
  {
   "cell_type": "code",
   "execution_count": 19,
   "id": "f6e4d436-10da-4143-903b-56dc84cbd9cd",
   "metadata": {},
   "outputs": [],
   "source": [
    "#发现重复的订单号对应着不同的用户名，但是甚至有的来源于同一个渠道，这些是异常值\n",
    "#可能是订单号输入错误了，可以将重复出现的订单号在末尾加上-1-2...作为标记\n",
    "if not duplicates.empty:\n",
    "    for order_id in duplicates[\"订单号\"].unique():\n",
    "        #找到当前重复的行\n",
    "        idx=df[df[\"订单号\"] == order_id].index\n",
    "        #为每个重复行添加序号\n",
    "        df.loc[idx,'订单号'] = [f\"{order_id}-{i+1}\" for i in range(len(idx))]\n"
   ]
  },
  {
   "cell_type": "code",
   "execution_count": 20,
   "id": "07c692c9-ce1a-4a28-9f84-53f6033906a8",
   "metadata": {},
   "outputs": [],
   "source": [
    "#对索引重新编号\n",
    "df.index=range(df.shape[0])"
   ]
  },
  {
   "cell_type": "markdown",
   "id": "ca6844f3-e9d6-4dc7-a955-451f6d0576aa",
   "metadata": {},
   "source": [
    "7.缺失值处理"
   ]
  },
  {
   "cell_type": "code",
   "execution_count": 21,
   "id": "d2ee7785-5411-473e-80de-13ed0154c533",
   "metadata": {},
   "outputs": [
    {
     "data": {
      "text/plain": [
       "订单顺序编号    0\n",
       "订单号       0\n",
       "用户名       0\n",
       "商品编号      0\n",
       "订单金额      0\n",
       "付款金额      0\n",
       "渠道编号      7\n",
       "平台类型      0\n",
       "下单时间      0\n",
       "付款时间      0\n",
       "是否退款      0\n",
       "dtype: int64"
      ]
     },
     "execution_count": 21,
     "metadata": {},
     "output_type": "execute_result"
    }
   ],
   "source": [
    "#查看缺失值的个数\n",
    "df.isnull().sum()"
   ]
  },
  {
   "cell_type": "code",
   "execution_count": 22,
   "id": "4cac7b73-a244-463c-aa2a-1a44909f888a",
   "metadata": {},
   "outputs": [
    {
     "data": {
      "text/html": [
       "<div>\n",
       "<style scoped>\n",
       "    .dataframe tbody tr th:only-of-type {\n",
       "        vertical-align: middle;\n",
       "    }\n",
       "\n",
       "    .dataframe tbody tr th {\n",
       "        vertical-align: top;\n",
       "    }\n",
       "\n",
       "    .dataframe thead th {\n",
       "        text-align: right;\n",
       "    }\n",
       "</style>\n",
       "<table border=\"1\" class=\"dataframe\">\n",
       "  <thead>\n",
       "    <tr style=\"text-align: right;\">\n",
       "      <th></th>\n",
       "      <th>订单顺序编号</th>\n",
       "      <th>订单号</th>\n",
       "      <th>用户名</th>\n",
       "      <th>商品编号</th>\n",
       "      <th>订单金额</th>\n",
       "      <th>付款金额</th>\n",
       "      <th>渠道编号</th>\n",
       "      <th>平台类型</th>\n",
       "      <th>下单时间</th>\n",
       "      <th>付款时间</th>\n",
       "      <th>是否退款</th>\n",
       "    </tr>\n",
       "  </thead>\n",
       "  <tbody>\n",
       "    <tr>\n",
       "      <th>100312</th>\n",
       "      <td>11598</td>\n",
       "      <td>sys-2021-353765060</td>\n",
       "      <td>user-120690</td>\n",
       "      <td>PR000297</td>\n",
       "      <td>534.12</td>\n",
       "      <td>477.10</td>\n",
       "      <td>NaN</td>\n",
       "      <td>web网站</td>\n",
       "      <td>2021-03-02 10:11:38</td>\n",
       "      <td>2021-03-02 10:11:55</td>\n",
       "      <td>否</td>\n",
       "    </tr>\n",
       "    <tr>\n",
       "      <th>100313</th>\n",
       "      <td>11639</td>\n",
       "      <td>sys-2021-339868263</td>\n",
       "      <td>user-264491</td>\n",
       "      <td>PR000714</td>\n",
       "      <td>206.33</td>\n",
       "      <td>206.33</td>\n",
       "      <td>NaN</td>\n",
       "      <td>微信公众号</td>\n",
       "      <td>2021-03-02 14:02:58</td>\n",
       "      <td>2021-03-02 14:03:22</td>\n",
       "      <td>否</td>\n",
       "    </tr>\n",
       "    <tr>\n",
       "      <th>100314</th>\n",
       "      <td>14234</td>\n",
       "      <td>sys-2021-313502796</td>\n",
       "      <td>user-180054</td>\n",
       "      <td>PR000423</td>\n",
       "      <td>669.09</td>\n",
       "      <td>669.09</td>\n",
       "      <td>NaN</td>\n",
       "      <td>微信公众号</td>\n",
       "      <td>2021-03-16 15:13:31</td>\n",
       "      <td>2021-03-16 15:13:55</td>\n",
       "      <td>否</td>\n",
       "    </tr>\n",
       "    <tr>\n",
       "      <th>100315</th>\n",
       "      <td>35716</td>\n",
       "      <td>sys-2021-300339928</td>\n",
       "      <td>user-270141</td>\n",
       "      <td>PR000984</td>\n",
       "      <td>328.83</td>\n",
       "      <td>295.47</td>\n",
       "      <td>NaN</td>\n",
       "      <td>微信公众号</td>\n",
       "      <td>2021-06-06 11:03:46</td>\n",
       "      <td>2021-06-06 11:04:19</td>\n",
       "      <td>否</td>\n",
       "    </tr>\n",
       "    <tr>\n",
       "      <th>100316</th>\n",
       "      <td>55444</td>\n",
       "      <td>sys-2021-286784634</td>\n",
       "      <td>user-183770</td>\n",
       "      <td>PR000987</td>\n",
       "      <td>488.07</td>\n",
       "      <td>476.81</td>\n",
       "      <td>NaN</td>\n",
       "      <td>APP</td>\n",
       "      <td>2021-08-04 18:53:34</td>\n",
       "      <td>2021-08-04 18:53:49</td>\n",
       "      <td>否</td>\n",
       "    </tr>\n",
       "    <tr>\n",
       "      <th>100317</th>\n",
       "      <td>77890</td>\n",
       "      <td>sys-2021-251942165</td>\n",
       "      <td>user-100835</td>\n",
       "      <td>PR000263</td>\n",
       "      <td>3613.63</td>\n",
       "      <td>3545.98</td>\n",
       "      <td>NaN</td>\n",
       "      <td>微信公众号</td>\n",
       "      <td>2021-10-15 22:59:12</td>\n",
       "      <td>2021-10-15 22:59:28</td>\n",
       "      <td>否</td>\n",
       "    </tr>\n",
       "    <tr>\n",
       "      <th>100318</th>\n",
       "      <td>86627</td>\n",
       "      <td>sys-2021-322891956</td>\n",
       "      <td>user-116711</td>\n",
       "      <td>PR000676</td>\n",
       "      <td>802.18</td>\n",
       "      <td>748.85</td>\n",
       "      <td>NaN</td>\n",
       "      <td>微信公众号</td>\n",
       "      <td>2021-11-13 00:06:21</td>\n",
       "      <td>2021-11-13 00:06:39</td>\n",
       "      <td>否</td>\n",
       "    </tr>\n",
       "  </tbody>\n",
       "</table>\n",
       "</div>"
      ],
      "text/plain": [
       "        订单顺序编号                 订单号          用户名      商品编号     订单金额     付款金额  \\\n",
       "100312   11598  sys-2021-353765060  user-120690  PR000297   534.12   477.10   \n",
       "100313   11639  sys-2021-339868263  user-264491  PR000714   206.33   206.33   \n",
       "100314   14234  sys-2021-313502796  user-180054  PR000423   669.09   669.09   \n",
       "100315   35716  sys-2021-300339928  user-270141  PR000984   328.83   295.47   \n",
       "100316   55444  sys-2021-286784634  user-183770  PR000987   488.07   476.81   \n",
       "100317   77890  sys-2021-251942165  user-100835  PR000263  3613.63  3545.98   \n",
       "100318   86627  sys-2021-322891956  user-116711  PR000676   802.18   748.85   \n",
       "\n",
       "       渠道编号   平台类型                下单时间                付款时间 是否退款  \n",
       "100312  NaN  web网站 2021-03-02 10:11:38 2021-03-02 10:11:55    否  \n",
       "100313  NaN  微信公众号 2021-03-02 14:02:58 2021-03-02 14:03:22    否  \n",
       "100314  NaN  微信公众号 2021-03-16 15:13:31 2021-03-16 15:13:55    否  \n",
       "100315  NaN  微信公众号 2021-06-06 11:03:46 2021-06-06 11:04:19    否  \n",
       "100316  NaN    APP 2021-08-04 18:53:34 2021-08-04 18:53:49    否  \n",
       "100317  NaN  微信公众号 2021-10-15 22:59:12 2021-10-15 22:59:28    否  \n",
       "100318  NaN  微信公众号 2021-11-13 00:06:21 2021-11-13 00:06:39    否  "
      ]
     },
     "execution_count": 22,
     "metadata": {},
     "output_type": "execute_result"
    }
   ],
   "source": [
    "#只有渠道编号有7个缺失值\n",
    "df[df[\"渠道编号\"].isnull()]"
   ]
  },
  {
   "cell_type": "code",
   "execution_count": 23,
   "id": "fca5a59d-5fb8-4c19-89e8-5b8cbd93f694",
   "metadata": {},
   "outputs": [],
   "source": [
    "#因为没有办法通过别的信息去判断渠道编号，所以选择删除\n",
    "df=df.drop(df[df[\"渠道编号\"].isnull()].index)"
   ]
  },
  {
   "cell_type": "code",
   "execution_count": 24,
   "id": "52f691d1-1fd2-4999-b55e-b67576943006",
   "metadata": {},
   "outputs": [],
   "source": [
    "df.index=range(df.shape[0])"
   ]
  },
  {
   "cell_type": "code",
   "execution_count": 25,
   "id": "1a520117-81ed-44d1-85c3-f5ef6b5eb242",
   "metadata": {},
   "outputs": [
    {
     "data": {
      "text/html": [
       "<div>\n",
       "<style scoped>\n",
       "    .dataframe tbody tr th:only-of-type {\n",
       "        vertical-align: middle;\n",
       "    }\n",
       "\n",
       "    .dataframe tbody tr th {\n",
       "        vertical-align: top;\n",
       "    }\n",
       "\n",
       "    .dataframe thead th {\n",
       "        text-align: right;\n",
       "    }\n",
       "</style>\n",
       "<table border=\"1\" class=\"dataframe\">\n",
       "  <thead>\n",
       "    <tr style=\"text-align: right;\">\n",
       "      <th></th>\n",
       "      <th>订单顺序编号</th>\n",
       "      <th>订单号</th>\n",
       "      <th>用户名</th>\n",
       "      <th>商品编号</th>\n",
       "      <th>订单金额</th>\n",
       "      <th>付款金额</th>\n",
       "      <th>渠道编号</th>\n",
       "      <th>平台类型</th>\n",
       "      <th>下单时间</th>\n",
       "      <th>付款时间</th>\n",
       "      <th>是否退款</th>\n",
       "    </tr>\n",
       "  </thead>\n",
       "  <tbody>\n",
       "    <tr>\n",
       "      <th>0</th>\n",
       "      <td>8</td>\n",
       "      <td>sys-2021-306447069</td>\n",
       "      <td>user-104863</td>\n",
       "      <td>PR000499</td>\n",
       "      <td>499.41</td>\n",
       "      <td>480.42</td>\n",
       "      <td>渠道1</td>\n",
       "      <td>微信公众号</td>\n",
       "      <td>2021-01-01 01:05:50</td>\n",
       "      <td>2021-01-01 01:06:17</td>\n",
       "      <td>否</td>\n",
       "    </tr>\n",
       "    <tr>\n",
       "      <th>1</th>\n",
       "      <td>11</td>\n",
       "      <td>sys-2021-417411381</td>\n",
       "      <td>user-181957</td>\n",
       "      <td>PR000483</td>\n",
       "      <td>279.53</td>\n",
       "      <td>279.53</td>\n",
       "      <td>渠道1</td>\n",
       "      <td>APP</td>\n",
       "      <td>2021-01-01 01:36:17</td>\n",
       "      <td>2021-01-01 01:36:56</td>\n",
       "      <td>否</td>\n",
       "    </tr>\n",
       "    <tr>\n",
       "      <th>2</th>\n",
       "      <td>61</td>\n",
       "      <td>sys-2021-313655292</td>\n",
       "      <td>user-282453</td>\n",
       "      <td>PR000154</td>\n",
       "      <td>1658.95</td>\n",
       "      <td>1653.91</td>\n",
       "      <td>渠道1</td>\n",
       "      <td>微信公众号</td>\n",
       "      <td>2021-01-01 12:01:04</td>\n",
       "      <td>2021-01-01 12:03:20</td>\n",
       "      <td>否</td>\n",
       "    </tr>\n",
       "    <tr>\n",
       "      <th>3</th>\n",
       "      <td>78</td>\n",
       "      <td>sys-2021-311884106</td>\n",
       "      <td>user-167776</td>\n",
       "      <td>PR000215</td>\n",
       "      <td>343.25</td>\n",
       "      <td>337.12</td>\n",
       "      <td>渠道1</td>\n",
       "      <td>APP</td>\n",
       "      <td>2021-01-01 12:47:02</td>\n",
       "      <td>2021-01-01 12:47:21</td>\n",
       "      <td>否</td>\n",
       "    </tr>\n",
       "    <tr>\n",
       "      <th>4</th>\n",
       "      <td>81</td>\n",
       "      <td>sys-2021-375273222</td>\n",
       "      <td>user-138024</td>\n",
       "      <td>PR000515</td>\n",
       "      <td>329.04</td>\n",
       "      <td>329.04</td>\n",
       "      <td>渠道1</td>\n",
       "      <td>APP</td>\n",
       "      <td>2021-01-01 12:50:23</td>\n",
       "      <td>2021-01-01 12:50:50</td>\n",
       "      <td>否</td>\n",
       "    </tr>\n",
       "    <tr>\n",
       "      <th>...</th>\n",
       "      <td>...</td>\n",
       "      <td>...</td>\n",
       "      <td>...</td>\n",
       "      <td>...</td>\n",
       "      <td>...</td>\n",
       "      <td>...</td>\n",
       "      <td>...</td>\n",
       "      <td>...</td>\n",
       "      <td>...</td>\n",
       "      <td>...</td>\n",
       "      <td>...</td>\n",
       "    </tr>\n",
       "    <tr>\n",
       "      <th>100307</th>\n",
       "      <td>104515</td>\n",
       "      <td>sys-2020-247689274</td>\n",
       "      <td>user-254850</td>\n",
       "      <td>PR000239</td>\n",
       "      <td>251.83</td>\n",
       "      <td>179.56</td>\n",
       "      <td>渠道15</td>\n",
       "      <td>淘宝</td>\n",
       "      <td>2020-01-01 21:21:09</td>\n",
       "      <td>2021-01-01 21:21:55</td>\n",
       "      <td>否</td>\n",
       "    </tr>\n",
       "    <tr>\n",
       "      <th>100308</th>\n",
       "      <td>104527</td>\n",
       "      <td>sys-2020-250518601</td>\n",
       "      <td>user-291340</td>\n",
       "      <td>PR000950</td>\n",
       "      <td>1485.02</td>\n",
       "      <td>1407.60</td>\n",
       "      <td>渠道15</td>\n",
       "      <td>微信公众号</td>\n",
       "      <td>2020-01-01 21:57:45</td>\n",
       "      <td>2021-01-01 21:57:58</td>\n",
       "      <td>否</td>\n",
       "    </tr>\n",
       "    <tr>\n",
       "      <th>100309</th>\n",
       "      <td>104529</td>\n",
       "      <td>sys-2020-260463573</td>\n",
       "      <td>user-280181</td>\n",
       "      <td>PR000564</td>\n",
       "      <td>882.63</td>\n",
       "      <td>732.37</td>\n",
       "      <td>渠道15</td>\n",
       "      <td>APP</td>\n",
       "      <td>2020-01-01 22:05:34</td>\n",
       "      <td>2021-01-01 22:05:40</td>\n",
       "      <td>否</td>\n",
       "    </tr>\n",
       "    <tr>\n",
       "      <th>100310</th>\n",
       "      <td>104549</td>\n",
       "      <td>sys-2020-310196315</td>\n",
       "      <td>user-235227</td>\n",
       "      <td>PR000885</td>\n",
       "      <td>280.39</td>\n",
       "      <td>256.74</td>\n",
       "      <td>渠道15</td>\n",
       "      <td>微信公众号</td>\n",
       "      <td>2020-01-01 23:23:49</td>\n",
       "      <td>2021-01-01 23:24:03</td>\n",
       "      <td>否</td>\n",
       "    </tr>\n",
       "    <tr>\n",
       "      <th>100311</th>\n",
       "      <td>104552</td>\n",
       "      <td>sys-2020-257204000</td>\n",
       "      <td>user-157645</td>\n",
       "      <td>PR000889</td>\n",
       "      <td>206.92</td>\n",
       "      <td>161.28</td>\n",
       "      <td>渠道15</td>\n",
       "      <td>APP</td>\n",
       "      <td>2020-01-01 23:29:44</td>\n",
       "      <td>2021-01-01 23:30:05</td>\n",
       "      <td>否</td>\n",
       "    </tr>\n",
       "  </tbody>\n",
       "</table>\n",
       "<p>100312 rows × 11 columns</p>\n",
       "</div>"
      ],
      "text/plain": [
       "        订单顺序编号                 订单号          用户名      商品编号     订单金额     付款金额  \\\n",
       "0            8  sys-2021-306447069  user-104863  PR000499   499.41   480.42   \n",
       "1           11  sys-2021-417411381  user-181957  PR000483   279.53   279.53   \n",
       "2           61  sys-2021-313655292  user-282453  PR000154  1658.95  1653.91   \n",
       "3           78  sys-2021-311884106  user-167776  PR000215   343.25   337.12   \n",
       "4           81  sys-2021-375273222  user-138024  PR000515   329.04   329.04   \n",
       "...        ...                 ...          ...       ...      ...      ...   \n",
       "100307  104515  sys-2020-247689274  user-254850  PR000239   251.83   179.56   \n",
       "100308  104527  sys-2020-250518601  user-291340  PR000950  1485.02  1407.60   \n",
       "100309  104529  sys-2020-260463573  user-280181  PR000564   882.63   732.37   \n",
       "100310  104549  sys-2020-310196315  user-235227  PR000885   280.39   256.74   \n",
       "100311  104552  sys-2020-257204000  user-157645  PR000889   206.92   161.28   \n",
       "\n",
       "        渠道编号   平台类型                下单时间                付款时间 是否退款  \n",
       "0        渠道1  微信公众号 2021-01-01 01:05:50 2021-01-01 01:06:17    否  \n",
       "1        渠道1    APP 2021-01-01 01:36:17 2021-01-01 01:36:56    否  \n",
       "2        渠道1  微信公众号 2021-01-01 12:01:04 2021-01-01 12:03:20    否  \n",
       "3        渠道1    APP 2021-01-01 12:47:02 2021-01-01 12:47:21    否  \n",
       "4        渠道1    APP 2021-01-01 12:50:23 2021-01-01 12:50:50    否  \n",
       "...      ...    ...                 ...                 ...  ...  \n",
       "100307  渠道15     淘宝 2020-01-01 21:21:09 2021-01-01 21:21:55    否  \n",
       "100308  渠道15  微信公众号 2020-01-01 21:57:45 2021-01-01 21:57:58    否  \n",
       "100309  渠道15    APP 2020-01-01 22:05:34 2021-01-01 22:05:40    否  \n",
       "100310  渠道15  微信公众号 2020-01-01 23:23:49 2021-01-01 23:24:03    否  \n",
       "100311  渠道15    APP 2020-01-01 23:29:44 2021-01-01 23:30:05    否  \n",
       "\n",
       "[100312 rows x 11 columns]"
      ]
     },
     "execution_count": 25,
     "metadata": {},
     "output_type": "execute_result"
    }
   ],
   "source": [
    "#数据清洗完成\n",
    "df"
   ]
  },
  {
   "cell_type": "code",
   "execution_count": 26,
   "id": "81206cb4-9e89-4dd8-86e7-ac725ae78667",
   "metadata": {},
   "outputs": [],
   "source": [
    "#把清洗完成的数据保存\n",
    "df.to_excel(r\"D:\\pandas\\order2021_cleand.xlsx\",index=False)"
   ]
  },
  {
   "cell_type": "code",
   "execution_count": null,
   "id": "b5c3643c-cb6d-474a-adf4-d642d1af53a0",
   "metadata": {},
   "outputs": [],
   "source": []
  },
  {
   "cell_type": "code",
   "execution_count": null,
   "id": "46297db3-c424-4555-9f0b-00b747bf4087",
   "metadata": {},
   "outputs": [],
   "source": []
  }
 ],
 "metadata": {
  "kernelspec": {
   "display_name": "Python 3 (ipykernel)",
   "language": "python",
   "name": "python3"
  },
  "language_info": {
   "codemirror_mode": {
    "name": "ipython",
    "version": 3
   },
   "file_extension": ".py",
   "mimetype": "text/x-python",
   "name": "python",
   "nbconvert_exporter": "python",
   "pygments_lexer": "ipython3",
   "version": "3.10.11"
  }
 },
 "nbformat": 4,
 "nbformat_minor": 5
}
