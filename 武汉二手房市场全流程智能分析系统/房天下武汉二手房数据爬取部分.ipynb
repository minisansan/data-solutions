{
 "cells": [
  {
   "cell_type": "markdown",
   "id": "f48ccff7-4ad4-4401-b5e5-4822cb32a27d",
   "metadata": {},
   "source": [
    "# 武汉房天下二手房数据爬取"
   ]
  },
  {
   "cell_type": "markdown",
   "id": "cb285b60-0deb-40b1-ae9e-5c5f45cdad4e",
   "metadata": {},
   "source": [
    "利用了DrissionPage进行爬取"
   ]
  },
  {
   "cell_type": "markdown",
   "id": "7b470bc8-a7e9-4f66-83ab-887b74e2d916",
   "metadata": {},
   "source": [
    "## 1.内容爬取"
   ]
  },
  {
   "cell_type": "markdown",
   "id": "edbf74ab-959a-4b86-93ae-39bf8c4019b3",
   "metadata": {},
   "source": [
    "#### 1.1导入包"
   ]
  },
  {
   "cell_type": "code",
   "execution_count": 49,
   "id": "07333456-a31b-444e-b918-8fdef61c61f7",
   "metadata": {},
   "outputs": [],
   "source": [
    "from DrissionPage import WebPage\n",
    "from bs4 import BeautifulSoup\n",
    "import aiohttp\n",
    "import asyncio\n",
    "import re\n",
    "import csv\n",
    "import random\n",
    "import time\n",
    "from typing import Generator\n",
    "import time\n",
    "import random\n",
    "import tenacity\n",
    "import pandas as pd\n",
    "import os"
   ]
  },
  {
   "cell_type": "markdown",
   "id": "d5fca92d-b274-4fe1-a46a-0c59dc532dba",
   "metadata": {},
   "source": [
    "#### 1.2全局参数配置 "
   ]
  },
  {
   "cell_type": "code",
   "execution_count": 50,
   "id": "87622abf-ec62-4bb7-bfad-431a7ec41811",
   "metadata": {},
   "outputs": [],
   "source": [
    "# 配置全局参数\n",
    "BASE_URL = \"https://wuhan.esf.fang.com/house/i3{}/\"\n",
    "CSV_FILE = 'wuhan_houses.csv'\n",
    "HEADERS = {\n",
    "    'User-Agent': 'Mozilla/5.0 (Windows NT 10.0; Win64; x64) AppleWebKit/537.36 (KHTML, like Gecko) Chrome/91.0.4472.124 Safari/537.36'\n",
    "}\n",
    "#控制同时处理的请求数量\n",
    "CONCURRENCY = 5  # 同时处理的最大并发数"
   ]
  },
  {
   "cell_type": "markdown",
   "id": "3c426c3b-ed5c-48a6-b912-a88e84aa91b0",
   "metadata": {},
   "source": [
    "#### 1.2初始化csv文件"
   ]
  },
  {
   "cell_type": "markdown",
   "id": "16f27a48-26f6-412f-8a70-e19eb45d0b88",
   "metadata": {},
   "source": [
    "即要保存的csv文件的内容初始化，写入表头"
   ]
  },
  {
   "cell_type": "code",
   "execution_count": 51,
   "id": "ad9b53bc-aa4d-401d-bd1e-bd54b209bd5f",
   "metadata": {},
   "outputs": [],
   "source": [
    "# 初始化 CSV 文件\n",
    "def init_csv():\n",
    "    with open(CSV_FILE, 'w', newline='', encoding='utf-8-sig') as f:\n",
    "        writer = csv.DictWriter(f, fieldnames=[\n",
    "            '户型', '建筑面积', '朝向', '楼层', '装修',\n",
    "            '建筑年代', '电梯', '产权性质', '住宅类别', '建筑结构',\n",
    "            '建筑类别', '区域', '单价', '地铁', '地铁距离', '总价'\n",
    "        ])\n",
    "        writer.writeheader()"
   ]
  },
  {
   "cell_type": "markdown",
   "id": "436846f4-7ae4-4f6b-bc24-21c688783071",
   "metadata": {},
   "source": [
    "#### 1.3分页"
   ]
  },
  {
   "cell_type": "markdown",
   "id": "e1bd2e34-404a-4823-901e-b648351faffc",
   "metadata": {},
   "source": [
    "采用yiels每次生成一个URL返回，而不是一次性的生成所有的URL，这样可以节省内存"
   ]
  },
  {
   "cell_type": "code",
   "execution_count": 52,
   "id": "3a1526ef-a85f-4c3e-8047-5ed12c943e5a",
   "metadata": {},
   "outputs": [],
   "source": [
    "# 分页生成器\n",
    "def page_generator(start: int = 1, end: int = 3) -> Generator[str, None, None]:\n",
    "    for page_num in range(start, end + 1):\n",
    "        yield BASE_URL.format(page_num)\n"
   ]
  },
  {
   "cell_type": "markdown",
   "id": "c94141f6-cfb0-43f0-9c8c-e27bfcc3f125",
   "metadata": {},
   "source": [
    "#### 1.4 获取HTML内容"
   ]
  },
  {
   "cell_type": "markdown",
   "id": "5274a945-2978-4fd5-8f24-1313d1b66cce",
   "metadata": {},
   "source": [
    "传入URL，获取其对应的HTML内容，利用page来加载和操作网页\n",
    "\n",
    "并利用wait.load_start()来等待网页加载完成，避免因为网络原因加载缓慢，而导致获取HTML失败"
   ]
  },
  {
   "cell_type": "code",
   "execution_count": 53,
   "id": "d5cac5c8-c988-41b9-9443-4681e0ba8fe5",
   "metadata": {},
   "outputs": [],
   "source": [
    "def get_page_html(url: str, page: WebPage) -> str:\n",
    "    try:\n",
    "        page.get(url)\n",
    "        page.wait.load_start()  # 等待页面加载完成\n",
    "        return page.html\n",
    "    except Exception as e:\n",
    "        print(f\"页面加载失败: {str(e)}\")\n",
    "        return \"\""
   ]
  },
  {
   "cell_type": "markdown",
   "id": "42d3ed53-2f34-4a60-a507-78696ac059e4",
   "metadata": {},
   "source": [
    "#### 1.5随机延时与重试"
   ]
  },
  {
   "cell_type": "markdown",
   "id": "59a0b31b-96d3-4ffe-b363-be628ec44432",
   "metadata": {},
   "source": [
    "通过随机延时，随机停止程序一段时间，模拟用户操作行为，以免被反爬虫\n",
    "\n",
    "使用tenacity来实现重试机制，确保在网络请求失败的时候自动重试，也设置最多重试的数量，避免进入死循环"
   ]
  },
  {
   "cell_type": "code",
   "execution_count": 54,
   "id": "524814ee-13a9-4873-bce1-1d7fb3f85c55",
   "metadata": {},
   "outputs": [],
   "source": [
    "# 随机延时\n",
    "def random_delay(min_delay=1, max_delay=5):\n",
    "    time.sleep(random.uniform(min_delay, max_delay))\n",
    "\n",
    "# 重试机制\n",
    "@tenacity.retry(\n",
    "    stop=tenacity.stop_after_attempt(3),  # 最多重试 3 次\n",
    "    wait=tenacity.wait_fixed(2),  # 每次重试间隔 2 秒\n",
    ")\n",
    "async def fetch_house(session, url, semaphore):\n",
    "    async with semaphore:\n",
    "        try:\n",
    "            async with session.get(url, timeout=30) as response:  # 超时时间设置为 30 秒\n",
    "                if response.status == 200:\n",
    "                    return await response.text(encoding='utf-8')  # 统一编码\n",
    "                return None\n",
    "        except Exception as e:\n",
    "            print(f\"请求失败 {url}: {str(e)}\")\n",
    "            raise  # 触发重试"
   ]
  },
  {
   "cell_type": "markdown",
   "id": "99526906-8f45-4e9e-83c4-1e77d535a93d",
   "metadata": {},
   "source": [
    "#### 1.6动态调整解析逻辑"
   ]
  },
  {
   "cell_type": "markdown",
   "id": "d5f1f801-6343-4b97-885a-c03eb0270970",
   "metadata": {},
   "source": [
    "从HTML中提取房屋信息（标签和链接），利用BeautifulSoup，方便后续进入每个房源内检索爬取信息"
   ]
  },
  {
   "cell_type": "code",
   "execution_count": 55,
   "id": "7f4aca0b-0c61-4c74-b4c0-f35ef2ee594f",
   "metadata": {},
   "outputs": [],
   "source": [
    "# 动态调整解析逻辑\n",
    "def extract_house_links(html: str) -> list:\n",
    "    soup = BeautifulSoup(html, 'lxml')\n",
    "    houses = []\n",
    "\n",
    "    if soup.select(\"div.shop_list dl.clearfix\"):\n",
    "        for item in soup.select(\"div.shop_list dl.clearfix\"):\n",
    "            title_elem = item.select_one('span.tit_shop, a.tit_shop')\n",
    "            link_elem = item.select_one('a[href]')\n",
    "\n",
    "            if title_elem and link_elem:\n",
    "                title = title_elem.get_text(strip=True)\n",
    "                link = link_elem['href']\n",
    "\n",
    "                if not link.startswith('http'):\n",
    "                    link = f\"https://wuhan.esf.fang.com{link}\"\n",
    "\n",
    "                houses.append({'标题': title, '链接': link})\n",
    "    else:\n",
    "        print(\"页面结构异常，跳过当前页\")\n",
    "\n",
    "    return houses"
   ]
  },
  {
   "cell_type": "markdown",
   "id": "095d4d0d-bec4-4702-807e-e5f7288f1a8e",
   "metadata": {},
   "source": [
    "#### 1.7正则函数匹配房源信息"
   ]
  },
  {
   "cell_type": "markdown",
   "id": "d48b29a5-c99f-4e53-8054-319296fb4966",
   "metadata": {},
   "source": [
    "对单个房源信息，采用正则表达式来捕获需要的信息"
   ]
  },
  {
   "cell_type": "code",
   "execution_count": 107,
   "id": "c6493b3a-871d-49ed-948c-467e980f21d3",
   "metadata": {},
   "outputs": [],
   "source": [
    "# 正则匹配函数\n",
    "def re_match(html, pattern):\n",
    "    part_pattern = re.compile(pattern, re.DOTALL)\n",
    "    part_match = part_pattern.search(html)\n",
    "    return part_match.group(1).strip() if part_match else None\n",
    "\n",
    "def extract_subway_info(html):\n",
    "    # 正则表达式匹配地铁信息\n",
    "    subway_pattern = re.compile(r'<span>\\(距(\\d+号线[^约]+)约(\\d+)米\\)</span>')\n",
    "    subway_match = subway_pattern.search(html)\n",
    "    if subway_match:\n",
    "        # 提取地铁线路和距离\n",
    "        subway_line = re.sub(r'(\\d+号线).*', r'\\1', subway_match.group(1).strip()) # 地铁线路（如 \"1号线汉西一路站\"）\n",
    "        distance = subway_match.group(2).strip()     # 距离（如 \"587\"）\n",
    "        \n",
    "        # 只保留几号线（如 \"1号线\"）\n",
    "        subway_line = re.sub(r'(\\d+号线).*', r'\\1', subway_line)\n",
    "        \n",
    "        return subway_line, f\"{subway_match.group(2).strip()}米\"\n",
    "    else:\n",
    "        # 如果没有地铁信息，返回“无”\n",
    "        return \"无\", \"无\"\n",
    "\n",
    "# 解析函数\n",
    "def parse_house_detail(html, url):\n",
    "    # 户型\n",
    "    house = re_match(html, r'<div class=\"trl-item1 w146\">\\s*<div class=\"tt\">\\s*([^<]+?)\\s*</div>\\s*<div class=\"font14\">户型</div>')\n",
    "    # 建筑面积\n",
    "    area = re_match(html, r'<div class=\"trl-item1 w182\">\\s*<div class=\"tt\">\\s*([^<]+?)\\s*</div>\\s*<div class=\"font14\">建筑面积</div>')\n",
    "    # 总价\n",
    "    price = re_match(html, r'<div class=\"trl-item price_esf sty1\">\\s*<i>\\s*([\\d.]+)\\s*</i>\\s*万\\s*</div>')\n",
    "    # 朝向\n",
    "    orientation = re_match(html,r'<div class=\"trl-item1 w146\">\\s*<div class=\"tt\">\\s*([^<]+?)\\s*</div>\\s*<div class=\"font14\">朝向</div>')\n",
    "    # 楼层\n",
    "    # 楼层（新增精准匹配逻辑）\n",
    "    floor = re_match(\n",
    "        html,\n",
    "        r'楼层$共\\d+层$</div>\\s*</div>\\s*<div class=\"trl-item1 w182\">\\s*<div class=\"tt\">\\s*(?:<a[^>]*>)?([^<]+?)(?:</a>)?\\s*</div>'\n",
    "    ) or re_match(\n",
    "        html,\n",
    "        r'<div class=\"tt\">\\s*<a[^>]*class=\"link_rk\"[^>]*>([^<]+)</a>\\s*</div>\\s*<div class=\"font14\">\\s*楼层'\n",
    "    )\n",
    "    # 装修         \n",
    "    decoration = re_match(\n",
    "        html,\n",
    "        r'<div class=\"trl-item1 w132\" style=\"border-right: 0;\">\\s*<div class=\"tt\">\\s*(?:<a[^>]*>)?([^<]+?)(?:</a>)?\\s*</div>\\s*<div class=\"font14\">装修</div>'\n",
    "    ) or re_match(\n",
    "        html,\n",
    "        r'<div class=\"tt\">\\s*<a[^>]*class=\"link_rk\"[^>]*>([^<]+)</a>\\s*</div>\\s*<div class=\"font14\">\\s*装修'\n",
    "    )\n",
    "    # 建筑年代\n",
    "    year = re_match(html, r'<div class=\"cont clearfix\">.*?<span class=\"lab\">建筑年代</span>\\s*<span class=\"rcont\">\\s*([^<]+?)\\s*</span>')\n",
    "    # 电梯\n",
    "    elevator = re_match(html,  r'<div class=\"cont clearfix\">.*?<span class=\"lab\">有无电梯</span>\\s*<span class=\"rcont\">\\s*([^<]+?)\\s*</span>')\n",
    "    # 产权性质\n",
    "    property_type = re_match(html, r'<span class=\"lab\">产权性质</span>\\s*<span class=\"rcont\">\\s*([^<]+?)\\s*</span>')\n",
    "    # 住宅类别\n",
    "    housing_type = re_match(html,r'<span class=\"lab\">住宅类别</span>\\s*<span class=\"rcont\">\\s*<a[^>]*>([^<]+?)</a>')\n",
    "    # 建筑结构\n",
    "    residence_type = re_match(html, r'<span class=\"lab\">建筑结构</span>\\s*<span class=\"rcont\"><a[^>]*>([^<]+)</a></span>')\n",
    "    # 建筑类别\n",
    "    building_category = re_match(\n",
    "        html,\n",
    "        r'<span class=\"lab\">建筑结构</span>\\s*<span class=\"rcont\">\\s*<a[^>]*>([^<]+?)</a>'\n",
    "    ) or re_match(\n",
    "        html,\n",
    "        r'<span class=\"lab\">建筑类别</span>\\s*<span class=\"rcont\">\\s*<a[^>]*>([板楼|塔楼|平房]+)</a>'  # 备用匹配\n",
    "    )\n",
    "    # 区域\n",
    "    regions_match = re.findall(\n",
    "        r'<div class=\"lab\">区&nbsp;&nbsp;&nbsp;&nbsp;&nbsp;&nbsp;域</div>\\s*<div class=\"rcont\"[^>]*>(.*?)</div>',\n",
    "        html,\n",
    "        re.DOTALL\n",
    "    )\n",
    "    \n",
    "    # 步骤2：清洗和标准化区域名称\n",
    "    target_regions = ['硚口', '江岸', '武昌', '沌口', '东湖高新区', '洪山', '汉阳', '青山', '江汉', '蔡甸', '东西湖', '江夏', '黄陂']\n",
    "    regions = []\n",
    "    if regions_match:\n",
    "        # 提取所有区域链接文本\n",
    "        regions_raw = re.findall(r'<a[^>]*>([^<]+)</a>', regions_match[0])\n",
    "        # 清洗：去除空格和冗余后缀\n",
    "        regions_clean = [\n",
    "            re.sub(r'\\s+|(区|周边|经济开发区)$', '', r.strip())  # 删除空格及冗余后缀\n",
    "            for r in regions_raw\n",
    "        ]\n",
    "        # 标准化：只保留目标区域名称（例如 \"东湖高新区\" 直接保留，\"关山\" 过滤掉）\n",
    "        regions = [\n",
    "            r for r in regions_clean\n",
    "            if r in target_regions\n",
    "        ]\n",
    "    regions = ','.join(regions) if regions else \"其他\"\n",
    "\n",
    "    # 地铁距离\n",
    "    subway_line, subway_distance = extract_subway_info(html)\n",
    "    # 单价\n",
    "    money = re_match(html, r'<div class=\"trl-item1 w132\" style=\"border-right: 0;\">\\s*<div class=\"tt\">\\s*([^<]+?)\\s*</div>\\s*<div class=\"font14\">单价</div>')\n",
    "    \n",
    "    data_dict= {\n",
    "        \"户型\": house,\n",
    "        \"建筑面积\": area,\n",
    "        \"朝向\": orientation,\n",
    "        \"楼层\": floor,\n",
    "        \"装修\": decoration,\n",
    "        \"建筑年代\": year,\n",
    "        \"电梯\": elevator,\n",
    "        \"产权性质\": property_type,\n",
    "        \"住宅类别\": housing_type,\n",
    "        \"建筑结构\": residence_type,\n",
    "        \"建筑类别\": building_category,\n",
    "        \"区域\": regions,\n",
    "        \"单价\": money,\n",
    "        \"地铁\": subway_line,       \n",
    "        \"地铁距离\": subway_distance,\n",
    "        \"总价\": price\n",
    "    }\n",
    "    return data_dict\n"
   ]
  },
  {
   "cell_type": "markdown",
   "id": "6c9608c9-874d-4c3b-ae90-d3d0955a5d89",
   "metadata": {},
   "source": [
    "#### 1.8 异步请求"
   ]
  },
  {
   "cell_type": "markdown",
   "id": "22a672e2-4d61-46d6-b2ca-2db019c0065e",
   "metadata": {},
   "source": [
    "使用信号量控制并发请求数量，发送异步HTTP的请求并控制时间，然后获取HTML的内容，调用异步解析函数提取房屋详情数据"
   ]
  },
  {
   "cell_type": "code",
   "execution_count": 57,
   "id": "cd7d27b6-617e-498c-a7b2-942fe9f29029",
   "metadata": {},
   "outputs": [],
   "source": [
    "# 异步请求函数\n",
    "async def fetch_house(session: aiohttp.ClientSession, url: str, semaphore: asyncio.Semaphore):\n",
    "    async with semaphore:\n",
    "        try:\n",
    "            async with session.get(url, timeout=10) as response:\n",
    "                if response.status == 200:\n",
    "                    html = await response.text()\n",
    "                    return parse_house_detail(html, url)\n",
    "                return None\n",
    "        except Exception as e:\n",
    "            print(f\"请求失败 {url}: {str(e)}\")\n",
    "            return None"
   ]
  },
  {
   "cell_type": "markdown",
   "id": "914ffe76-f2f9-44d5-8f14-372c6b9d9d86",
   "metadata": {},
   "source": [
    "####  1.9 爬虫入口主函数"
   ]
  },
  {
   "cell_type": "markdown",
   "id": "c842e7e6-fc91-49ef-bb54-7b8b479a9ba3",
   "metadata": {},
   "source": [
    "包括了以上的各个模块工作的调用"
   ]
  },
  {
   "cell_type": "code",
   "execution_count": 108,
   "id": "2cfba649-21b4-49ff-955a-37a18fca54f1",
   "metadata": {},
   "outputs": [],
   "source": [
    "async def main():\n",
    "    # 初始化统计变量\n",
    "    total_records = 0          # 总记录数\n",
    "    total_valid_fields = 0     # 有效字段总数\n",
    "    total_fields_per_record = 16  # 每条记录有 16 个字段\n",
    "    init_csv()\n",
    "    page = WebPage()\n",
    "    page.set.headers(HEADERS)  # 正确设置请求头\n",
    "    semaphore = asyncio.Semaphore(CONCURRENCY)\n",
    "\n",
    "    async with aiohttp.ClientSession(headers=HEADERS) as session:\n",
    "        ext_data=pd.read_csv(\"wuhan_houses.csv\", encoding='utf-8-sig')\n",
    "        \n",
    "        # 分页处理\n",
    "        for page_url in page_generator(44, 44):\n",
    "            print(f\"正在处理分页: {page_url}\")\n",
    "            html = get_page_html(page_url, page)\n",
    "\n",
    "            if not html:\n",
    "                continue\n",
    "\n",
    "            house_links = extract_house_links(html)\n",
    "            print(f\"本页找到 {len(house_links)} 条房源\")\n",
    "\n",
    "            # 批量处理当前页房源\n",
    "            tasks = [fetch_house(session, house['链接'], semaphore) for house in house_links]\n",
    "\n",
    "            \n",
    "            \n",
    "            # 分批处理避免内存过大\n",
    "            batch_size = 10\n",
    "            for i in range(0, len(tasks), batch_size):\n",
    "                batch = tasks[i:i + batch_size]\n",
    "                results = await asyncio.gather(*batch)\n",
    "\n",
    "                # 写入CSV\n",
    "                with open(CSV_FILE, 'a', newline='', encoding='utf-8-sig') as f:\n",
    "                    writer = csv.DictWriter(f, fieldnames=[\n",
    "                        '户型', '建筑面积', '朝向', '楼层', '装修',\n",
    "                        '建筑年代', '电梯', '产权性质', '住宅类别', '建筑结构',\n",
    "                        '建筑类别', '区域', '单价', '地铁', '地铁距离', '总价'\n",
    "                    ])\n",
    "                    for result in filter(None, results):\n",
    "                        # 统计有效字段数\n",
    "                        valid_fields = sum(1 for value in result.values() if value not in [None, \"无\"])\n",
    "                        total_valid_fields += valid_fields\n",
    "                        total_records += 1\n",
    "\n",
    "                        writer.writerow(result)\n",
    "\n",
    "                print(f\"已保存 {len(results)} 条数据\")\n",
    "\n",
    "            # 分页间延时\n",
    "            time.sleep(random.uniform(5, 10))\n",
    "        # 计算全局结构化存储率\n",
    "    if total_records > 0:\n",
    "        global_storage_rate = total_valid_fields / (total_records * total_fields_per_record)\n",
    "        print(f\"全局结构化存储率: {global_storage_rate:.2%}\")"
   ]
  },
  {
   "cell_type": "code",
   "execution_count": null,
   "id": "0dff9493-d080-4924-b0e8-46edad1dd4b9",
   "metadata": {},
   "outputs": [],
   "source": [
    "# Jupyter专用运行方式\n",
    "if __name__ == \"__main__\":\n",
    "    # 在Jupyter中运行需要这行\n",
    "    # import nest_asyncio; nest_asyncio.apply()\n",
    "    await main()"
   ]
  },
  {
   "cell_type": "markdown",
   "id": "69532e35-ae76-4f6f-993e-6213d475cde8",
   "metadata": {},
   "source": [
    "## 2检查爬取内容"
   ]
  },
  {
   "cell_type": "markdown",
   "id": "983f39e2-77a2-492e-a7c2-3d34bcd81c24",
   "metadata": {},
   "source": [
    "检查爬取内容是否有错误，以及爬取数据的形状"
   ]
  },
  {
   "cell_type": "code",
   "execution_count": 110,
   "id": "b52eda67-b7d6-4007-bee5-ac1cf87522d3",
   "metadata": {},
   "outputs": [
    {
     "data": {
      "text/html": [
       "<div>\n",
       "<style scoped>\n",
       "    .dataframe tbody tr th:only-of-type {\n",
       "        vertical-align: middle;\n",
       "    }\n",
       "\n",
       "    .dataframe tbody tr th {\n",
       "        vertical-align: top;\n",
       "    }\n",
       "\n",
       "    .dataframe thead th {\n",
       "        text-align: right;\n",
       "    }\n",
       "</style>\n",
       "<table border=\"1\" class=\"dataframe\">\n",
       "  <thead>\n",
       "    <tr style=\"text-align: right;\">\n",
       "      <th></th>\n",
       "      <th>户型</th>\n",
       "      <th>建筑面积</th>\n",
       "      <th>朝向</th>\n",
       "      <th>楼层</th>\n",
       "      <th>装修</th>\n",
       "      <th>建筑年代</th>\n",
       "      <th>电梯</th>\n",
       "      <th>产权性质</th>\n",
       "      <th>住宅类别</th>\n",
       "      <th>建筑结构</th>\n",
       "      <th>建筑类别</th>\n",
       "      <th>区域</th>\n",
       "      <th>单价</th>\n",
       "      <th>地铁</th>\n",
       "      <th>地铁距离</th>\n",
       "      <th>总价</th>\n",
       "    </tr>\n",
       "  </thead>\n",
       "  <tbody>\n",
       "    <tr>\n",
       "      <th>0</th>\n",
       "      <td>2室1厅1卫</td>\n",
       "      <td>64.48平米</td>\n",
       "      <td>东南</td>\n",
       "      <td>低层</td>\n",
       "      <td>精装修</td>\n",
       "      <td>2006年</td>\n",
       "      <td>有</td>\n",
       "      <td>商品房</td>\n",
       "      <td>普通住宅</td>\n",
       "      <td>平层</td>\n",
       "      <td>板楼</td>\n",
       "      <td>硚口</td>\n",
       "      <td>13958元/平米</td>\n",
       "      <td>1号线</td>\n",
       "      <td>587米</td>\n",
       "      <td>90.0</td>\n",
       "    </tr>\n",
       "    <tr>\n",
       "      <th>1</th>\n",
       "      <td>2室2厅1卫</td>\n",
       "      <td>64.1平米</td>\n",
       "      <td>西南</td>\n",
       "      <td>中层</td>\n",
       "      <td>精装修</td>\n",
       "      <td>NaN</td>\n",
       "      <td>有</td>\n",
       "      <td>商品房</td>\n",
       "      <td>普通住宅</td>\n",
       "      <td>平层</td>\n",
       "      <td>板楼</td>\n",
       "      <td>江岸</td>\n",
       "      <td>16069元/平米</td>\n",
       "      <td>8号线</td>\n",
       "      <td>946米</td>\n",
       "      <td>103.0</td>\n",
       "    </tr>\n",
       "    <tr>\n",
       "      <th>2</th>\n",
       "      <td>4室2厅2卫</td>\n",
       "      <td>147平米</td>\n",
       "      <td>南北</td>\n",
       "      <td>高层</td>\n",
       "      <td>精装修</td>\n",
       "      <td>2017年</td>\n",
       "      <td>有</td>\n",
       "      <td>个人产权</td>\n",
       "      <td>个人产权</td>\n",
       "      <td>平层</td>\n",
       "      <td>板楼</td>\n",
       "      <td>硚口</td>\n",
       "      <td>12245元/平米</td>\n",
       "      <td>1号线</td>\n",
       "      <td>532米</td>\n",
       "      <td>180.0</td>\n",
       "    </tr>\n",
       "    <tr>\n",
       "      <th>3</th>\n",
       "      <td>1室0厅1卫</td>\n",
       "      <td>27.56平米</td>\n",
       "      <td>南</td>\n",
       "      <td>中层</td>\n",
       "      <td>精装修</td>\n",
       "      <td>NaN</td>\n",
       "      <td>无</td>\n",
       "      <td>个人产权</td>\n",
       "      <td>个人产权</td>\n",
       "      <td>平层</td>\n",
       "      <td>NaN</td>\n",
       "      <td>江岸</td>\n",
       "      <td>30842元/平米</td>\n",
       "      <td>1号线</td>\n",
       "      <td>375米</td>\n",
       "      <td>85.0</td>\n",
       "    </tr>\n",
       "    <tr>\n",
       "      <th>4</th>\n",
       "      <td>3室2厅1卫</td>\n",
       "      <td>92.13平米</td>\n",
       "      <td>东南</td>\n",
       "      <td>顶层</td>\n",
       "      <td>精装修</td>\n",
       "      <td>NaN</td>\n",
       "      <td>有</td>\n",
       "      <td>个人产权</td>\n",
       "      <td>个人产权</td>\n",
       "      <td>平层</td>\n",
       "      <td>板楼</td>\n",
       "      <td>硚口</td>\n",
       "      <td>12482元/平米</td>\n",
       "      <td>1号线</td>\n",
       "      <td>468米</td>\n",
       "      <td>115.0</td>\n",
       "    </tr>\n",
       "  </tbody>\n",
       "</table>\n",
       "</div>"
      ],
      "text/plain": [
       "       户型     建筑面积  朝向  楼层   装修   建筑年代 电梯  产权性质  住宅类别 建筑结构 建筑类别  区域  \\\n",
       "0  2室1厅1卫  64.48平米  东南  低层  精装修  2006年  有   商品房  普通住宅   平层   板楼  硚口   \n",
       "1  2室2厅1卫   64.1平米  西南  中层  精装修    NaN  有   商品房  普通住宅   平层   板楼  江岸   \n",
       "2  4室2厅2卫    147平米  南北  高层  精装修  2017年  有  个人产权  个人产权   平层   板楼  硚口   \n",
       "3  1室0厅1卫  27.56平米   南  中层  精装修    NaN  无  个人产权  个人产权   平层  NaN  江岸   \n",
       "4  3室2厅1卫  92.13平米  东南  顶层  精装修    NaN  有  个人产权  个人产权   平层   板楼  硚口   \n",
       "\n",
       "          单价   地铁  地铁距离     总价  \n",
       "0  13958元/平米  1号线  587米   90.0  \n",
       "1  16069元/平米  8号线  946米  103.0  \n",
       "2  12245元/平米  1号线  532米  180.0  \n",
       "3  30842元/平米  1号线  375米   85.0  \n",
       "4  12482元/平米  1号线  468米  115.0  "
      ]
     },
     "execution_count": 110,
     "metadata": {},
     "output_type": "execute_result"
    }
   ],
   "source": [
    "data=pd.read_csv(\"wuhan_houses.csv\", encoding='utf-8-sig')\n",
    "data.head()"
   ]
  },
  {
   "cell_type": "code",
   "execution_count": 61,
   "id": "e176c53b-a10a-4594-b036-c9fcc082a34b",
   "metadata": {},
   "outputs": [
    {
     "data": {
      "text/plain": [
       "array(['商品房', '个人产权', nan, '经济适用房'], dtype=object)"
      ]
     },
     "execution_count": 61,
     "metadata": {},
     "output_type": "execute_result"
    }
   ],
   "source": [
    "data[\"产权性质\"].unique()"
   ]
  },
  {
   "cell_type": "code",
   "execution_count": 62,
   "id": "484ee071-da78-48d7-9562-856ea2b9087e",
   "metadata": {},
   "outputs": [
    {
     "data": {
      "text/plain": [
       "array(['普通住宅', '个人产权', '独栋', '平层', '公寓', '经济适用房', nan, '双拼', '联排', '叠加'],\n",
       "      dtype=object)"
      ]
     },
     "execution_count": 62,
     "metadata": {},
     "output_type": "execute_result"
    }
   ],
   "source": [
    "data[\"住宅类别\"].unique()"
   ]
  },
  {
   "cell_type": "code",
   "execution_count": 63,
   "id": "81f871f8-3028-4d2f-901b-45f4468525d3",
   "metadata": {},
   "outputs": [
    {
     "data": {
      "text/plain": [
       "array(['硚口', '江岸', '武昌', '沌口', '东湖高新区', '洪山', '汉阳', '青山', '江汉', '蔡甸',\n",
       "       '武汉周边', '东西湖', '江夏', '黄陂', '经济开发区', '汉南', nan], dtype=object)"
      ]
     },
     "execution_count": 63,
     "metadata": {},
     "output_type": "execute_result"
    }
   ],
   "source": [
    "data[\"区域\"].unique()"
   ]
  },
  {
   "cell_type": "code",
   "execution_count": 64,
   "id": "42743599-80d0-46fe-be51-a0bb1238df7f",
   "metadata": {},
   "outputs": [
    {
     "data": {
      "text/plain": [
       "array(['精装修', '简装修', '毛坯', '中装修', '豪华装修', nan], dtype=object)"
      ]
     },
     "execution_count": 64,
     "metadata": {},
     "output_type": "execute_result"
    }
   ],
   "source": [
    "data[\"装修\"].unique()"
   ]
  },
  {
   "cell_type": "code",
   "execution_count": 65,
   "id": "9f286f3b-e163-4104-8ced-5402ea68f156",
   "metadata": {},
   "outputs": [
    {
     "data": {
      "text/plain": [
       "array(['低层', '中层', '高层', '顶层', '底层', nan], dtype=object)"
      ]
     },
     "execution_count": 65,
     "metadata": {},
     "output_type": "execute_result"
    }
   ],
   "source": [
    "data[\"楼层\"].unique()"
   ]
  },
  {
   "cell_type": "code",
   "execution_count": 66,
   "id": "eac10be2-23b2-437d-8f97-f861dac99415",
   "metadata": {},
   "outputs": [
    {
     "data": {
      "text/plain": [
       "array(['板楼', nan], dtype=object)"
      ]
     },
     "execution_count": 66,
     "metadata": {},
     "output_type": "execute_result"
    }
   ],
   "source": [
    "data[\"建筑类别\"].unique()"
   ]
  },
  {
   "cell_type": "code",
   "execution_count": 67,
   "id": "690b4aaa-1735-470b-88b2-a3074400887e",
   "metadata": {},
   "outputs": [
    {
     "data": {
      "text/plain": [
       "array(['1号线', '8号线', '无', '5号线', '7号线', '19号线', '11号线', '2号线', '6号线',\n",
       "       '4号线', '3号线', '21号线', '16号线'], dtype=object)"
      ]
     },
     "execution_count": 67,
     "metadata": {},
     "output_type": "execute_result"
    }
   ],
   "source": [
    "data[\"地铁\"].unique()"
   ]
  },
  {
   "cell_type": "code",
   "execution_count": 115,
   "id": "976c80ed-d4ad-43df-8afd-8b8a617cdd54",
   "metadata": {},
   "outputs": [
    {
     "data": {
      "text/plain": [
       "(11067, 16)"
      ]
     },
     "execution_count": 115,
     "metadata": {},
     "output_type": "execute_result"
    }
   ],
   "source": [
    "data.shape"
   ]
  },
  {
   "cell_type": "code",
   "execution_count": null,
   "id": "8d9e8bea-376a-4a36-b312-60a4766d3744",
   "metadata": {},
   "outputs": [],
   "source": []
  }
 ],
 "metadata": {
  "kernelspec": {
   "display_name": "Python (myenv)",
   "language": "python",
   "name": "myenv"
  },
  "language_info": {
   "codemirror_mode": {
    "name": "ipython",
    "version": 3
   },
   "file_extension": ".py",
   "mimetype": "text/x-python",
   "name": "python",
   "nbconvert_exporter": "python",
   "pygments_lexer": "ipython3",
   "version": "3.12.4"
  }
 },
 "nbformat": 4,
 "nbformat_minor": 5
}
