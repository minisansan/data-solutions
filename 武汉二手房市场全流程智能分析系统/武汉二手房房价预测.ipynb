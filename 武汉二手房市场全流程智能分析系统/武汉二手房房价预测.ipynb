{
 "cells": [
  {
   "cell_type": "markdown",
   "id": "b62b71b5-e01c-4b4c-9dd5-1c4c92a22af7",
   "metadata": {},
   "source": [
    "# 二手房总价预测模型"
   ]
  },
  {
   "cell_type": "code",
   "execution_count": 1,
   "id": "941f0298-f162-455e-bdfb-b3ff0927af70",
   "metadata": {},
   "outputs": [],
   "source": [
    "import pandas as pd\n",
    "import numpy as np\n",
    "import copy\n",
    "from sklearn.model_selection  import train_test_split\n",
    "from sklearn.preprocessing import PolynomialFeatures\n",
    "from sklearn.linear_model import Lasso\n",
    "from sklearn.ensemble import RandomForestRegressor\n",
    "from sklearn.tree import DecisionTreeRegressor\n",
    "from sklearn.neighbors import KNeighborsRegressor\n",
    "from sklearn.model_selection import GridSearchCV"
   ]
  },
  {
   "cell_type": "markdown",
   "id": "8755751f-a547-4ff1-8380-8fc110d429cb",
   "metadata": {},
   "source": [
    "## 模型建立"
   ]
  },
  {
   "cell_type": "markdown",
   "id": "573ee809-2c49-44ec-81e6-d9703dd344a5",
   "metadata": {},
   "source": [
    "### 1.1读取文件"
   ]
  },
  {
   "cell_type": "code",
   "execution_count": 2,
   "id": "e44ab92d-459b-4615-a725-e6610c11d967",
   "metadata": {},
   "outputs": [
    {
     "data": {
      "text/html": [
       "<div>\n",
       "<style scoped>\n",
       "    .dataframe tbody tr th:only-of-type {\n",
       "        vertical-align: middle;\n",
       "    }\n",
       "\n",
       "    .dataframe tbody tr th {\n",
       "        vertical-align: top;\n",
       "    }\n",
       "\n",
       "    .dataframe thead th {\n",
       "        text-align: right;\n",
       "    }\n",
       "</style>\n",
       "<table border=\"1\" class=\"dataframe\">\n",
       "  <thead>\n",
       "    <tr style=\"text-align: right;\">\n",
       "      <th></th>\n",
       "      <th>户型</th>\n",
       "      <th>建筑面积</th>\n",
       "      <th>朝向</th>\n",
       "      <th>楼层</th>\n",
       "      <th>装修</th>\n",
       "      <th>建筑年代</th>\n",
       "      <th>电梯</th>\n",
       "      <th>产权性质</th>\n",
       "      <th>住宅类别</th>\n",
       "      <th>建筑结构</th>\n",
       "      <th>建筑类别</th>\n",
       "      <th>区域</th>\n",
       "      <th>单价</th>\n",
       "      <th>地铁</th>\n",
       "      <th>地铁距离</th>\n",
       "      <th>总价</th>\n",
       "    </tr>\n",
       "  </thead>\n",
       "  <tbody>\n",
       "    <tr>\n",
       "      <th>0</th>\n",
       "      <td>2室1厅1卫</td>\n",
       "      <td>64.48</td>\n",
       "      <td>东南</td>\n",
       "      <td>低层</td>\n",
       "      <td>精装修</td>\n",
       "      <td>2006</td>\n",
       "      <td>有</td>\n",
       "      <td>商品房</td>\n",
       "      <td>普通住宅</td>\n",
       "      <td>平层</td>\n",
       "      <td>板楼</td>\n",
       "      <td>硚口</td>\n",
       "      <td>13958.0</td>\n",
       "      <td>1号线</td>\n",
       "      <td>587米</td>\n",
       "      <td>90.0</td>\n",
       "    </tr>\n",
       "    <tr>\n",
       "      <th>1</th>\n",
       "      <td>2室2厅1卫</td>\n",
       "      <td>64.10</td>\n",
       "      <td>西南</td>\n",
       "      <td>中层</td>\n",
       "      <td>精装修</td>\n",
       "      <td>2009</td>\n",
       "      <td>有</td>\n",
       "      <td>商品房</td>\n",
       "      <td>普通住宅</td>\n",
       "      <td>平层</td>\n",
       "      <td>板楼</td>\n",
       "      <td>江岸</td>\n",
       "      <td>16069.0</td>\n",
       "      <td>8号线</td>\n",
       "      <td>946米</td>\n",
       "      <td>103.0</td>\n",
       "    </tr>\n",
       "    <tr>\n",
       "      <th>2</th>\n",
       "      <td>4室2厅2卫</td>\n",
       "      <td>148.05</td>\n",
       "      <td>南北</td>\n",
       "      <td>中层</td>\n",
       "      <td>精装修</td>\n",
       "      <td>2006</td>\n",
       "      <td>有</td>\n",
       "      <td>商品房</td>\n",
       "      <td>普通住宅</td>\n",
       "      <td>平层</td>\n",
       "      <td>板楼</td>\n",
       "      <td>武昌</td>\n",
       "      <td>17224.0</td>\n",
       "      <td>7号线</td>\n",
       "      <td>509米</td>\n",
       "      <td>255.0</td>\n",
       "    </tr>\n",
       "    <tr>\n",
       "      <th>3</th>\n",
       "      <td>3室2厅1卫</td>\n",
       "      <td>110.39</td>\n",
       "      <td>东南</td>\n",
       "      <td>低层</td>\n",
       "      <td>精装修</td>\n",
       "      <td>2006</td>\n",
       "      <td>有</td>\n",
       "      <td>商品房</td>\n",
       "      <td>普通住宅</td>\n",
       "      <td>平层</td>\n",
       "      <td>板楼</td>\n",
       "      <td>武昌</td>\n",
       "      <td>19023.0</td>\n",
       "      <td>7号线</td>\n",
       "      <td>509米</td>\n",
       "      <td>210.0</td>\n",
       "    </tr>\n",
       "    <tr>\n",
       "      <th>4</th>\n",
       "      <td>3室2厅2卫</td>\n",
       "      <td>129.16</td>\n",
       "      <td>南北</td>\n",
       "      <td>低层</td>\n",
       "      <td>中装修</td>\n",
       "      <td>2005</td>\n",
       "      <td>有</td>\n",
       "      <td>商品房</td>\n",
       "      <td>普通住宅</td>\n",
       "      <td>平层</td>\n",
       "      <td>板楼</td>\n",
       "      <td>武昌</td>\n",
       "      <td>15485.0</td>\n",
       "      <td>7号线</td>\n",
       "      <td>613米</td>\n",
       "      <td>200.0</td>\n",
       "    </tr>\n",
       "  </tbody>\n",
       "</table>\n",
       "</div>"
      ],
      "text/plain": [
       "       户型    建筑面积  朝向  楼层   装修  建筑年代 电梯 产权性质  住宅类别 建筑结构 建筑类别  区域       单价  \\\n",
       "0  2室1厅1卫   64.48  东南  低层  精装修  2006  有  商品房  普通住宅   平层   板楼  硚口  13958.0   \n",
       "1  2室2厅1卫   64.10  西南  中层  精装修  2009  有  商品房  普通住宅   平层   板楼  江岸  16069.0   \n",
       "2  4室2厅2卫  148.05  南北  中层  精装修  2006  有  商品房  普通住宅   平层   板楼  武昌  17224.0   \n",
       "3  3室2厅1卫  110.39  东南  低层  精装修  2006  有  商品房  普通住宅   平层   板楼  武昌  19023.0   \n",
       "4  3室2厅2卫  129.16  南北  低层  中装修  2005  有  商品房  普通住宅   平层   板楼  武昌  15485.0   \n",
       "\n",
       "    地铁  地铁距离     总价  \n",
       "0  1号线  587米   90.0  \n",
       "1  8号线  946米  103.0  \n",
       "2  7号线  509米  255.0  \n",
       "3  7号线  509米  210.0  \n",
       "4  7号线  613米  200.0  "
      ]
     },
     "execution_count": 2,
     "metadata": {},
     "output_type": "execute_result"
    }
   ],
   "source": [
    "d1=pd.read_csv(\"wuhan_houses_clean.csv\",encoding='utf-8')\n",
    "d1.head()"
   ]
  },
  {
   "cell_type": "markdown",
   "id": "b0565dc1-5f5a-4c79-bb1f-75430b329a78",
   "metadata": {},
   "source": [
    "### 1.2特征值预处理"
   ]
  },
  {
   "cell_type": "code",
   "execution_count": 3,
   "id": "4c3e7ec0-70cd-4cd5-8f0d-0b7e9c698d97",
   "metadata": {},
   "outputs": [],
   "source": [
    "#删除所有的缺失值\n",
    "d1=d1.dropna().reset_index(drop=True)"
   ]
  },
  {
   "cell_type": "code",
   "execution_count": 4,
   "id": "93fbee0e-1b11-4fae-ba93-617b8f3586bf",
   "metadata": {},
   "outputs": [
    {
     "data": {
      "text/html": [
       "<div>\n",
       "<style scoped>\n",
       "    .dataframe tbody tr th:only-of-type {\n",
       "        vertical-align: middle;\n",
       "    }\n",
       "\n",
       "    .dataframe tbody tr th {\n",
       "        vertical-align: top;\n",
       "    }\n",
       "\n",
       "    .dataframe thead th {\n",
       "        text-align: right;\n",
       "    }\n",
       "</style>\n",
       "<table border=\"1\" class=\"dataframe\">\n",
       "  <thead>\n",
       "    <tr style=\"text-align: right;\">\n",
       "      <th></th>\n",
       "      <th>户型</th>\n",
       "      <th>建筑面积</th>\n",
       "      <th>朝向</th>\n",
       "      <th>楼层</th>\n",
       "      <th>装修</th>\n",
       "      <th>建筑年代</th>\n",
       "      <th>电梯</th>\n",
       "      <th>产权性质</th>\n",
       "      <th>住宅类别</th>\n",
       "      <th>建筑结构</th>\n",
       "      <th>建筑类别</th>\n",
       "      <th>区域</th>\n",
       "      <th>单价</th>\n",
       "      <th>地铁</th>\n",
       "      <th>地铁距离</th>\n",
       "      <th>总价</th>\n",
       "      <th>室</th>\n",
       "      <th>厅</th>\n",
       "      <th>卫</th>\n",
       "    </tr>\n",
       "  </thead>\n",
       "  <tbody>\n",
       "    <tr>\n",
       "      <th>0</th>\n",
       "      <td>2室1厅1卫</td>\n",
       "      <td>64.48</td>\n",
       "      <td>东南</td>\n",
       "      <td>低层</td>\n",
       "      <td>精装修</td>\n",
       "      <td>2006</td>\n",
       "      <td>有</td>\n",
       "      <td>商品房</td>\n",
       "      <td>普通住宅</td>\n",
       "      <td>平层</td>\n",
       "      <td>板楼</td>\n",
       "      <td>硚口</td>\n",
       "      <td>13958.0</td>\n",
       "      <td>1号线</td>\n",
       "      <td>587米</td>\n",
       "      <td>90.0</td>\n",
       "      <td>2</td>\n",
       "      <td>1</td>\n",
       "      <td>1</td>\n",
       "    </tr>\n",
       "    <tr>\n",
       "      <th>1</th>\n",
       "      <td>2室2厅1卫</td>\n",
       "      <td>64.10</td>\n",
       "      <td>西南</td>\n",
       "      <td>中层</td>\n",
       "      <td>精装修</td>\n",
       "      <td>2009</td>\n",
       "      <td>有</td>\n",
       "      <td>商品房</td>\n",
       "      <td>普通住宅</td>\n",
       "      <td>平层</td>\n",
       "      <td>板楼</td>\n",
       "      <td>江岸</td>\n",
       "      <td>16069.0</td>\n",
       "      <td>8号线</td>\n",
       "      <td>946米</td>\n",
       "      <td>103.0</td>\n",
       "      <td>2</td>\n",
       "      <td>2</td>\n",
       "      <td>1</td>\n",
       "    </tr>\n",
       "    <tr>\n",
       "      <th>2</th>\n",
       "      <td>4室2厅2卫</td>\n",
       "      <td>148.05</td>\n",
       "      <td>南北</td>\n",
       "      <td>中层</td>\n",
       "      <td>精装修</td>\n",
       "      <td>2006</td>\n",
       "      <td>有</td>\n",
       "      <td>商品房</td>\n",
       "      <td>普通住宅</td>\n",
       "      <td>平层</td>\n",
       "      <td>板楼</td>\n",
       "      <td>武昌</td>\n",
       "      <td>17224.0</td>\n",
       "      <td>7号线</td>\n",
       "      <td>509米</td>\n",
       "      <td>255.0</td>\n",
       "      <td>4</td>\n",
       "      <td>2</td>\n",
       "      <td>2</td>\n",
       "    </tr>\n",
       "  </tbody>\n",
       "</table>\n",
       "</div>"
      ],
      "text/plain": [
       "       户型    建筑面积  朝向  楼层   装修  建筑年代 电梯 产权性质  住宅类别 建筑结构 建筑类别  区域       单价  \\\n",
       "0  2室1厅1卫   64.48  东南  低层  精装修  2006  有  商品房  普通住宅   平层   板楼  硚口  13958.0   \n",
       "1  2室2厅1卫   64.10  西南  中层  精装修  2009  有  商品房  普通住宅   平层   板楼  江岸  16069.0   \n",
       "2  4室2厅2卫  148.05  南北  中层  精装修  2006  有  商品房  普通住宅   平层   板楼  武昌  17224.0   \n",
       "\n",
       "    地铁  地铁距离     总价  室  厅  卫  \n",
       "0  1号线  587米   90.0  2  1  1  \n",
       "1  8号线  946米  103.0  2  2  1  \n",
       "2  7号线  509米  255.0  4  2  2  "
      ]
     },
     "execution_count": 4,
     "metadata": {},
     "output_type": "execute_result"
    }
   ],
   "source": [
    "#将户型分解，2室1厅1卫拆分为room:2,hall:1,wc:1\n",
    "d1[\"室\"]=d1[\"户型\"].map(lambda x: x.split(\"室\")[0])\n",
    "d1[\"厅\"]=d1[\"户型\"].map(lambda x: x.split(\"厅\")[0].split(\"室\")[1])\n",
    "d1[\"卫\"]=d1[\"户型\"].map(lambda x: x.split(\"卫\")[0].split(\"厅\")[1])\n",
    "d1.head(3)"
   ]
  },
  {
   "cell_type": "code",
   "execution_count": 5,
   "id": "f714810f-2f2d-4913-bf74-2ba510f3be45",
   "metadata": {},
   "outputs": [],
   "source": [
    "#删掉没用的列，户型，单价\n",
    "d1.drop(columns=[\"户型\",\"单价\"],inplace=True)"
   ]
  },
  {
   "cell_type": "code",
   "execution_count": 6,
   "id": "c55468ae-1c3a-4cab-a0ae-b5986487f3cd",
   "metadata": {},
   "outputs": [
    {
     "data": {
      "text/html": [
       "<div>\n",
       "<style scoped>\n",
       "    .dataframe tbody tr th:only-of-type {\n",
       "        vertical-align: middle;\n",
       "    }\n",
       "\n",
       "    .dataframe tbody tr th {\n",
       "        vertical-align: top;\n",
       "    }\n",
       "\n",
       "    .dataframe thead th {\n",
       "        text-align: right;\n",
       "    }\n",
       "</style>\n",
       "<table border=\"1\" class=\"dataframe\">\n",
       "  <thead>\n",
       "    <tr style=\"text-align: right;\">\n",
       "      <th></th>\n",
       "      <th>建筑面积</th>\n",
       "      <th>朝向</th>\n",
       "      <th>楼层</th>\n",
       "      <th>装修</th>\n",
       "      <th>建筑年代</th>\n",
       "      <th>电梯</th>\n",
       "      <th>产权性质</th>\n",
       "      <th>住宅类别</th>\n",
       "      <th>建筑结构</th>\n",
       "      <th>建筑类别</th>\n",
       "      <th>区域</th>\n",
       "      <th>地铁</th>\n",
       "      <th>地铁距离</th>\n",
       "      <th>总价</th>\n",
       "      <th>室</th>\n",
       "      <th>厅</th>\n",
       "      <th>卫</th>\n",
       "    </tr>\n",
       "  </thead>\n",
       "  <tbody>\n",
       "    <tr>\n",
       "      <th>0</th>\n",
       "      <td>64.48</td>\n",
       "      <td>东南</td>\n",
       "      <td>低层</td>\n",
       "      <td>精装修</td>\n",
       "      <td>2006</td>\n",
       "      <td>有</td>\n",
       "      <td>商品房</td>\n",
       "      <td>普通住宅</td>\n",
       "      <td>平层</td>\n",
       "      <td>板楼</td>\n",
       "      <td>硚口</td>\n",
       "      <td>1号线</td>\n",
       "      <td>587米</td>\n",
       "      <td>90.0</td>\n",
       "      <td>2</td>\n",
       "      <td>1</td>\n",
       "      <td>1</td>\n",
       "    </tr>\n",
       "    <tr>\n",
       "      <th>1</th>\n",
       "      <td>64.10</td>\n",
       "      <td>西南</td>\n",
       "      <td>中层</td>\n",
       "      <td>精装修</td>\n",
       "      <td>2009</td>\n",
       "      <td>有</td>\n",
       "      <td>商品房</td>\n",
       "      <td>普通住宅</td>\n",
       "      <td>平层</td>\n",
       "      <td>板楼</td>\n",
       "      <td>江岸</td>\n",
       "      <td>8号线</td>\n",
       "      <td>946米</td>\n",
       "      <td>103.0</td>\n",
       "      <td>2</td>\n",
       "      <td>2</td>\n",
       "      <td>1</td>\n",
       "    </tr>\n",
       "    <tr>\n",
       "      <th>2</th>\n",
       "      <td>148.05</td>\n",
       "      <td>南北</td>\n",
       "      <td>中层</td>\n",
       "      <td>精装修</td>\n",
       "      <td>2006</td>\n",
       "      <td>有</td>\n",
       "      <td>商品房</td>\n",
       "      <td>普通住宅</td>\n",
       "      <td>平层</td>\n",
       "      <td>板楼</td>\n",
       "      <td>武昌</td>\n",
       "      <td>7号线</td>\n",
       "      <td>509米</td>\n",
       "      <td>255.0</td>\n",
       "      <td>4</td>\n",
       "      <td>2</td>\n",
       "      <td>2</td>\n",
       "    </tr>\n",
       "    <tr>\n",
       "      <th>3</th>\n",
       "      <td>110.39</td>\n",
       "      <td>东南</td>\n",
       "      <td>低层</td>\n",
       "      <td>精装修</td>\n",
       "      <td>2006</td>\n",
       "      <td>有</td>\n",
       "      <td>商品房</td>\n",
       "      <td>普通住宅</td>\n",
       "      <td>平层</td>\n",
       "      <td>板楼</td>\n",
       "      <td>武昌</td>\n",
       "      <td>7号线</td>\n",
       "      <td>509米</td>\n",
       "      <td>210.0</td>\n",
       "      <td>3</td>\n",
       "      <td>2</td>\n",
       "      <td>1</td>\n",
       "    </tr>\n",
       "    <tr>\n",
       "      <th>4</th>\n",
       "      <td>129.16</td>\n",
       "      <td>南北</td>\n",
       "      <td>低层</td>\n",
       "      <td>中装修</td>\n",
       "      <td>2005</td>\n",
       "      <td>有</td>\n",
       "      <td>商品房</td>\n",
       "      <td>普通住宅</td>\n",
       "      <td>平层</td>\n",
       "      <td>板楼</td>\n",
       "      <td>武昌</td>\n",
       "      <td>7号线</td>\n",
       "      <td>613米</td>\n",
       "      <td>200.0</td>\n",
       "      <td>3</td>\n",
       "      <td>2</td>\n",
       "      <td>2</td>\n",
       "    </tr>\n",
       "  </tbody>\n",
       "</table>\n",
       "</div>"
      ],
      "text/plain": [
       "     建筑面积  朝向  楼层   装修  建筑年代 电梯 产权性质  住宅类别 建筑结构 建筑类别  区域   地铁  地铁距离     总价  室  \\\n",
       "0   64.48  东南  低层  精装修  2006  有  商品房  普通住宅   平层   板楼  硚口  1号线  587米   90.0  2   \n",
       "1   64.10  西南  中层  精装修  2009  有  商品房  普通住宅   平层   板楼  江岸  8号线  946米  103.0  2   \n",
       "2  148.05  南北  中层  精装修  2006  有  商品房  普通住宅   平层   板楼  武昌  7号线  509米  255.0  4   \n",
       "3  110.39  东南  低层  精装修  2006  有  商品房  普通住宅   平层   板楼  武昌  7号线  509米  210.0  3   \n",
       "4  129.16  南北  低层  中装修  2005  有  商品房  普通住宅   平层   板楼  武昌  7号线  613米  200.0  3   \n",
       "\n",
       "   厅  卫  \n",
       "0  1  1  \n",
       "1  2  1  \n",
       "2  2  2  \n",
       "3  2  1  \n",
       "4  2  2  "
      ]
     },
     "execution_count": 6,
     "metadata": {},
     "output_type": "execute_result"
    }
   ],
   "source": [
    "d1.head()"
   ]
  },
  {
   "cell_type": "markdown",
   "id": "98308a9e-1729-4468-aeb9-f28ffa908146",
   "metadata": {},
   "source": [
    "### 1.3编码"
   ]
  },
  {
   "cell_type": "markdown",
   "id": "42d05ab7-d532-45a9-bd56-cd2bce27a96c",
   "metadata": {},
   "source": [
    "编码-有序多分类，按照对总价影响程度排名，越大影响越高(由powerbi可视化结果)\n",
    "\n",
    "无序多分类无法直接引入，必须“哑元”化变量\n",
    "\n",
    "等级变量（有序多分类）可以直接引入模型"
   ]
  },
  {
   "cell_type": "code",
   "execution_count": 7,
   "id": "3f061b3f-49d8-4ee9-9ebc-2a2730623d9e",
   "metadata": {},
   "outputs": [
    {
     "data": {
      "text/html": [
       "<div>\n",
       "<style scoped>\n",
       "    .dataframe tbody tr th:only-of-type {\n",
       "        vertical-align: middle;\n",
       "    }\n",
       "\n",
       "    .dataframe tbody tr th {\n",
       "        vertical-align: top;\n",
       "    }\n",
       "\n",
       "    .dataframe thead th {\n",
       "        text-align: right;\n",
       "    }\n",
       "</style>\n",
       "<table border=\"1\" class=\"dataframe\">\n",
       "  <thead>\n",
       "    <tr style=\"text-align: right;\">\n",
       "      <th></th>\n",
       "      <th>建筑面积</th>\n",
       "      <th>朝向</th>\n",
       "      <th>楼层</th>\n",
       "      <th>装修</th>\n",
       "      <th>建筑年代</th>\n",
       "      <th>电梯</th>\n",
       "      <th>产权性质</th>\n",
       "      <th>住宅类别</th>\n",
       "      <th>建筑结构</th>\n",
       "      <th>建筑类别</th>\n",
       "      <th>区域</th>\n",
       "      <th>地铁</th>\n",
       "      <th>地铁距离</th>\n",
       "      <th>总价</th>\n",
       "      <th>室</th>\n",
       "      <th>厅</th>\n",
       "      <th>卫</th>\n",
       "    </tr>\n",
       "  </thead>\n",
       "  <tbody>\n",
       "    <tr>\n",
       "      <th>0</th>\n",
       "      <td>64.48</td>\n",
       "      <td>东南</td>\n",
       "      <td>低层</td>\n",
       "      <td>精装修</td>\n",
       "      <td>2006</td>\n",
       "      <td>有</td>\n",
       "      <td>商品房</td>\n",
       "      <td>普通住宅</td>\n",
       "      <td>平层</td>\n",
       "      <td>板楼</td>\n",
       "      <td>硚口</td>\n",
       "      <td>1号线</td>\n",
       "      <td>587米</td>\n",
       "      <td>90.0</td>\n",
       "      <td>2</td>\n",
       "      <td>1</td>\n",
       "      <td>1</td>\n",
       "    </tr>\n",
       "    <tr>\n",
       "      <th>1</th>\n",
       "      <td>64.10</td>\n",
       "      <td>西南</td>\n",
       "      <td>中层</td>\n",
       "      <td>精装修</td>\n",
       "      <td>2009</td>\n",
       "      <td>有</td>\n",
       "      <td>商品房</td>\n",
       "      <td>普通住宅</td>\n",
       "      <td>平层</td>\n",
       "      <td>板楼</td>\n",
       "      <td>江岸</td>\n",
       "      <td>8号线</td>\n",
       "      <td>946米</td>\n",
       "      <td>103.0</td>\n",
       "      <td>2</td>\n",
       "      <td>2</td>\n",
       "      <td>1</td>\n",
       "    </tr>\n",
       "  </tbody>\n",
       "</table>\n",
       "</div>"
      ],
      "text/plain": [
       "    建筑面积  朝向  楼层   装修  建筑年代 电梯 产权性质  住宅类别 建筑结构 建筑类别  区域   地铁  地铁距离     总价  室  \\\n",
       "0  64.48  东南  低层  精装修  2006  有  商品房  普通住宅   平层   板楼  硚口  1号线  587米   90.0  2   \n",
       "1  64.10  西南  中层  精装修  2009  有  商品房  普通住宅   平层   板楼  江岸  8号线  946米  103.0  2   \n",
       "\n",
       "   厅  卫  \n",
       "0  1  1  \n",
       "1  2  1  "
      ]
     },
     "execution_count": 7,
     "metadata": {},
     "output_type": "execute_result"
    }
   ],
   "source": [
    "df=copy.deepcopy(d1)\n",
    "df.head(2)"
   ]
  },
  {
   "cell_type": "code",
   "execution_count": 8,
   "id": "096593de-66f7-4535-8d7c-0f4560238b57",
   "metadata": {},
   "outputs": [
    {
     "data": {
      "text/plain": [
       "Index(['建筑面积', '朝向', '楼层', '装修', '建筑年代', '电梯', '产权性质', '住宅类别', '建筑结构', '建筑类别',\n",
       "       '区域', '地铁', '地铁距离', '总价', '室', '厅', '卫'],\n",
       "      dtype='object')"
      ]
     },
     "execution_count": 8,
     "metadata": {},
     "output_type": "execute_result"
    }
   ],
   "source": [
    "df.columns"
   ]
  },
  {
   "cell_type": "code",
   "execution_count": 9,
   "id": "2e44ce9a-7d96-4f96-a05e-6e4c64ca4191",
   "metadata": {},
   "outputs": [],
   "source": [
    "#朝向\n",
    "map1={'东南':8, '西南':9, '南北':6, '南':4, '西':1, '东北':3, '北':2, '东':5, '西北':10, '东西':7}\n",
    "df[\"朝向\"]=df[\"朝向\"].map(map1)"
   ]
  },
  {
   "cell_type": "code",
   "execution_count": 10,
   "id": "b6bfe2c7-fcc5-4767-89af-35c18c9b44c3",
   "metadata": {},
   "outputs": [],
   "source": [
    "#楼层\n",
    "map2={'低层':1, '中层':3, '高层':2, '底层':4, '顶层':5}\n",
    "df[\"楼层\"]=df[\"楼层\"].map(map2)"
   ]
  },
  {
   "cell_type": "code",
   "execution_count": 11,
   "id": "ae7668da-e398-4bb9-953b-b646065b50fc",
   "metadata": {},
   "outputs": [],
   "source": [
    "#装修\n",
    "map3={'精装修':4, '中装修':2, '毛坯':3, '简装修':1, '豪华装修':5}\n",
    "df[\"装修\"]=df[\"装修\"].map(map3)"
   ]
  },
  {
   "cell_type": "code",
   "execution_count": 12,
   "id": "9cce37e7-770c-479e-885d-0aed9e2efdbf",
   "metadata": {},
   "outputs": [],
   "source": [
    "#电梯\n",
    "map4={'有':1, '无':2}\n",
    "df[\"电梯\"]=df[\"电梯\"].map(map4)"
   ]
  },
  {
   "cell_type": "code",
   "execution_count": 13,
   "id": "2cc84794-5729-458d-adbf-1a2e55df55ad",
   "metadata": {},
   "outputs": [],
   "source": [
    "#产权性质\n",
    "map5={'商品房':2, '经济适用房':1}\n",
    "df[\"产权性质\"]=df[\"产权性质\"].map(map5)"
   ]
  },
  {
   "cell_type": "code",
   "execution_count": 14,
   "id": "18c22d07-c945-4cd7-9a48-1ae8bbfe786a",
   "metadata": {},
   "outputs": [],
   "source": [
    "#住宅类别\n",
    "map6={'普通住宅':4, '平层':1, '公寓':2, '经济适用房':3}\n",
    "df[\"住宅类别\"]=df[\"住宅类别\"].map(map6)"
   ]
  },
  {
   "cell_type": "code",
   "execution_count": 15,
   "id": "8e9cae99-0113-40d8-9526-51bde1b860f2",
   "metadata": {},
   "outputs": [],
   "source": [
    "#建筑结构\n",
    "map7={'平层':1, '复式':2}\n",
    "df[\"建筑结构\"]=df[\"建筑结构\"].map(map7)"
   ]
  },
  {
   "cell_type": "code",
   "execution_count": 16,
   "id": "e166e37f-b9f6-4978-a4a3-16f71ac6ac19",
   "metadata": {},
   "outputs": [],
   "source": [
    "#建筑类别\n",
    "map8={'板楼':1}\n",
    "df[\"建筑类别\"]=df[\"建筑类别\"].map(map8)"
   ]
  },
  {
   "cell_type": "code",
   "execution_count": 17,
   "id": "cb704131-f06e-437d-a8cc-a93d6e3d14db",
   "metadata": {},
   "outputs": [],
   "source": [
    "#区域\n",
    "map9={'硚口':11, '江岸':15, '武昌':14, '东湖高新区':12, '洪山':8, '汉阳':9, '青山':10, '江汉':13, '东西湖':5, '江夏':4,\n",
    "       '武汉周边':1, '沌口':6, '黄陂':3, '经济开发区':5, '汉南':7, '蔡甸':2}\n",
    "df[\"区域\"]=df[\"区域\"].map(map9)"
   ]
  },
  {
   "cell_type": "code",
   "execution_count": 18,
   "id": "7be79fe2-392a-45ce-9e2b-4c1f773108a3",
   "metadata": {},
   "outputs": [],
   "source": [
    "#地铁\n",
    "map10={'1号线':14, '8号线':11, '7号线':8, '无':4, '5号线':9, '19号线':3, '11号线':6, '2号线':10, '6号线':5,\n",
    "       '4号线':13, '3号线':12, '21号线':2, '16号线':1}\n",
    "df[\"地铁\"]=df[\"地铁\"].map(map10)"
   ]
  },
  {
   "cell_type": "code",
   "execution_count": 19,
   "id": "b5ffd462-3e0e-45a2-a9cd-8c6140203919",
   "metadata": {},
   "outputs": [],
   "source": [
    "#地铁距离\n",
    "import re\n",
    "#去掉最后的单位，并且变为int\n",
    "def clean_subway_distance(distance):\n",
    "    if distance != \"无\":\n",
    "        try:\n",
    "            # 去掉非数字字符并转换为整数\n",
    "            return int(re.sub(r'[^0-9]', '', distance))\n",
    "        except ValueError:\n",
    "            return 0  # 如果转换失败，设为默认值\n",
    "    else:\n",
    "        return 0  # 如果没有地铁距离，设为默认值\n",
    "\n",
    "# 应用处理函数\n",
    "df[\"地铁距离\"] = df[\"地铁距离\"].apply(clean_subway_distance)"
   ]
  },
  {
   "cell_type": "code",
   "execution_count": 20,
   "id": "fc025b7c-c424-4362-b2b7-3afa73657f0a",
   "metadata": {},
   "outputs": [],
   "source": [
    "#建筑年代\n",
    "#改为房龄，变为int\n",
    "df[\"建筑年代\"]=df[\"建筑年代\"].astype('int32')\n",
    "df[\"房龄\"]=d1[\"建筑年代\"].map(lambda x : 2025-x)\n",
    "df.drop(columns=[\"建筑年代\"],inplace=True)"
   ]
  },
  {
   "cell_type": "code",
   "execution_count": 21,
   "id": "d7f6a391-52cf-44d7-b214-d45bb8510821",
   "metadata": {},
   "outputs": [],
   "source": [
    "df['室'] = df['室'].astype(int)\n",
    "df['厅'] = df['厅'].astype(int)\n",
    "df['卫'] = df['卫'].astype(int)"
   ]
  },
  {
   "cell_type": "code",
   "execution_count": 22,
   "id": "944dfd63-f9e9-459f-91fd-4965fc0533ff",
   "metadata": {},
   "outputs": [
    {
     "data": {
      "text/html": [
       "<div>\n",
       "<style scoped>\n",
       "    .dataframe tbody tr th:only-of-type {\n",
       "        vertical-align: middle;\n",
       "    }\n",
       "\n",
       "    .dataframe tbody tr th {\n",
       "        vertical-align: top;\n",
       "    }\n",
       "\n",
       "    .dataframe thead th {\n",
       "        text-align: right;\n",
       "    }\n",
       "</style>\n",
       "<table border=\"1\" class=\"dataframe\">\n",
       "  <thead>\n",
       "    <tr style=\"text-align: right;\">\n",
       "      <th></th>\n",
       "      <th>建筑面积</th>\n",
       "      <th>朝向</th>\n",
       "      <th>楼层</th>\n",
       "      <th>装修</th>\n",
       "      <th>电梯</th>\n",
       "      <th>产权性质</th>\n",
       "      <th>住宅类别</th>\n",
       "      <th>建筑结构</th>\n",
       "      <th>建筑类别</th>\n",
       "      <th>区域</th>\n",
       "      <th>地铁</th>\n",
       "      <th>地铁距离</th>\n",
       "      <th>总价</th>\n",
       "      <th>室</th>\n",
       "      <th>厅</th>\n",
       "      <th>卫</th>\n",
       "      <th>房龄</th>\n",
       "    </tr>\n",
       "  </thead>\n",
       "  <tbody>\n",
       "    <tr>\n",
       "      <th>0</th>\n",
       "      <td>64.48</td>\n",
       "      <td>8</td>\n",
       "      <td>1</td>\n",
       "      <td>4</td>\n",
       "      <td>1</td>\n",
       "      <td>2</td>\n",
       "      <td>4</td>\n",
       "      <td>1</td>\n",
       "      <td>1</td>\n",
       "      <td>11</td>\n",
       "      <td>14</td>\n",
       "      <td>587</td>\n",
       "      <td>90.0</td>\n",
       "      <td>2</td>\n",
       "      <td>1</td>\n",
       "      <td>1</td>\n",
       "      <td>19</td>\n",
       "    </tr>\n",
       "    <tr>\n",
       "      <th>1</th>\n",
       "      <td>64.10</td>\n",
       "      <td>9</td>\n",
       "      <td>3</td>\n",
       "      <td>4</td>\n",
       "      <td>1</td>\n",
       "      <td>2</td>\n",
       "      <td>4</td>\n",
       "      <td>1</td>\n",
       "      <td>1</td>\n",
       "      <td>15</td>\n",
       "      <td>11</td>\n",
       "      <td>946</td>\n",
       "      <td>103.0</td>\n",
       "      <td>2</td>\n",
       "      <td>2</td>\n",
       "      <td>1</td>\n",
       "      <td>16</td>\n",
       "    </tr>\n",
       "    <tr>\n",
       "      <th>2</th>\n",
       "      <td>148.05</td>\n",
       "      <td>6</td>\n",
       "      <td>3</td>\n",
       "      <td>4</td>\n",
       "      <td>1</td>\n",
       "      <td>2</td>\n",
       "      <td>4</td>\n",
       "      <td>1</td>\n",
       "      <td>1</td>\n",
       "      <td>14</td>\n",
       "      <td>8</td>\n",
       "      <td>509</td>\n",
       "      <td>255.0</td>\n",
       "      <td>4</td>\n",
       "      <td>2</td>\n",
       "      <td>2</td>\n",
       "      <td>19</td>\n",
       "    </tr>\n",
       "    <tr>\n",
       "      <th>3</th>\n",
       "      <td>110.39</td>\n",
       "      <td>8</td>\n",
       "      <td>1</td>\n",
       "      <td>4</td>\n",
       "      <td>1</td>\n",
       "      <td>2</td>\n",
       "      <td>4</td>\n",
       "      <td>1</td>\n",
       "      <td>1</td>\n",
       "      <td>14</td>\n",
       "      <td>8</td>\n",
       "      <td>509</td>\n",
       "      <td>210.0</td>\n",
       "      <td>3</td>\n",
       "      <td>2</td>\n",
       "      <td>1</td>\n",
       "      <td>19</td>\n",
       "    </tr>\n",
       "    <tr>\n",
       "      <th>4</th>\n",
       "      <td>129.16</td>\n",
       "      <td>6</td>\n",
       "      <td>1</td>\n",
       "      <td>2</td>\n",
       "      <td>1</td>\n",
       "      <td>2</td>\n",
       "      <td>4</td>\n",
       "      <td>1</td>\n",
       "      <td>1</td>\n",
       "      <td>14</td>\n",
       "      <td>8</td>\n",
       "      <td>613</td>\n",
       "      <td>200.0</td>\n",
       "      <td>3</td>\n",
       "      <td>2</td>\n",
       "      <td>2</td>\n",
       "      <td>20</td>\n",
       "    </tr>\n",
       "  </tbody>\n",
       "</table>\n",
       "</div>"
      ],
      "text/plain": [
       "     建筑面积  朝向  楼层  装修  电梯  产权性质  住宅类别  建筑结构  建筑类别  区域  地铁  地铁距离     总价  室  厅  \\\n",
       "0   64.48   8   1   4   1     2     4     1     1  11  14   587   90.0  2  1   \n",
       "1   64.10   9   3   4   1     2     4     1     1  15  11   946  103.0  2  2   \n",
       "2  148.05   6   3   4   1     2     4     1     1  14   8   509  255.0  4  2   \n",
       "3  110.39   8   1   4   1     2     4     1     1  14   8   509  210.0  3  2   \n",
       "4  129.16   6   1   2   1     2     4     1     1  14   8   613  200.0  3  2   \n",
       "\n",
       "   卫  房龄  \n",
       "0  1  19  \n",
       "1  1  16  \n",
       "2  2  19  \n",
       "3  1  19  \n",
       "4  2  20  "
      ]
     },
     "execution_count": 22,
     "metadata": {},
     "output_type": "execute_result"
    }
   ],
   "source": [
    "df.head()"
   ]
  },
  {
   "cell_type": "markdown",
   "id": "c1a82c03-2b11-405a-9699-dce2e9e27b3c",
   "metadata": {},
   "source": [
    "### 1.4模型建立"
   ]
  },
  {
   "cell_type": "code",
   "execution_count": 23,
   "id": "4d8d6df7-5631-406b-8c08-5f2d2a82436c",
   "metadata": {},
   "outputs": [],
   "source": [
    "from sklearn.metrics import r2_score"
   ]
  },
  {
   "cell_type": "code",
   "execution_count": 24,
   "id": "decd4530-fcd1-43ab-a3f0-4cddcd5e880c",
   "metadata": {},
   "outputs": [],
   "source": [
    "X = df.drop(columns=[\"总价\"])\n",
    "y=df[\"总价\"]\n",
    "X_train,X_test,y_train,y_test=train_test_split(X,y,random_state=46)\n",
    "poly=PolynomialFeatures(degree=2)\n",
    "x_train = poly.fit_transform(X_train)\n",
    "x_test=poly.fit_transform(X_test)"
   ]
  },
  {
   "cell_type": "code",
   "execution_count": 26,
   "id": "50cc2983-429e-4232-a83a-8ff8646ed0ee",
   "metadata": {},
   "outputs": [
    {
     "name": "stdout",
     "output_type": "stream",
     "text": [
      "训练集得分：0.98\n",
      "测试集集得分：0.83\n",
      "R^2: 0.8327\n"
     ]
    }
   ],
   "source": [
    "#随机森林\n",
    "rf = RandomForestRegressor()\n",
    "rf.fit(x_train,y_train)\n",
    "y_pred = rf.predict(x_test)\n",
    "r2 = r2_score(y_test, y_pred)\n",
    "print(f\"训练集得分：{round(rf.score(x_train,y_train),2)}\")\n",
    "print(f\"测试集集得分：{round(rf.score(x_test,y_test),2)}\")\n",
    "print(f\"R^2: {r2:.4f}\")"
   ]
  },
  {
   "cell_type": "code",
   "execution_count": 27,
   "id": "d2a6792a-fb56-467b-a841-3c54cd814ffc",
   "metadata": {},
   "outputs": [
    {
     "name": "stdout",
     "output_type": "stream",
     "text": [
      "训练集得分：0.88\n",
      "测试集集得分：0.76\n",
      "R^2: 0.7642\n"
     ]
    }
   ],
   "source": [
    "#决策树\n",
    "dt=DecisionTreeRegressor(max_depth=6)\n",
    "dt.fit(x_train,y_train)\n",
    "y_pred = dt.predict(x_test)\n",
    "r2 = r2_score(y_test, y_pred)\n",
    "print(f\"训练集得分：{round(dt.score(x_train,y_train),2)}\")\n",
    "print(f\"测试集集得分：{round(dt.score(x_test,y_test),2)}\")\n",
    "print(f\"R^2: {r2:.4f}\")"
   ]
  },
  {
   "cell_type": "code",
   "execution_count": 28,
   "id": "82e3ade6-0525-4702-8c41-a0804188987c",
   "metadata": {},
   "outputs": [
    {
     "name": "stdout",
     "output_type": "stream",
     "text": [
      "训练集得分：0.83\n",
      "测试集集得分：0.76\n",
      "R^2: 0.7610\n"
     ]
    }
   ],
   "source": [
    "#k近邻\n",
    "kn=KNeighborsRegressor(n_neighbors=7)\n",
    "kn.fit(x_train,y_train)\n",
    "y_pred = kn.predict(x_test)\n",
    "r2 = r2_score(y_test, y_pred)\n",
    "print(f\"训练集得分：{round(kn.score(x_train,y_train),2)}\")\n",
    "print(f\"测试集集得分：{round(kn.score(x_test,y_test),2)}\")\n",
    "print(f\"R^2: {r2:.4f}\")"
   ]
  },
  {
   "cell_type": "markdown",
   "id": "2355b657-8c5b-463d-8eb2-966157e548ad",
   "metadata": {},
   "source": [
    "比较上面集中模型，最终测试集的得分都能保持在75%以上。\n",
    "\n",
    "其中随机森林训练集得分达到80%以上，是表现最好的，所以选择对随机森林进行调参优化·"
   ]
  },
  {
   "cell_type": "markdown",
   "id": "dfa66514-72b6-41ea-bb28-40ca2354de15",
   "metadata": {},
   "source": [
    "### 1.5模型调参(随机森林)"
   ]
  },
  {
   "cell_type": "markdown",
   "id": "ffb3d350-df80-4c7a-a32d-b2fb3bb6882e",
   "metadata": {},
   "source": [
    "随机森林训练集得分0.98，测试集仅0.83，说明模型过于复杂"
   ]
  },
  {
   "cell_type": "markdown",
   "id": "7675defa-e340-4121-842c-b3aec1f2f4e1",
   "metadata": {},
   "source": [
    "#### 1.5.1去掉多项式特征"
   ]
  },
  {
   "cell_type": "markdown",
   "id": "15d30a13-8afa-4d39-8466-7eadc4689fac",
   "metadata": {},
   "source": [
    "因为上面使用了PolynomialFeatures(degree=2)生成了大量多项交叉特征，其实会使树模型过拟合\n",
    "\n",
    "所以这里去掉，使用原始的特征"
   ]
  },
  {
   "cell_type": "code",
   "execution_count": 30,
   "id": "3c892e49-e000-4e9a-9ad3-8cfbe87354ed",
   "metadata": {},
   "outputs": [
    {
     "name": "stdout",
     "output_type": "stream",
     "text": [
      "训练集得分：0.9809\n",
      "无多项式特征的测试集得分：0.8618\n",
      "R^2: 0.8618\n"
     ]
    }
   ],
   "source": [
    "# 删除 PolynomialFeatures 步骤，直接使用原始特征\n",
    "X_train, X_test, y_train, y_test = train_test_split(X, y, random_state=46)\n",
    "\n",
    "rf = RandomForestRegressor(random_state=42)\n",
    "rf.fit(X_train, y_train)\n",
    "y_pred = rf.predict(X_test)\n",
    "r2 = r2_score(y_test, y_pred)\n",
    "print(f\"训练集得分：{rf.score(X_train, y_train):.4f}\")\n",
    "print(f\"无多项式特征的测试集得分：{rf.score(X_test, y_test):.4f}\")\n",
    "print(f\"R^2: {r2:.4f}\")"
   ]
  },
  {
   "cell_type": "markdown",
   "id": "abe4e922-64c6-4d0f-9aab-91abee84b79d",
   "metadata": {},
   "source": [
    "## 1.6实际预测"
   ]
  },
  {
   "cell_type": "markdown",
   "id": "72f0c1ab-50a2-420f-9b29-92cd8d7660ad",
   "metadata": {},
   "source": [
    "有一家三口，孩子即将上学，大人在汉阳工作，需要购买房子，要求如下：\n",
    "\n",
    "三室一厅一卫(3、1、1)\n",
    "\n",
    "面积大概90平米左右(90)\n",
    "\n",
    "中层(3)\n",
    "\n",
    "靠近地铁(7)\n",
    "\n",
    "东南(8)\n",
    "\n",
    "简装修(1)\n",
    "\n",
    "电梯(1)\n",
    "\n",
    "商品房(2)\n",
    "\n",
    "普通住宅(4)\n",
    "\n",
    "板楼(1)\n",
    "\n",
    "汉阳(9)\n",
    "\n",
    "距离地铁的大概距离(900)\n",
    "\n",
    "房龄(20)"
   ]
  },
  {
   "cell_type": "code",
   "execution_count": 203,
   "id": "e42d364b-eb78-418f-8949-10748cf2820a",
   "metadata": {},
   "outputs": [],
   "source": [
    "apply = np.array([90, 8, 3, 1, 1, 1, 1, 1, 1, 9, 6, 900, 3, 1, 1, 20]).reshape(1, -1)"
   ]
  },
  {
   "cell_type": "code",
   "execution_count": 204,
   "id": "94505a0b-96ea-4191-b4e6-2d508dd00e90",
   "metadata": {},
   "outputs": [],
   "source": [
    "apply_df = pd.DataFrame(apply, columns=X_train.columns) \n",
    "poly_apply = poly.transform(apply_df) \n",
    "original_apply = apply_df  "
   ]
  },
  {
   "cell_type": "code",
   "execution_count": 205,
   "id": "b398295c-b277-4d99-b983-8b19009e5f0f",
   "metadata": {},
   "outputs": [
    {
     "name": "stdout",
     "output_type": "stream",
     "text": [
      "决策树回归:102.9万元\n",
      "k近邻回归:122.71万元\n",
      "随机森林回归:116.49万元\n"
     ]
    }
   ],
   "source": [
    "dt_pred=round(dt.predict(poly_apply)[0],2)\n",
    "kn_pred=round(kn.predict(poly_apply)[0],2)\n",
    "rf_pred=round(rf.predict(original_apply)[0],2)\n",
    "print(f'决策树回归:{dt_pred}万元')\n",
    "print(f'k近邻回归:{kn_pred}万元')\n",
    "print(f'随机森林回归:{rf_pred}万元')"
   ]
  },
  {
   "cell_type": "code",
   "execution_count": 206,
   "id": "08327c73-ca81-49af-bcbb-a1c750e97b19",
   "metadata": {},
   "outputs": [
    {
     "name": "stdout",
     "output_type": "stream",
     "text": [
      "预测房价:114.7212万元\n"
     ]
    }
   ],
   "source": [
    "#利用加权平均法\n",
    "#去平衡最终的结果\n",
    "#w1=0.24（决策树）\n",
    "#w2=0.24（K近邻）\n",
    "#w3=0.52（随机森林）\n",
    "final_pred = (\n",
    "    0.24 * dt_pred + \n",
    "    0.24 * kn_pred + \n",
    "    0.52 * rf_pred\n",
    ")\n",
    "print(f'预测房价:{final_pred}万元')"
   ]
  }
 ],
 "metadata": {
  "kernelspec": {
   "display_name": "Python (myenv)",
   "language": "python",
   "name": "myenv"
  },
  "language_info": {
   "codemirror_mode": {
    "name": "ipython",
    "version": 3
   },
   "file_extension": ".py",
   "mimetype": "text/x-python",
   "name": "python",
   "nbconvert_exporter": "python",
   "pygments_lexer": "ipython3",
   "version": "3.12.4"
  }
 },
 "nbformat": 4,
 "nbformat_minor": 5
}
