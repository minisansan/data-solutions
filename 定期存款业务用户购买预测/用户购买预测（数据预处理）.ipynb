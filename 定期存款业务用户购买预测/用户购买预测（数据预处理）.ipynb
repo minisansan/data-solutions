{
 "cells": [
  {
   "cell_type": "markdown",
   "id": "cef511a9-626b-4e6a-ae44-e55f930129db",
   "metadata": {},
   "source": [
    "用户购买预测---数据预处理部分\n",
    "数据预处理 \n",
    "1.数据清洗：处理缺失值、异常值、重复值等。 数据转换：将分类变量（如职业、婚姻状况、教育水平等）转换为数值形式（如独热编码或标签编码）。 特征工程：根据业务理解，创建新的特征或对现有特征进行组合、转换。 数据标准化/归一化：对数值型特征进行标准化或归一化处理，以便模型更好地收敛\n",
    "2.探索性数据分析（EDA） 单变量分析：分析每个特征的分布情况，如年龄、账户余额等。 多变量分析：分析特征之间的相关性，如年龄与账户余额的关系，职业与购买行为的关系等。 可视化：通过图表（如柱状图、散点图、热力图等）展示数据的分布和关系。 数据的可视化通过tableau实现"
   ]
  },
  {
   "cell_type": "markdown",
   "id": "985ff80e-4e84-4316-8e36-ce699e9cb98d",
   "metadata": {},
   "source": [
    "1.业务理解\n",
    "这个表格是通过给我们一些用户的信息，让我们来预测用户是否会购买定期存款的业务"
   ]
  },
  {
   "cell_type": "markdown",
   "id": "cc37bb50-d57c-488d-be9b-c4aa7d5f76ca",
   "metadata": {},
   "source": [
    "2.数据的读入"
   ]
  },
  {
   "cell_type": "code",
   "execution_count": 1,
   "id": "3cbcd0a2-cf55-4db8-bc15-24e71e8cd2bc",
   "metadata": {},
   "outputs": [
    {
     "data": {
      "text/html": [
       "<div>\n",
       "<style scoped>\n",
       "    .dataframe tbody tr th:only-of-type {\n",
       "        vertical-align: middle;\n",
       "    }\n",
       "\n",
       "    .dataframe tbody tr th {\n",
       "        vertical-align: top;\n",
       "    }\n",
       "\n",
       "    .dataframe thead th {\n",
       "        text-align: right;\n",
       "    }\n",
       "</style>\n",
       "<table border=\"1\" class=\"dataframe\">\n",
       "  <thead>\n",
       "    <tr style=\"text-align: right;\">\n",
       "      <th></th>\n",
       "      <th>ID</th>\n",
       "      <th>age</th>\n",
       "      <th>job</th>\n",
       "      <th>marital</th>\n",
       "      <th>education</th>\n",
       "      <th>default</th>\n",
       "      <th>balance</th>\n",
       "      <th>housing</th>\n",
       "      <th>loan</th>\n",
       "      <th>contact</th>\n",
       "      <th>day</th>\n",
       "      <th>month</th>\n",
       "      <th>duration</th>\n",
       "      <th>campaign</th>\n",
       "      <th>pdays</th>\n",
       "      <th>previous</th>\n",
       "      <th>poutcome</th>\n",
       "    </tr>\n",
       "  </thead>\n",
       "  <tbody>\n",
       "    <tr>\n",
       "      <th>0</th>\n",
       "      <td>25318</td>\n",
       "      <td>51</td>\n",
       "      <td>housemaid</td>\n",
       "      <td>married</td>\n",
       "      <td>unknown</td>\n",
       "      <td>no</td>\n",
       "      <td>174</td>\n",
       "      <td>no</td>\n",
       "      <td>no</td>\n",
       "      <td>telephone</td>\n",
       "      <td>29</td>\n",
       "      <td>jul</td>\n",
       "      <td>308</td>\n",
       "      <td>3</td>\n",
       "      <td>-1</td>\n",
       "      <td>0</td>\n",
       "      <td>unknown</td>\n",
       "    </tr>\n",
       "    <tr>\n",
       "      <th>1</th>\n",
       "      <td>25319</td>\n",
       "      <td>32</td>\n",
       "      <td>management</td>\n",
       "      <td>married</td>\n",
       "      <td>tertiary</td>\n",
       "      <td>no</td>\n",
       "      <td>6059</td>\n",
       "      <td>yes</td>\n",
       "      <td>no</td>\n",
       "      <td>cellular</td>\n",
       "      <td>20</td>\n",
       "      <td>nov</td>\n",
       "      <td>110</td>\n",
       "      <td>2</td>\n",
       "      <td>-1</td>\n",
       "      <td>0</td>\n",
       "      <td>unknown</td>\n",
       "    </tr>\n",
       "    <tr>\n",
       "      <th>2</th>\n",
       "      <td>25320</td>\n",
       "      <td>60</td>\n",
       "      <td>retired</td>\n",
       "      <td>married</td>\n",
       "      <td>primary</td>\n",
       "      <td>no</td>\n",
       "      <td>0</td>\n",
       "      <td>no</td>\n",
       "      <td>no</td>\n",
       "      <td>telephone</td>\n",
       "      <td>30</td>\n",
       "      <td>jul</td>\n",
       "      <td>130</td>\n",
       "      <td>3</td>\n",
       "      <td>-1</td>\n",
       "      <td>0</td>\n",
       "      <td>unknown</td>\n",
       "    </tr>\n",
       "    <tr>\n",
       "      <th>3</th>\n",
       "      <td>25321</td>\n",
       "      <td>32</td>\n",
       "      <td>student</td>\n",
       "      <td>single</td>\n",
       "      <td>tertiary</td>\n",
       "      <td>no</td>\n",
       "      <td>64</td>\n",
       "      <td>no</td>\n",
       "      <td>no</td>\n",
       "      <td>cellular</td>\n",
       "      <td>30</td>\n",
       "      <td>jun</td>\n",
       "      <td>598</td>\n",
       "      <td>4</td>\n",
       "      <td>105</td>\n",
       "      <td>5</td>\n",
       "      <td>failure</td>\n",
       "    </tr>\n",
       "    <tr>\n",
       "      <th>4</th>\n",
       "      <td>25322</td>\n",
       "      <td>41</td>\n",
       "      <td>housemaid</td>\n",
       "      <td>married</td>\n",
       "      <td>secondary</td>\n",
       "      <td>no</td>\n",
       "      <td>0</td>\n",
       "      <td>yes</td>\n",
       "      <td>yes</td>\n",
       "      <td>cellular</td>\n",
       "      <td>15</td>\n",
       "      <td>jul</td>\n",
       "      <td>368</td>\n",
       "      <td>4</td>\n",
       "      <td>-1</td>\n",
       "      <td>0</td>\n",
       "      <td>unknown</td>\n",
       "    </tr>\n",
       "  </tbody>\n",
       "</table>\n",
       "</div>"
      ],
      "text/plain": [
       "      ID  age         job  marital  education default  balance housing loan  \\\n",
       "0  25318   51   housemaid  married    unknown      no      174      no   no   \n",
       "1  25319   32  management  married   tertiary      no     6059     yes   no   \n",
       "2  25320   60     retired  married    primary      no        0      no   no   \n",
       "3  25321   32     student   single   tertiary      no       64      no   no   \n",
       "4  25322   41   housemaid  married  secondary      no        0     yes  yes   \n",
       "\n",
       "     contact  day month  duration  campaign  pdays  previous poutcome  \n",
       "0  telephone   29   jul       308         3     -1         0  unknown  \n",
       "1   cellular   20   nov       110         2     -1         0  unknown  \n",
       "2  telephone   30   jul       130         3     -1         0  unknown  \n",
       "3   cellular   30   jun       598         4    105         5  failure  \n",
       "4   cellular   15   jul       368         4     -1         0  unknown  "
      ]
     },
     "execution_count": 1,
     "metadata": {},
     "output_type": "execute_result"
    }
   ],
   "source": [
    "import pandas as pd\n",
    "df=pd.read_csv(r\"data/user_shopping.csv\")\n",
    "df.head()"
   ]
  },
  {
   "cell_type": "markdown",
   "id": "dc22851e-b471-409d-8734-b1d697cf8c36",
   "metadata": {},
   "source": [
    "3.数据的初步了解"
   ]
  },
  {
   "cell_type": "code",
   "execution_count": 2,
   "id": "c9ad80f3-9c06-415d-a20c-bcfcb9e1efab",
   "metadata": {},
   "outputs": [
    {
     "data": {
      "text/plain": [
       "(10852, 17)"
      ]
     },
     "execution_count": 2,
     "metadata": {},
     "output_type": "execute_result"
    }
   ],
   "source": [
    "df.shape"
   ]
  },
  {
   "cell_type": "code",
   "execution_count": 3,
   "id": "f646ead6-d3c4-4f0e-8c9d-add1d6fb1847",
   "metadata": {},
   "outputs": [
    {
     "data": {
      "text/plain": [
       "Index(['ID', 'age', 'job', 'marital', 'education', 'default', 'balance',\n",
       "       'housing', 'loan', 'contact', 'day', 'month', 'duration', 'campaign',\n",
       "       'pdays', 'previous', 'poutcome'],\n",
       "      dtype='object')"
      ]
     },
     "execution_count": 3,
     "metadata": {},
     "output_type": "execute_result"
    }
   ],
   "source": [
    "df.columns"
   ]
  },
  {
   "cell_type": "code",
   "execution_count": 4,
   "id": "91951ff3-f53f-49b8-8dda-eb1befebeb39",
   "metadata": {},
   "outputs": [
    {
     "data": {
      "text/html": [
       "<div>\n",
       "<style scoped>\n",
       "    .dataframe tbody tr th:only-of-type {\n",
       "        vertical-align: middle;\n",
       "    }\n",
       "\n",
       "    .dataframe tbody tr th {\n",
       "        vertical-align: top;\n",
       "    }\n",
       "\n",
       "    .dataframe thead th {\n",
       "        text-align: right;\n",
       "    }\n",
       "</style>\n",
       "<table border=\"1\" class=\"dataframe\">\n",
       "  <thead>\n",
       "    <tr style=\"text-align: right;\">\n",
       "      <th></th>\n",
       "      <th>ID</th>\n",
       "      <th>age</th>\n",
       "      <th>balance</th>\n",
       "      <th>day</th>\n",
       "      <th>duration</th>\n",
       "      <th>campaign</th>\n",
       "      <th>pdays</th>\n",
       "      <th>previous</th>\n",
       "    </tr>\n",
       "  </thead>\n",
       "  <tbody>\n",
       "    <tr>\n",
       "      <th>count</th>\n",
       "      <td>10852.000000</td>\n",
       "      <td>10852.000000</td>\n",
       "      <td>10852.000000</td>\n",
       "      <td>10852.000000</td>\n",
       "      <td>10852.000000</td>\n",
       "      <td>10852.000000</td>\n",
       "      <td>10852.000000</td>\n",
       "      <td>10852.000000</td>\n",
       "    </tr>\n",
       "    <tr>\n",
       "      <th>mean</th>\n",
       "      <td>30743.500000</td>\n",
       "      <td>41.040638</td>\n",
       "      <td>1393.157298</td>\n",
       "      <td>15.680151</td>\n",
       "      <td>257.206137</td>\n",
       "      <td>2.770365</td>\n",
       "      <td>39.954755</td>\n",
       "      <td>0.546443</td>\n",
       "    </tr>\n",
       "    <tr>\n",
       "      <th>std</th>\n",
       "      <td>3132.846895</td>\n",
       "      <td>10.652369</td>\n",
       "      <td>3318.497101</td>\n",
       "      <td>8.302317</td>\n",
       "      <td>250.480906</td>\n",
       "      <td>3.063481</td>\n",
       "      <td>99.524056</td>\n",
       "      <td>1.805938</td>\n",
       "    </tr>\n",
       "    <tr>\n",
       "      <th>min</th>\n",
       "      <td>25318.000000</td>\n",
       "      <td>18.000000</td>\n",
       "      <td>-2604.000000</td>\n",
       "      <td>1.000000</td>\n",
       "      <td>0.000000</td>\n",
       "      <td>1.000000</td>\n",
       "      <td>-1.000000</td>\n",
       "      <td>0.000000</td>\n",
       "    </tr>\n",
       "    <tr>\n",
       "      <th>25%</th>\n",
       "      <td>28030.750000</td>\n",
       "      <td>33.000000</td>\n",
       "      <td>72.000000</td>\n",
       "      <td>8.000000</td>\n",
       "      <td>102.000000</td>\n",
       "      <td>1.000000</td>\n",
       "      <td>-1.000000</td>\n",
       "      <td>0.000000</td>\n",
       "    </tr>\n",
       "    <tr>\n",
       "      <th>50%</th>\n",
       "      <td>30743.500000</td>\n",
       "      <td>39.000000</td>\n",
       "      <td>450.000000</td>\n",
       "      <td>16.000000</td>\n",
       "      <td>181.000000</td>\n",
       "      <td>2.000000</td>\n",
       "      <td>-1.000000</td>\n",
       "      <td>0.000000</td>\n",
       "    </tr>\n",
       "    <tr>\n",
       "      <th>75%</th>\n",
       "      <td>33456.250000</td>\n",
       "      <td>49.000000</td>\n",
       "      <td>1440.250000</td>\n",
       "      <td>21.000000</td>\n",
       "      <td>322.000000</td>\n",
       "      <td>3.000000</td>\n",
       "      <td>-1.000000</td>\n",
       "      <td>0.000000</td>\n",
       "    </tr>\n",
       "    <tr>\n",
       "      <th>max</th>\n",
       "      <td>36169.000000</td>\n",
       "      <td>94.000000</td>\n",
       "      <td>81204.000000</td>\n",
       "      <td>31.000000</td>\n",
       "      <td>3102.000000</td>\n",
       "      <td>58.000000</td>\n",
       "      <td>871.000000</td>\n",
       "      <td>51.000000</td>\n",
       "    </tr>\n",
       "  </tbody>\n",
       "</table>\n",
       "</div>"
      ],
      "text/plain": [
       "                 ID           age       balance           day      duration  \\\n",
       "count  10852.000000  10852.000000  10852.000000  10852.000000  10852.000000   \n",
       "mean   30743.500000     41.040638   1393.157298     15.680151    257.206137   \n",
       "std     3132.846895     10.652369   3318.497101      8.302317    250.480906   \n",
       "min    25318.000000     18.000000  -2604.000000      1.000000      0.000000   \n",
       "25%    28030.750000     33.000000     72.000000      8.000000    102.000000   \n",
       "50%    30743.500000     39.000000    450.000000     16.000000    181.000000   \n",
       "75%    33456.250000     49.000000   1440.250000     21.000000    322.000000   \n",
       "max    36169.000000     94.000000  81204.000000     31.000000   3102.000000   \n",
       "\n",
       "           campaign         pdays      previous  \n",
       "count  10852.000000  10852.000000  10852.000000  \n",
       "mean       2.770365     39.954755      0.546443  \n",
       "std        3.063481     99.524056      1.805938  \n",
       "min        1.000000     -1.000000      0.000000  \n",
       "25%        1.000000     -1.000000      0.000000  \n",
       "50%        2.000000     -1.000000      0.000000  \n",
       "75%        3.000000     -1.000000      0.000000  \n",
       "max       58.000000    871.000000     51.000000  "
      ]
     },
     "execution_count": 4,
     "metadata": {},
     "output_type": "execute_result"
    }
   ],
   "source": [
    "#对数值型的信息进行探索\n",
    "df.describe()"
   ]
  },
  {
   "cell_type": "markdown",
   "id": "af71393a-5279-4b40-b1e9-d4fc8c2ec2dc",
   "metadata": {},
   "source": [
    "通过这个探索，可以看出来存款balance存在问题，有负数\n",
    "duration\tcampaign可能都存在异常值问题，最大值有些太大了\n",
    "以及pdays,previous都需要后续的探索"
   ]
  },
  {
   "cell_type": "code",
   "execution_count": 5,
   "id": "ac4cb713-d974-4355-931e-752b5df0ad8e",
   "metadata": {},
   "outputs": [
    {
     "name": "stdout",
     "output_type": "stream",
     "text": [
      "<class 'pandas.core.frame.DataFrame'>\n",
      "RangeIndex: 10852 entries, 0 to 10851\n",
      "Data columns (total 17 columns):\n",
      " #   Column     Non-Null Count  Dtype \n",
      "---  ------     --------------  ----- \n",
      " 0   ID         10852 non-null  int64 \n",
      " 1   age        10852 non-null  int64 \n",
      " 2   job        10852 non-null  object\n",
      " 3   marital    10852 non-null  object\n",
      " 4   education  10852 non-null  object\n",
      " 5   default    10852 non-null  object\n",
      " 6   balance    10852 non-null  int64 \n",
      " 7   housing    10852 non-null  object\n",
      " 8   loan       10852 non-null  object\n",
      " 9   contact    10852 non-null  object\n",
      " 10  day        10852 non-null  int64 \n",
      " 11  month      10852 non-null  object\n",
      " 12  duration   10852 non-null  int64 \n",
      " 13  campaign   10852 non-null  int64 \n",
      " 14  pdays      10852 non-null  int64 \n",
      " 15  previous   10852 non-null  int64 \n",
      " 16  poutcome   10852 non-null  object\n",
      "dtypes: int64(8), object(9)\n",
      "memory usage: 1.4+ MB\n"
     ]
    }
   ],
   "source": [
    "#查看数据的相关性，初步查看是否有行缺失\n",
    "df.info()"
   ]
  },
  {
   "cell_type": "code",
   "execution_count": 6,
   "id": "99050563-a46b-4938-80b2-ee38556e5a6a",
   "metadata": {},
   "outputs": [
    {
     "data": {
      "text/plain": [
       "False"
      ]
     },
     "execution_count": 6,
     "metadata": {},
     "output_type": "execute_result"
    }
   ],
   "source": [
    "#查看是否有重复值，尤其是用户id\n",
    "df.duplicated(subset=['ID']).any()"
   ]
  },
  {
   "cell_type": "markdown",
   "id": "2262d3b0-6cbf-47f7-b8fc-28313ef4d48a",
   "metadata": {},
   "source": [
    "4.数据的预处理\n",
    "首先是缺失值"
   ]
  },
  {
   "cell_type": "code",
   "execution_count": 7,
   "id": "f75d620f-54ec-45c6-86ff-81fd4e2de158",
   "metadata": {},
   "outputs": [
    {
     "data": {
      "text/plain": [
       "ID           0\n",
       "age          0\n",
       "job          0\n",
       "marital      0\n",
       "education    0\n",
       "default      0\n",
       "balance      0\n",
       "housing      0\n",
       "loan         0\n",
       "contact      0\n",
       "day          0\n",
       "month        0\n",
       "duration     0\n",
       "campaign     0\n",
       "pdays        0\n",
       "previous     0\n",
       "poutcome     0\n",
       "dtype: int64"
      ]
     },
     "execution_count": 7,
     "metadata": {},
     "output_type": "execute_result"
    }
   ],
   "source": [
    "#查看数据的缺失值\n",
    "df.isna().sum()"
   ]
  },
  {
   "cell_type": "code",
   "execution_count": 8,
   "id": "31a97751-9c92-45ae-801e-1a1d2080fe69",
   "metadata": {},
   "outputs": [
    {
     "name": "stdout",
     "output_type": "stream",
     "text": [
      "['married' 'single' 'divorced']\n",
      "['unknown' 'tertiary' 'primary' 'secondary']\n",
      "['no' 'yes']\n",
      "['no' 'yes']\n",
      "['no' 'yes']\n",
      "['jul' 'nov' 'jun' 'may' 'aug' 'apr' 'feb' 'mar' 'oct' 'jan' 'dec' 'sep']\n",
      "['telephone' 'cellular' 'unknown']\n",
      "['unknown' 'failure' 'other' 'success']\n"
     ]
    }
   ],
   "source": [
    "#查看一些string字段的取值\n",
    "for s in ['marital','education','default','housing','loan','month','contact','poutcome']:\n",
    "    print(df[s].unique())"
   ]
  },
  {
   "cell_type": "code",
   "execution_count": 9,
   "id": "eaa25ec2-11ed-4af9-b4bb-bc90bfe3ed62",
   "metadata": {},
   "outputs": [
    {
     "data": {
      "text/plain": [
       "ID              0\n",
       "age             0\n",
       "job            60\n",
       "marital         0\n",
       "education     448\n",
       "default         0\n",
       "balance         0\n",
       "housing         0\n",
       "loan            0\n",
       "contact      3112\n",
       "day             0\n",
       "month           0\n",
       "duration        0\n",
       "campaign        0\n",
       "pdays           0\n",
       "previous        0\n",
       "poutcome     8877\n",
       "dtype: int64"
      ]
     },
     "execution_count": 9,
     "metadata": {},
     "output_type": "execute_result"
    }
   ],
   "source": [
    "#可以观察到有些是有unknown的，可以当成缺失值处理\n",
    "#先查看unknown有多少行的\n",
    "df.isin(['unknown']).sum()  "
   ]
  },
  {
   "cell_type": "code",
   "execution_count": 10,
   "id": "f9d3a2ed-5b47-4781-ba4b-16bcc1f28453",
   "metadata": {},
   "outputs": [
    {
     "data": {
      "text/plain": [
       "0"
      ]
     },
     "execution_count": 10,
     "metadata": {},
     "output_type": "execute_result"
    }
   ],
   "source": [
    "#感觉还是蛮多的\n",
    "#可以将contact中unknown随机分配'telephone'和'cellular'\n",
    "import numpy as np\n",
    "df.loc[df['contact']=='unknown','contact']=np.random.choice(['telephone','cellular'])\n",
    "df['contact'].eq('unknown').sum()"
   ]
  },
  {
   "cell_type": "code",
   "execution_count": 11,
   "id": "cabc5fed-5f89-4a1e-9017-e4821829a59d",
   "metadata": {},
   "outputs": [],
   "source": [
    "#对于poutcount，里面的unknown的占比太大了，不太能全部删掉\n",
    "#但是如果不做处理的话，让unknown成为单独的一个标签的话，后续送入模型预测的效果可能会有偏差\n",
    "#所以需要对这个unknown处理\n",
    "#通过预测来更改unknown的值\n",
    "from sklearn.ensemble import RandomForestClassifier  #随机森林：很适合分类任务\n",
    "from sklearn.preprocessing import LabelEncoder #将分类的标签转换为数值标签，便于机器学的模型处理"
   ]
  },
  {
   "cell_type": "code",
   "execution_count": 12,
   "id": "92a34cbb-f1b8-463e-8053-d2bce65239b1",
   "metadata": {},
   "outputs": [
    {
     "data": {
      "text/plain": [
       "poutcome\n",
       "unknown    8877\n",
       "failure    1203\n",
       "other       405\n",
       "success     367\n",
       "Name: count, dtype: int64"
      ]
     },
     "execution_count": 12,
     "metadata": {},
     "output_type": "execute_result"
    }
   ],
   "source": [
    "#首先看看poutcome中各个值的多少\n",
    "df['poutcome'].value_counts()"
   ]
  },
  {
   "cell_type": "code",
   "execution_count": 13,
   "id": "b314dc31-e514-478e-a199-03c149de469c",
   "metadata": {},
   "outputs": [],
   "source": [
    "mask=df['poutcome']=='unknown'\n",
    "#分离已知值和未知值（训练集和预测）\n",
    "known=df[~mask]\n",
    "unknown=df[mask]\n",
    "#准备训练集\n",
    "y=known['poutcome']\n",
    "x=known.drop(columns='poutcome')"
   ]
  },
  {
   "cell_type": "code",
   "execution_count": 14,
   "id": "336d3411-4cf8-4d33-9222-75384e0ee3d7",
   "metadata": {},
   "outputs": [
    {
     "data": {
      "text/plain": [
       "{'job': LabelEncoder(),\n",
       " 'marital': LabelEncoder(),\n",
       " 'education': LabelEncoder(),\n",
       " 'default': LabelEncoder(),\n",
       " 'housing': LabelEncoder(),\n",
       " 'loan': LabelEncoder(),\n",
       " 'contact': LabelEncoder(),\n",
       " 'month': LabelEncoder()}"
      ]
     },
     "execution_count": 14,
     "metadata": {},
     "output_type": "execute_result"
    }
   ],
   "source": [
    "#使用LabelEncoder转换分类特征\n",
    "encoders={}\n",
    "for column in x.select_dtypes(include=['object']).columns:\n",
    "    le=LabelEncoder()  #创建实例\n",
    "    x[column] = le.fit_transform(x[column]) # 将当前列的分类标签转换为数值型\n",
    "    encoders[column]=le \n",
    "encoders"
   ]
  },
  {
   "cell_type": "code",
   "execution_count": 15,
   "id": "0aefb5c3-351f-4690-9579-7e76c46b9ed3",
   "metadata": {},
   "outputs": [
    {
     "data": {
      "text/plain": [
       "array([0, 1, 1, ..., 0, 1, 0])"
      ]
     },
     "execution_count": 15,
     "metadata": {},
     "output_type": "execute_result"
    }
   ],
   "source": [
    "#转换目标变量\n",
    "le_y = LabelEncoder()\n",
    "y=le_y.fit_transform(y)\n",
    "y"
   ]
  },
  {
   "cell_type": "code",
   "execution_count": 17,
   "id": "ec10188a-c366-49de-b59b-80993e7c45b9",
   "metadata": {},
   "outputs": [
    {
     "data": {
      "text/html": [
       "<div>\n",
       "<style scoped>\n",
       "    .dataframe tbody tr th:only-of-type {\n",
       "        vertical-align: middle;\n",
       "    }\n",
       "\n",
       "    .dataframe tbody tr th {\n",
       "        vertical-align: top;\n",
       "    }\n",
       "\n",
       "    .dataframe thead th {\n",
       "        text-align: right;\n",
       "    }\n",
       "</style>\n",
       "<table border=\"1\" class=\"dataframe\">\n",
       "  <thead>\n",
       "    <tr style=\"text-align: right;\">\n",
       "      <th></th>\n",
       "      <th>ID</th>\n",
       "      <th>age</th>\n",
       "      <th>job</th>\n",
       "      <th>marital</th>\n",
       "      <th>education</th>\n",
       "      <th>default</th>\n",
       "      <th>balance</th>\n",
       "      <th>housing</th>\n",
       "      <th>loan</th>\n",
       "      <th>contact</th>\n",
       "      <th>day</th>\n",
       "      <th>month</th>\n",
       "      <th>duration</th>\n",
       "      <th>campaign</th>\n",
       "      <th>pdays</th>\n",
       "      <th>previous</th>\n",
       "    </tr>\n",
       "  </thead>\n",
       "  <tbody>\n",
       "    <tr>\n",
       "      <th>0</th>\n",
       "      <td>25318</td>\n",
       "      <td>51</td>\n",
       "      <td>3</td>\n",
       "      <td>1</td>\n",
       "      <td>3</td>\n",
       "      <td>0</td>\n",
       "      <td>174</td>\n",
       "      <td>0</td>\n",
       "      <td>0</td>\n",
       "      <td>1</td>\n",
       "      <td>29</td>\n",
       "      <td>5</td>\n",
       "      <td>308</td>\n",
       "      <td>3</td>\n",
       "      <td>-1</td>\n",
       "      <td>0</td>\n",
       "    </tr>\n",
       "    <tr>\n",
       "      <th>1</th>\n",
       "      <td>25319</td>\n",
       "      <td>32</td>\n",
       "      <td>4</td>\n",
       "      <td>1</td>\n",
       "      <td>2</td>\n",
       "      <td>0</td>\n",
       "      <td>6059</td>\n",
       "      <td>1</td>\n",
       "      <td>0</td>\n",
       "      <td>0</td>\n",
       "      <td>20</td>\n",
       "      <td>9</td>\n",
       "      <td>110</td>\n",
       "      <td>2</td>\n",
       "      <td>-1</td>\n",
       "      <td>0</td>\n",
       "    </tr>\n",
       "    <tr>\n",
       "      <th>2</th>\n",
       "      <td>25320</td>\n",
       "      <td>60</td>\n",
       "      <td>5</td>\n",
       "      <td>1</td>\n",
       "      <td>0</td>\n",
       "      <td>0</td>\n",
       "      <td>0</td>\n",
       "      <td>0</td>\n",
       "      <td>0</td>\n",
       "      <td>1</td>\n",
       "      <td>30</td>\n",
       "      <td>5</td>\n",
       "      <td>130</td>\n",
       "      <td>3</td>\n",
       "      <td>-1</td>\n",
       "      <td>0</td>\n",
       "    </tr>\n",
       "    <tr>\n",
       "      <th>4</th>\n",
       "      <td>25322</td>\n",
       "      <td>41</td>\n",
       "      <td>3</td>\n",
       "      <td>1</td>\n",
       "      <td>1</td>\n",
       "      <td>0</td>\n",
       "      <td>0</td>\n",
       "      <td>1</td>\n",
       "      <td>1</td>\n",
       "      <td>0</td>\n",
       "      <td>15</td>\n",
       "      <td>5</td>\n",
       "      <td>368</td>\n",
       "      <td>4</td>\n",
       "      <td>-1</td>\n",
       "      <td>0</td>\n",
       "    </tr>\n",
       "    <tr>\n",
       "      <th>5</th>\n",
       "      <td>25323</td>\n",
       "      <td>26</td>\n",
       "      <td>9</td>\n",
       "      <td>1</td>\n",
       "      <td>1</td>\n",
       "      <td>0</td>\n",
       "      <td>-293</td>\n",
       "      <td>1</td>\n",
       "      <td>1</td>\n",
       "      <td>1</td>\n",
       "      <td>5</td>\n",
       "      <td>6</td>\n",
       "      <td>64</td>\n",
       "      <td>2</td>\n",
       "      <td>-1</td>\n",
       "      <td>0</td>\n",
       "    </tr>\n",
       "    <tr>\n",
       "      <th>...</th>\n",
       "      <td>...</td>\n",
       "      <td>...</td>\n",
       "      <td>...</td>\n",
       "      <td>...</td>\n",
       "      <td>...</td>\n",
       "      <td>...</td>\n",
       "      <td>...</td>\n",
       "      <td>...</td>\n",
       "      <td>...</td>\n",
       "      <td>...</td>\n",
       "      <td>...</td>\n",
       "      <td>...</td>\n",
       "      <td>...</td>\n",
       "      <td>...</td>\n",
       "      <td>...</td>\n",
       "      <td>...</td>\n",
       "    </tr>\n",
       "    <tr>\n",
       "      <th>10846</th>\n",
       "      <td>36164</td>\n",
       "      <td>28</td>\n",
       "      <td>4</td>\n",
       "      <td>2</td>\n",
       "      <td>2</td>\n",
       "      <td>0</td>\n",
       "      <td>78</td>\n",
       "      <td>0</td>\n",
       "      <td>0</td>\n",
       "      <td>0</td>\n",
       "      <td>28</td>\n",
       "      <td>4</td>\n",
       "      <td>258</td>\n",
       "      <td>2</td>\n",
       "      <td>-1</td>\n",
       "      <td>0</td>\n",
       "    </tr>\n",
       "    <tr>\n",
       "      <th>10847</th>\n",
       "      <td>36165</td>\n",
       "      <td>29</td>\n",
       "      <td>4</td>\n",
       "      <td>2</td>\n",
       "      <td>2</td>\n",
       "      <td>0</td>\n",
       "      <td>54</td>\n",
       "      <td>1</td>\n",
       "      <td>1</td>\n",
       "      <td>1</td>\n",
       "      <td>26</td>\n",
       "      <td>8</td>\n",
       "      <td>257</td>\n",
       "      <td>3</td>\n",
       "      <td>-1</td>\n",
       "      <td>0</td>\n",
       "    </tr>\n",
       "    <tr>\n",
       "      <th>10848</th>\n",
       "      <td>36166</td>\n",
       "      <td>35</td>\n",
       "      <td>4</td>\n",
       "      <td>1</td>\n",
       "      <td>1</td>\n",
       "      <td>0</td>\n",
       "      <td>674</td>\n",
       "      <td>0</td>\n",
       "      <td>0</td>\n",
       "      <td>0</td>\n",
       "      <td>8</td>\n",
       "      <td>1</td>\n",
       "      <td>87</td>\n",
       "      <td>2</td>\n",
       "      <td>-1</td>\n",
       "      <td>0</td>\n",
       "    </tr>\n",
       "    <tr>\n",
       "      <th>10849</th>\n",
       "      <td>36167</td>\n",
       "      <td>38</td>\n",
       "      <td>7</td>\n",
       "      <td>1</td>\n",
       "      <td>1</td>\n",
       "      <td>0</td>\n",
       "      <td>435</td>\n",
       "      <td>1</td>\n",
       "      <td>0</td>\n",
       "      <td>1</td>\n",
       "      <td>23</td>\n",
       "      <td>8</td>\n",
       "      <td>193</td>\n",
       "      <td>2</td>\n",
       "      <td>-1</td>\n",
       "      <td>0</td>\n",
       "    </tr>\n",
       "    <tr>\n",
       "      <th>10851</th>\n",
       "      <td>36169</td>\n",
       "      <td>34</td>\n",
       "      <td>1</td>\n",
       "      <td>1</td>\n",
       "      <td>0</td>\n",
       "      <td>0</td>\n",
       "      <td>15841</td>\n",
       "      <td>1</td>\n",
       "      <td>0</td>\n",
       "      <td>0</td>\n",
       "      <td>20</td>\n",
       "      <td>0</td>\n",
       "      <td>423</td>\n",
       "      <td>5</td>\n",
       "      <td>-1</td>\n",
       "      <td>0</td>\n",
       "    </tr>\n",
       "  </tbody>\n",
       "</table>\n",
       "<p>8877 rows × 16 columns</p>\n",
       "</div>"
      ],
      "text/plain": [
       "          ID  age  job  marital  education  default  balance  housing  loan  \\\n",
       "0      25318   51    3        1          3        0      174        0     0   \n",
       "1      25319   32    4        1          2        0     6059        1     0   \n",
       "2      25320   60    5        1          0        0        0        0     0   \n",
       "4      25322   41    3        1          1        0        0        1     1   \n",
       "5      25323   26    9        1          1        0     -293        1     1   \n",
       "...      ...  ...  ...      ...        ...      ...      ...      ...   ...   \n",
       "10846  36164   28    4        2          2        0       78        0     0   \n",
       "10847  36165   29    4        2          2        0       54        1     1   \n",
       "10848  36166   35    4        1          1        0      674        0     0   \n",
       "10849  36167   38    7        1          1        0      435        1     0   \n",
       "10851  36169   34    1        1          0        0    15841        1     0   \n",
       "\n",
       "       contact  day  month  duration  campaign  pdays  previous  \n",
       "0            1   29      5       308         3     -1         0  \n",
       "1            0   20      9       110         2     -1         0  \n",
       "2            1   30      5       130         3     -1         0  \n",
       "4            0   15      5       368         4     -1         0  \n",
       "5            1    5      6        64         2     -1         0  \n",
       "...        ...  ...    ...       ...       ...    ...       ...  \n",
       "10846        0   28      4       258         2     -1         0  \n",
       "10847        1   26      8       257         3     -1         0  \n",
       "10848        0    8      1        87         2     -1         0  \n",
       "10849        1   23      8       193         2     -1         0  \n",
       "10851        0   20      0       423         5     -1         0  \n",
       "\n",
       "[8877 rows x 16 columns]"
      ]
     },
     "execution_count": 17,
     "metadata": {},
     "output_type": "execute_result"
    }
   ],
   "source": [
    "#训练模型\n",
    "model=RandomForestClassifier()\n",
    "model.fit(x,y)\n",
    "#准备unknown数据传入\n",
    "unknown_transformed=unknown.drop(columns=['poutcome']) \n",
    "for column in unknown_transformed.select_dtypes(include=['object']).columns:\n",
    "    if column in encoders:\n",
    "        le = encoders[column]   #获取当前列的实例\n",
    "        unknown_transformed[column]=le.transform(unknown_transformed[column]) #使用当前实例对该列编码\n",
    "unknown_transformed"
   ]
  },
  {
   "cell_type": "code",
   "execution_count": 18,
   "id": "2351a786-4ad5-4f1f-a947-4793c8a57bf5",
   "metadata": {},
   "outputs": [],
   "source": [
    "#预测ununknown部分\n",
    "if unknown_transformed.shape[0]>0: \n",
    "    df.loc[mask,'poutcome']=le_y.inverse_transform(model.predict(unknown_transformed))\n",
    "    #选择满足mask的行（也即有unknown的行），指定poutcome进行更改值"
   ]
  },
  {
   "cell_type": "code",
   "execution_count": 19,
   "id": "dd15c193-7427-4c1c-ab8c-a27f005c51e9",
   "metadata": {},
   "outputs": [
    {
     "data": {
      "text/plain": [
       "poutcome\n",
       "other      5767\n",
       "failure    3488\n",
       "success    1597\n",
       "Name: count, dtype: int64"
      ]
     },
     "execution_count": 19,
     "metadata": {},
     "output_type": "execute_result"
    }
   ],
   "source": [
    "#再次查看poutcome里面每个值的总数\n",
    "df['poutcome'].value_counts()"
   ]
  },
  {
   "cell_type": "code",
   "execution_count": 21,
   "id": "6eff1f0a-be7c-4933-94ea-799102944c43",
   "metadata": {},
   "outputs": [],
   "source": [
    "#job和education的缺失值可以直接删掉，占比很小\n",
    "df = df[df['job'] != 'unknown' ]\n",
    "df = df[df['education'] != 'unknown' ]"
   ]
  },
  {
   "cell_type": "code",
   "execution_count": 22,
   "id": "3d24ff79-64fb-4fdd-8e90-71b4da613e8c",
   "metadata": {},
   "outputs": [
    {
     "data": {
      "text/plain": [
       "ID           0\n",
       "age          0\n",
       "job          0\n",
       "marital      0\n",
       "education    0\n",
       "default      0\n",
       "balance      0\n",
       "housing      0\n",
       "loan         0\n",
       "contact      0\n",
       "day          0\n",
       "month        0\n",
       "duration     0\n",
       "campaign     0\n",
       "pdays        0\n",
       "previous     0\n",
       "poutcome     0\n",
       "dtype: int64"
      ]
     },
     "execution_count": 22,
     "metadata": {},
     "output_type": "execute_result"
    }
   ],
   "source": [
    "#再次查看unknown的\n",
    "df.isin(['unknown']).sum()"
   ]
  },
  {
   "cell_type": "code",
   "execution_count": 27,
   "id": "806f1577-181b-41d6-9eeb-a7ea2bcc7a13",
   "metadata": {},
   "outputs": [
    {
     "data": {
      "text/plain": [
       "(10374, 17)"
      ]
     },
     "execution_count": 27,
     "metadata": {},
     "output_type": "execute_result"
    }
   ],
   "source": [
    "df.shape"
   ]
  },
  {
   "cell_type": "markdown",
   "id": "27b6655c-e091-4267-846b-48285990ea7c",
   "metadata": {},
   "source": [
    "再是异常值的处理"
   ]
  },
  {
   "cell_type": "code",
   "execution_count": 23,
   "id": "b8a80c65-47e8-4784-9025-6e59a308bedd",
   "metadata": {},
   "outputs": [],
   "source": [
    "#使用画图，来查看这些值的分布\n",
    "import matplotlib.pyplot as plt\n",
    "%matplotlib inline"
   ]
  },
  {
   "cell_type": "code",
   "execution_count": 24,
   "id": "c110565b-7704-4d2a-9f44-d03269cb194a",
   "metadata": {},
   "outputs": [
    {
     "data": {
      "image/png": "[encoded data removed]",
      "text/plain": [
       "<Figure size 640x480 with 1 Axes>"
      ]
     },
     "metadata": {},
     "output_type": "display_data"
    }
   ],
   "source": [
    "#首先可以看看age的柱形图分别\n",
    "plt.hist(df['age'], bins=30, edgecolor='black')\n",
    "plt.title('Distribution of Age')\n",
    "plt.xlabel('Age')\n",
    "plt.ylabel('Frequency')\n",
    "plt.show() "
   ]
  },
  {
   "cell_type": "code",
   "execution_count": null,
   "id": "ac6ec8ca-faec-4f02-aea1-740c861459e3",
   "metadata": {},
   "outputs": [],
   "source": [
    "#里面符合正常逻辑，没有小于0的，但是最大年龄是否太大了？，但是其实应该可以保留\n",
    "#按照业务要求，其实也有90岁以上的老人"
   ]
  },
  {
   "cell_type": "code",
   "execution_count": 30,
   "id": "5f8667b1-d989-4f10-906b-8c6b1af6d01d",
   "metadata": {},
   "outputs": [
    {
     "data": {
      "image/png": "[encoded data removed]",
      "text/plain": [
       "<Figure size 640x480 with 1 Axes>"
      ]
     },
     "metadata": {},
     "output_type": "display_data"
    }
   ],
   "source": [
    "#再看存款balance\n",
    "plt.hist(df['balance'], bins=50, edgecolor='blue')\n",
    "plt.title('Distribution of balance')\n",
    "plt.xlabel('balance')\n",
    "plt.ylabel('Frequency')\n",
    "plt.show() "
   ]
  },
  {
   "cell_type": "code",
   "execution_count": 33,
   "id": "9e007193-befc-49ba-9ea7-46b28079b085",
   "metadata": {},
   "outputs": [],
   "source": [
    "#可以看到其实还是有异常值的，存款为负数，需要处理\n",
    "#很大的数字，其实是符合逻辑的，少数人有，所以不需要处理\n",
    "df=df[df['balance']>=0]"
   ]
  },
  {
   "cell_type": "code",
   "execution_count": 36,
   "id": "2e5a12e9-f799-405e-9b48-1cd8fc19e635",
   "metadata": {},
   "outputs": [
    {
     "data": {
      "image/png": "[encoded data removed]",
      "text/plain": [
       "<Figure size 1200x600 with 2 Axes>"
      ]
     },
     "metadata": {},
     "output_type": "display_data"
    }
   ],
   "source": [
    "#最后一次交流时长duration和在本次活动中，与该客户交流过的次数campaign\n",
    "#都可以使用箱线图展示出来\n",
    "#创建一个图形和两个子图\n",
    "fig,(ax1,ax2)=plt.subplots(1,2,figsize=(12,6))\n",
    "ax1.boxplot(df['duration'])\n",
    "ax1.set_title('Duration Boxplot')\n",
    "ax1.set_xlabel('Duration')\n",
    "\n",
    "ax2.boxplot(df['campaign'])\n",
    "ax2.set_title('Campaign Boxplot')\n",
    "ax2.set_ylabel('Campaign')\n",
    "plt.show()"
   ]
  },
  {
   "cell_type": "code",
   "execution_count": 40,
   "id": "a76b31fd-99fc-42f0-ad66-23ab84d9ff45",
   "metadata": {},
   "outputs": [],
   "source": [
    "#利用IQR去掉他们两个的异常值\n",
    "def IQR_d(df,name):\n",
    "    Q1=df[name].quantile(0.25)\n",
    "    Q3=df[name].quantile(0.75)\n",
    "    IQR=Q3-Q1\n",
    "    lower=Q1-1.5*IQR\n",
    "    upper=Q3+1.5*IQR\n",
    "    df=df[(lower<=df[name]) & (upper>=df[name])]\n",
    "IQR_d(df,'duration')\n",
    "IQR_d(df,'campaign')\n",
    "#也处理previous\n",
    "IQR_d(df,'previous')"
   ]
  },
  {
   "cell_type": "code",
   "execution_count": 44,
   "id": "1db16588-cb1c-48c3-a313-f99225b0ee5b",
   "metadata": {},
   "outputs": [
    {
     "data": {
      "image/png": "[encoded data removed]",
      "text/plain": [
       "<Figure size 640x480 with 1 Axes>"
      ]
     },
     "metadata": {},
     "output_type": "display_data"
    }
   ],
   "source": [
    "#对于pdays查看他的直方图\n",
    "plt.hist(df['pdays'],edgecolor='black')\n",
    "plt.title('Distribution of pdays') \n",
    "plt.xlabel('pdays')\n",
    "plt.ylabel('Frequency')\n",
    "plt.show() "
   ]
  },
  {
   "cell_type": "code",
   "execution_count": 46,
   "id": "ce39335b-c0ce-47ef-86df-3a449ab0ee3d",
   "metadata": {},
   "outputs": [],
   "source": [
    "#保证数据大于等于0小于等于999\n",
    "df=df[(df['pdays']>=0) & (df['pdays']<=999)]"
   ]
  },
  {
   "cell_type": "markdown",
   "id": "ffc3c69b-932f-44a0-9d40-46bee9c59e20",
   "metadata": {},
   "source": [
    "数据清洗完成，现在是干净的数据了，将数据索引更新一下，导出，便于后续的处理"
   ]
  },
  {
   "cell_type": "code",
   "execution_count": 49,
   "id": "77c66d1a-1f90-4e28-a5b5-4455c0cd7f88",
   "metadata": {},
   "outputs": [],
   "source": [
    "#索引更新\n",
    "df.index=range(df.shape[0])"
   ]
  },
  {
   "cell_type": "code",
   "execution_count": null,
   "id": "5f204a3f-50ee-45e7-89be-5c9cae192f83",
   "metadata": {},
   "outputs": [],
   "source": [
    "#导出\n",
    "df.to_csv(r\"data/user_shopping.csv\")"
   ]
  }
 ],
 "metadata": {
  "kernelspec": {
   "display_name": "Python 3 (ipykernel)",
   "language": "python",
   "name": "python3"
  },
  "language_info": {
   "codemirror_mode": {
    "name": "ipython",
    "version": 3
   },
   "file_extension": ".py",
   "mimetype": "text/x-python",
   "name": "python",
   "nbconvert_exporter": "python",
   "pygments_lexer": "ipython3",
   "version": "3.12.4"
  }
 },
 "nbformat": 4,
 "nbformat_minor": 5
}
